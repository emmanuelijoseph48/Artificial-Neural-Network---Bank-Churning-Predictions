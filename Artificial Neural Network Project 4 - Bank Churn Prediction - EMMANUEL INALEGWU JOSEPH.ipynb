{
 "cells": [
  {
   "cell_type": "markdown",
   "id": "b027462b",
   "metadata": {},
   "source": [
    "## Problem Statement"
   ]
  },
  {
   "cell_type": "markdown",
   "id": "558a46d1",
   "metadata": {},
   "source": [
    "### Context"
   ]
  },
  {
   "cell_type": "markdown",
   "id": "09615c57",
   "metadata": {},
   "source": [
    "Businesses like banks which provide service have to worry about problem of 'Customer Churn' i.e. customers leaving and joining another service provider. It is important to understand which aspects of the service influence a customer's decision in this regard. Management can concentrate efforts on improvement of service, keeping in mind these priorities."
   ]
  },
  {
   "cell_type": "markdown",
   "id": "ca1d86d8",
   "metadata": {},
   "source": [
    "### Objective"
   ]
  },
  {
   "cell_type": "markdown",
   "id": "20706845",
   "metadata": {},
   "source": [
    "As a Data scientist with the  bank i need to build a neural network based classifier that can determine whether a customer will leave the bank or not in the next 6 months."
   ]
  },
  {
   "cell_type": "markdown",
   "id": "5d9f0e89",
   "metadata": {},
   "source": [
    "### Data Dictionary"
   ]
  },
  {
   "cell_type": "markdown",
   "id": "84ae4a57",
   "metadata": {},
   "source": [
    "* CustomerId: Unique ID which is assigned to each customer\n",
    "\n",
    "* Surname: Last name of the customer\n",
    " \n",
    "* CreditScore: It defines the credit history of the customer.\n",
    "  \n",
    "* Geography: A customer’s location \n",
    "   \n",
    "* Gender: It defines the Gender of the customer\n",
    "   \n",
    "* Age: Age of the customer \n",
    "    \n",
    "* Tenure: Number of years for which the customer has been with the bank\n",
    "\n",
    "* NumOfProducts: refers to the number of products that a customer has purchased through the bank.\n",
    "\n",
    "* Balance: Account balance\n",
    "\n",
    "* HasCrCard: It is a categorical variable which decides whether the customer has credit card or not.\n",
    "\n",
    "* EstimatedSalary: Estimated salary \n",
    "\n",
    "* isActiveMember: Is is a categorical variable which decides whether the customer is active member of the bank or not ( Active member in the sense, using bank products regularly, making transactions etc )\n",
    "\n",
    "* Exited : whether or not the customer left the bank within six month. It can take two values \n",
    "** 0=No ( Customer did not leave the bank )\n",
    "** 1=Yes ( Customer left the bank )"
   ]
  },
  {
   "cell_type": "code",
   "execution_count": 4,
   "id": "9d1327f1",
   "metadata": {},
   "outputs": [
    {
     "name": "stdout",
     "output_type": "stream",
     "text": [
      "Collecting tensorflow==2.9.1\n",
      "  Downloading tensorflow-2.9.1-cp38-cp38-win_amd64.whl (444.1 MB)\n",
      "Collecting keras<2.10.0,>=2.9.0rc0\n",
      "  Downloading keras-2.9.0-py2.py3-none-any.whl (1.6 MB)\n",
      "Collecting tensorflow-estimator<2.10.0,>=2.9.0rc0\n",
      "  Downloading tensorflow_estimator-2.9.0-py2.py3-none-any.whl (438 kB)\n",
      "Collecting flatbuffers<2,>=1.12\n",
      "  Downloading flatbuffers-1.12-py2.py3-none-any.whl (15 kB)\n",
      "Collecting tensorboard<2.10,>=2.9\n",
      "  Downloading tensorboard-2.9.1-py3-none-any.whl (5.8 MB)\n",
      "Collecting absl-py>=1.0.0\n",
      "  Downloading absl_py-2.0.0-py3-none-any.whl (130 kB)\n",
      "Collecting opt-einsum>=2.3.2\n",
      "  Downloading opt_einsum-3.3.0-py3-none-any.whl (65 kB)\n",
      "Collecting google-pasta>=0.1.1\n",
      "  Downloading google_pasta-0.2.0-py3-none-any.whl (57 kB)\n",
      "Collecting gast<=0.4.0,>=0.2.1\n",
      "  Downloading gast-0.4.0-py3-none-any.whl (9.8 kB)\n",
      "Requirement already satisfied: wrapt>=1.11.0 in c:\\users\\user\\anaconda3\\lib\\site-packages (from tensorflow==2.9.1) (1.12.1)\n",
      "Collecting grpcio<2.0,>=1.24.3\n",
      "  Downloading grpcio-1.59.2-cp38-cp38-win_amd64.whl (3.7 MB)\n",
      "Requirement already satisfied: typing-extensions>=3.6.6 in c:\\users\\user\\anaconda3\\lib\\site-packages (from tensorflow==2.9.1) (3.7.4.3)\n",
      "Collecting astunparse>=1.6.0\n",
      "  Downloading astunparse-1.6.3-py2.py3-none-any.whl (12 kB)\n",
      "Collecting libclang>=13.0.0\n",
      "  Downloading libclang-16.0.6-py2.py3-none-win_amd64.whl (24.4 MB)\n",
      "Requirement already satisfied: packaging in c:\\users\\user\\anaconda3\\lib\\site-packages (from tensorflow==2.9.1) (20.9)\n",
      "Requirement already satisfied: h5py>=2.9.0 in c:\\users\\user\\anaconda3\\lib\\site-packages (from tensorflow==2.9.1) (2.10.0)\n",
      "Collecting termcolor>=1.1.0\n",
      "  Downloading termcolor-2.3.0-py3-none-any.whl (6.9 kB)\n",
      "Collecting protobuf<3.20,>=3.9.2\n",
      "  Downloading protobuf-3.19.6-cp38-cp38-win_amd64.whl (896 kB)\n",
      "Requirement already satisfied: numpy>=1.20 in c:\\users\\user\\anaconda3\\lib\\site-packages (from tensorflow==2.9.1) (1.20.1)\n",
      "Requirement already satisfied: six>=1.12.0 in c:\\users\\user\\anaconda3\\lib\\site-packages (from tensorflow==2.9.1) (1.15.0)\n",
      "Collecting tensorflow-io-gcs-filesystem>=0.23.1\n",
      "  Downloading tensorflow_io_gcs_filesystem-0.31.0-cp38-cp38-win_amd64.whl (1.5 MB)\n",
      "Collecting keras-preprocessing>=1.1.1\n",
      "  Downloading Keras_Preprocessing-1.1.2-py2.py3-none-any.whl (42 kB)\n",
      "Requirement already satisfied: setuptools in c:\\users\\user\\anaconda3\\lib\\site-packages (from tensorflow==2.9.1) (52.0.0.post20210125)\n",
      "Requirement already satisfied: wheel<1.0,>=0.23.0 in c:\\users\\user\\anaconda3\\lib\\site-packages (from astunparse>=1.6.0->tensorflow==2.9.1) (0.36.2)\n",
      "Collecting google-auth<3,>=1.6.3\n",
      "  Downloading google_auth-2.23.4-py2.py3-none-any.whl (183 kB)\n",
      "Collecting tensorboard-data-server<0.7.0,>=0.6.0\n",
      "  Downloading tensorboard_data_server-0.6.1-py3-none-any.whl (2.4 kB)\n",
      "Requirement already satisfied: requests<3,>=2.21.0 in c:\\users\\user\\anaconda3\\lib\\site-packages (from tensorboard<2.10,>=2.9->tensorflow==2.9.1) (2.25.1)\n",
      "Collecting markdown>=2.6.8\n",
      "  Downloading Markdown-3.5.1-py3-none-any.whl (102 kB)\n",
      "Collecting google-auth-oauthlib<0.5,>=0.4.1\n",
      "  Downloading google_auth_oauthlib-0.4.6-py2.py3-none-any.whl (18 kB)\n",
      "Requirement already satisfied: werkzeug>=1.0.1 in c:\\users\\user\\anaconda3\\lib\\site-packages (from tensorboard<2.10,>=2.9->tensorflow==2.9.1) (1.0.1)\n",
      "Collecting tensorboard-plugin-wit>=1.6.0\n",
      "  Downloading tensorboard_plugin_wit-1.8.1-py3-none-any.whl (781 kB)\n",
      "Collecting cachetools<6.0,>=2.0.0\n",
      "  Downloading cachetools-5.3.2-py3-none-any.whl (9.3 kB)\n",
      "Collecting rsa<5,>=3.1.4\n",
      "  Downloading rsa-4.9-py3-none-any.whl (34 kB)\n",
      "Collecting pyasn1-modules>=0.2.1\n",
      "  Downloading pyasn1_modules-0.3.0-py2.py3-none-any.whl (181 kB)\n",
      "Collecting requests-oauthlib>=0.7.0\n",
      "  Downloading requests_oauthlib-1.3.1-py2.py3-none-any.whl (23 kB)\n",
      "Collecting importlib-metadata>=4.4\n",
      "  Downloading importlib_metadata-6.8.0-py3-none-any.whl (22 kB)\n",
      "Requirement already satisfied: zipp>=0.5 in c:\\users\\user\\anaconda3\\lib\\site-packages (from importlib-metadata>=4.4->markdown>=2.6.8->tensorboard<2.10,>=2.9->tensorflow==2.9.1) (3.4.1)\n",
      "Collecting pyasn1<0.6.0,>=0.4.6\n",
      "  Downloading pyasn1-0.5.0-py2.py3-none-any.whl (83 kB)\n",
      "Requirement already satisfied: certifi>=2017.4.17 in c:\\users\\user\\anaconda3\\lib\\site-packages (from requests<3,>=2.21.0->tensorboard<2.10,>=2.9->tensorflow==2.9.1) (2020.12.5)\n",
      "Requirement already satisfied: idna<3,>=2.5 in c:\\users\\user\\anaconda3\\lib\\site-packages (from requests<3,>=2.21.0->tensorboard<2.10,>=2.9->tensorflow==2.9.1) (2.10)\n",
      "Requirement already satisfied: urllib3<1.27,>=1.21.1 in c:\\users\\user\\anaconda3\\lib\\site-packages (from requests<3,>=2.21.0->tensorboard<2.10,>=2.9->tensorflow==2.9.1) (1.26.4)\n",
      "Requirement already satisfied: chardet<5,>=3.0.2 in c:\\users\\user\\anaconda3\\lib\\site-packages (from requests<3,>=2.21.0->tensorboard<2.10,>=2.9->tensorflow==2.9.1) (4.0.0)\n",
      "Collecting oauthlib>=3.0.0\n",
      "  Downloading oauthlib-3.2.2-py3-none-any.whl (151 kB)\n",
      "Requirement already satisfied: pyparsing>=2.0.2 in c:\\users\\user\\anaconda3\\lib\\site-packages (from packaging->tensorflow==2.9.1) (2.4.7)\n",
      "Installing collected packages: pyasn1, rsa, pyasn1-modules, oauthlib, cachetools, requests-oauthlib, importlib-metadata, google-auth, tensorboard-plugin-wit, tensorboard-data-server, protobuf, markdown, grpcio, google-auth-oauthlib, absl-py, termcolor, tensorflow-io-gcs-filesystem, tensorflow-estimator, tensorboard, opt-einsum, libclang, keras-preprocessing, keras, google-pasta, gast, flatbuffers, astunparse, tensorflow\n",
      "  Attempting uninstall: importlib-metadata\n",
      "    Found existing installation: importlib-metadata 3.10.0\n",
      "    Uninstalling importlib-metadata-3.10.0:\n",
      "      Successfully uninstalled importlib-metadata-3.10.0\n",
      "Successfully installed absl-py-2.0.0 astunparse-1.6.3 cachetools-5.3.2 flatbuffers-1.12 gast-0.4.0 google-auth-2.23.4 google-auth-oauthlib-0.4.6 google-pasta-0.2.0 grpcio-1.59.2 importlib-metadata-6.8.0 keras-2.9.0 keras-preprocessing-1.1.2 libclang-16.0.6 markdown-3.5.1 oauthlib-3.2.2 opt-einsum-3.3.0 protobuf-3.19.6 pyasn1-0.5.0 pyasn1-modules-0.3.0 requests-oauthlib-1.3.1 rsa-4.9 tensorboard-2.9.1 tensorboard-data-server-0.6.1 tensorboard-plugin-wit-1.8.1 tensorflow-2.9.1 tensorflow-estimator-2.9.0 tensorflow-io-gcs-filesystem-0.31.0 termcolor-2.3.0\n"
     ]
    }
   ],
   "source": [
    "!pip install tensorflow==2.9.1"
   ]
  },
  {
   "cell_type": "code",
   "execution_count": 6,
   "id": "5711fe34",
   "metadata": {},
   "outputs": [
    {
     "name": "stdout",
     "output_type": "stream",
     "text": [
      "Requirement already satisfied: tensorflow in c:\\users\\user\\anaconda3\\lib\\site-packages (2.9.1)\n",
      "Requirement already satisfied: flatbuffers<2,>=1.12 in c:\\users\\user\\anaconda3\\lib\\site-packages (from tensorflow) (1.12)\n",
      "Requirement already satisfied: setuptools in c:\\users\\user\\anaconda3\\lib\\site-packages (from tensorflow) (52.0.0.post20210125)\n",
      "Requirement already satisfied: wrapt>=1.11.0 in c:\\users\\user\\anaconda3\\lib\\site-packages (from tensorflow) (1.12.1)\n",
      "Requirement already satisfied: libclang>=13.0.0 in c:\\users\\user\\anaconda3\\lib\\site-packages (from tensorflow) (16.0.6)\n",
      "Requirement already satisfied: gast<=0.4.0,>=0.2.1 in c:\\users\\user\\anaconda3\\lib\\site-packages (from tensorflow) (0.4.0)\n",
      "Requirement already satisfied: google-pasta>=0.1.1 in c:\\users\\user\\anaconda3\\lib\\site-packages (from tensorflow) (0.2.0)\n",
      "Requirement already satisfied: tensorflow-io-gcs-filesystem>=0.23.1 in c:\\users\\user\\anaconda3\\lib\\site-packages (from tensorflow) (0.31.0)\n",
      "Requirement already satisfied: packaging in c:\\users\\user\\anaconda3\\lib\\site-packages (from tensorflow) (20.9)\n",
      "Requirement already satisfied: astunparse>=1.6.0 in c:\\users\\user\\anaconda3\\lib\\site-packages (from tensorflow) (1.6.3)\n",
      "Requirement already satisfied: termcolor>=1.1.0 in c:\\users\\user\\anaconda3\\lib\\site-packages (from tensorflow) (2.3.0)\n",
      "Requirement already satisfied: keras-preprocessing>=1.1.1 in c:\\users\\user\\anaconda3\\lib\\site-packages (from tensorflow) (1.1.2)\n",
      "Requirement already satisfied: numpy>=1.20 in c:\\users\\user\\anaconda3\\lib\\site-packages (from tensorflow) (1.20.1)\n",
      "Requirement already satisfied: tensorflow-estimator<2.10.0,>=2.9.0rc0 in c:\\users\\user\\anaconda3\\lib\\site-packages (from tensorflow) (2.9.0)\n",
      "Requirement already satisfied: protobuf<3.20,>=3.9.2 in c:\\users\\user\\anaconda3\\lib\\site-packages (from tensorflow) (3.19.6)\n",
      "Requirement already satisfied: six>=1.12.0 in c:\\users\\user\\anaconda3\\lib\\site-packages (from tensorflow) (1.15.0)\n",
      "Requirement already satisfied: opt-einsum>=2.3.2 in c:\\users\\user\\anaconda3\\lib\\site-packages (from tensorflow) (3.3.0)\n",
      "Requirement already satisfied: absl-py>=1.0.0 in c:\\users\\user\\anaconda3\\lib\\site-packages (from tensorflow) (2.0.0)\n",
      "Requirement already satisfied: grpcio<2.0,>=1.24.3 in c:\\users\\user\\anaconda3\\lib\\site-packages (from tensorflow) (1.59.2)\n",
      "Requirement already satisfied: keras<2.10.0,>=2.9.0rc0 in c:\\users\\user\\anaconda3\\lib\\site-packages (from tensorflow) (2.9.0)\n",
      "Requirement already satisfied: typing-extensions>=3.6.6 in c:\\users\\user\\anaconda3\\lib\\site-packages (from tensorflow) (3.7.4.3)\n",
      "Requirement already satisfied: h5py>=2.9.0 in c:\\users\\user\\anaconda3\\lib\\site-packages (from tensorflow) (2.10.0)\n",
      "Requirement already satisfied: tensorboard<2.10,>=2.9 in c:\\users\\user\\anaconda3\\lib\\site-packages (from tensorflow) (2.9.1)\n",
      "Requirement already satisfied: wheel<1.0,>=0.23.0 in c:\\users\\user\\anaconda3\\lib\\site-packages (from astunparse>=1.6.0->tensorflow) (0.36.2)\n",
      "Requirement already satisfied: werkzeug>=1.0.1 in c:\\users\\user\\anaconda3\\lib\\site-packages (from tensorboard<2.10,>=2.9->tensorflow) (1.0.1)\n",
      "Requirement already satisfied: tensorboard-plugin-wit>=1.6.0 in c:\\users\\user\\anaconda3\\lib\\site-packages (from tensorboard<2.10,>=2.9->tensorflow) (1.8.1)\n",
      "Requirement already satisfied: tensorboard-data-server<0.7.0,>=0.6.0 in c:\\users\\user\\anaconda3\\lib\\site-packages (from tensorboard<2.10,>=2.9->tensorflow) (0.6.1)\n",
      "Requirement already satisfied: requests<3,>=2.21.0 in c:\\users\\user\\anaconda3\\lib\\site-packages (from tensorboard<2.10,>=2.9->tensorflow) (2.25.1)\n",
      "Requirement already satisfied: google-auth<3,>=1.6.3 in c:\\users\\user\\anaconda3\\lib\\site-packages (from tensorboard<2.10,>=2.9->tensorflow) (2.23.4)\n",
      "Requirement already satisfied: google-auth-oauthlib<0.5,>=0.4.1 in c:\\users\\user\\anaconda3\\lib\\site-packages (from tensorboard<2.10,>=2.9->tensorflow) (0.4.6)\n",
      "Requirement already satisfied: markdown>=2.6.8 in c:\\users\\user\\anaconda3\\lib\\site-packages (from tensorboard<2.10,>=2.9->tensorflow) (3.5.1)\n",
      "Requirement already satisfied: rsa<5,>=3.1.4 in c:\\users\\user\\anaconda3\\lib\\site-packages (from google-auth<3,>=1.6.3->tensorboard<2.10,>=2.9->tensorflow) (4.9)\n",
      "Requirement already satisfied: pyasn1-modules>=0.2.1 in c:\\users\\user\\anaconda3\\lib\\site-packages (from google-auth<3,>=1.6.3->tensorboard<2.10,>=2.9->tensorflow) (0.3.0)\n",
      "Requirement already satisfied: cachetools<6.0,>=2.0.0 in c:\\users\\user\\anaconda3\\lib\\site-packages (from google-auth<3,>=1.6.3->tensorboard<2.10,>=2.9->tensorflow) (5.3.2)\n",
      "Requirement already satisfied: requests-oauthlib>=0.7.0 in c:\\users\\user\\anaconda3\\lib\\site-packages (from google-auth-oauthlib<0.5,>=0.4.1->tensorboard<2.10,>=2.9->tensorflow) (1.3.1)\n",
      "Requirement already satisfied: importlib-metadata>=4.4 in c:\\users\\user\\anaconda3\\lib\\site-packages (from markdown>=2.6.8->tensorboard<2.10,>=2.9->tensorflow) (6.8.0)\n",
      "Requirement already satisfied: zipp>=0.5 in c:\\users\\user\\anaconda3\\lib\\site-packages (from importlib-metadata>=4.4->markdown>=2.6.8->tensorboard<2.10,>=2.9->tensorflow) (3.4.1)\n",
      "Requirement already satisfied: pyasn1<0.6.0,>=0.4.6 in c:\\users\\user\\anaconda3\\lib\\site-packages (from pyasn1-modules>=0.2.1->google-auth<3,>=1.6.3->tensorboard<2.10,>=2.9->tensorflow) (0.5.0)\n",
      "Requirement already satisfied: urllib3<1.27,>=1.21.1 in c:\\users\\user\\anaconda3\\lib\\site-packages (from requests<3,>=2.21.0->tensorboard<2.10,>=2.9->tensorflow) (1.26.4)\n",
      "Requirement already satisfied: certifi>=2017.4.17 in c:\\users\\user\\anaconda3\\lib\\site-packages (from requests<3,>=2.21.0->tensorboard<2.10,>=2.9->tensorflow) (2020.12.5)\n",
      "Requirement already satisfied: chardet<5,>=3.0.2 in c:\\users\\user\\anaconda3\\lib\\site-packages (from requests<3,>=2.21.0->tensorboard<2.10,>=2.9->tensorflow) (4.0.0)\n",
      "Requirement already satisfied: idna<3,>=2.5 in c:\\users\\user\\anaconda3\\lib\\site-packages (from requests<3,>=2.21.0->tensorboard<2.10,>=2.9->tensorflow) (2.10)\n",
      "Requirement already satisfied: oauthlib>=3.0.0 in c:\\users\\user\\anaconda3\\lib\\site-packages (from requests-oauthlib>=0.7.0->google-auth-oauthlib<0.5,>=0.4.1->tensorboard<2.10,>=2.9->tensorflow) (3.2.2)\n",
      "Requirement already satisfied: pyparsing>=2.0.2 in c:\\users\\user\\anaconda3\\lib\\site-packages (from packaging->tensorflow) (2.4.7)\n"
     ]
    }
   ],
   "source": [
    "!pip install tensorflow"
   ]
  },
  {
   "cell_type": "code",
   "execution_count": 128,
   "id": "20aa9bc7",
   "metadata": {},
   "outputs": [],
   "source": [
    "# Libraries to help with reading and manipulating data\n",
    "import pandas as pd\n",
    "import numpy as np\n",
    "%matplotlib inline\n",
    "pd.set_option('display.float_format', lambda x:'%.3f' % x) # to restrict the float values to 3 decimal places\n",
    "# Library to split data\n",
    "from sklearn.model_selection import train_test_split\n",
    "# Library to encode the variables\n",
    "from sklearn import preprocessing\n",
    "# To plot confusion matrix\n",
    "from sklearn.metrics import confusion_matrix\n",
    "# libaries to help with data visualization\n",
    "import matplotlib.pyplot as plt\n",
    "import seaborn as sns\n",
    "# library to import to standardize the data\n",
    "from sklearn.preprocessing import StandardScaler\n",
    "#To import different metrics \n",
    "from sklearn import metrics\n",
    "from tensorflow.keras import backend\n",
    "# Library to avoid the warnings\n",
    "import warnings\n",
    "warnings.filterwarnings(\"ignore\")\n",
    "# importing different functions to build models\n",
    "from tensorflow.keras.models import Sequential\n",
    "from tensorflow.keras.layers import Dense, Dropout\n",
    "from tensorflow.keras.wrappers.scikit_learn import KerasClassifier\n",
    "#from tensorflow.keras.wrappers.scikit_learn import KerasClassifier\n",
    "import tensorflow as tf\n",
    "# importing GridSearch CV\n",
    "from sklearn.model_selection import GridSearchCV\n",
    "# importing roc_curve to plot\n",
    "from sklearn.metrics import roc_curve\n",
    "from matplotlib import pyplot\n",
    "# importing SMOTE\n",
    "from imblearn.over_sampling import SMOTE\n",
    "# importing metrics\n",
    "from sklearn import metrics\n",
    "import random\n",
    "#Importing classback API\n",
    "from keras import callbacks"
   ]
  },
  {
   "cell_type": "markdown",
   "id": "e778fa7e",
   "metadata": {},
   "source": [
    "## Loading the dataset"
   ]
  },
  {
   "cell_type": "code",
   "execution_count": 129,
   "id": "8cde6791",
   "metadata": {},
   "outputs": [],
   "source": [
    "# importing the data\n",
    "churn = pd.read_csv('C:\\\\Users\\\\user\\\\Downloads\\\\Churn.csv')"
   ]
  },
  {
   "cell_type": "code",
   "execution_count": 130,
   "id": "ed530619",
   "metadata": {},
   "outputs": [],
   "source": [
    "# let's create a copy of the data\n",
    "data = churn.copy()"
   ]
  },
  {
   "cell_type": "markdown",
   "id": "fe7df11b",
   "metadata": {},
   "source": [
    "### View the first and last 5 rows of the dataset."
   ]
  },
  {
   "cell_type": "code",
   "execution_count": 33,
   "id": "6ab4e772",
   "metadata": {
    "scrolled": true
   },
   "outputs": [
    {
     "data": {
      "text/html": [
       "<div>\n",
       "<style scoped>\n",
       "    .dataframe tbody tr th:only-of-type {\n",
       "        vertical-align: middle;\n",
       "    }\n",
       "\n",
       "    .dataframe tbody tr th {\n",
       "        vertical-align: top;\n",
       "    }\n",
       "\n",
       "    .dataframe thead th {\n",
       "        text-align: right;\n",
       "    }\n",
       "</style>\n",
       "<table border=\"1\" class=\"dataframe\">\n",
       "  <thead>\n",
       "    <tr style=\"text-align: right;\">\n",
       "      <th></th>\n",
       "      <th>RowNumber</th>\n",
       "      <th>CustomerId</th>\n",
       "      <th>Surname</th>\n",
       "      <th>CreditScore</th>\n",
       "      <th>Geography</th>\n",
       "      <th>Gender</th>\n",
       "      <th>Age</th>\n",
       "      <th>Tenure</th>\n",
       "      <th>Balance</th>\n",
       "      <th>NumOfProducts</th>\n",
       "      <th>HasCrCard</th>\n",
       "      <th>IsActiveMember</th>\n",
       "      <th>EstimatedSalary</th>\n",
       "      <th>Exited</th>\n",
       "    </tr>\n",
       "  </thead>\n",
       "  <tbody>\n",
       "    <tr>\n",
       "      <th>0</th>\n",
       "      <td>1</td>\n",
       "      <td>15634602</td>\n",
       "      <td>Hargrave</td>\n",
       "      <td>619</td>\n",
       "      <td>France</td>\n",
       "      <td>Female</td>\n",
       "      <td>42</td>\n",
       "      <td>2</td>\n",
       "      <td>0.000</td>\n",
       "      <td>1</td>\n",
       "      <td>1</td>\n",
       "      <td>1</td>\n",
       "      <td>101348.880</td>\n",
       "      <td>1</td>\n",
       "    </tr>\n",
       "    <tr>\n",
       "      <th>1</th>\n",
       "      <td>2</td>\n",
       "      <td>15647311</td>\n",
       "      <td>Hill</td>\n",
       "      <td>608</td>\n",
       "      <td>Spain</td>\n",
       "      <td>Female</td>\n",
       "      <td>41</td>\n",
       "      <td>1</td>\n",
       "      <td>83807.860</td>\n",
       "      <td>1</td>\n",
       "      <td>0</td>\n",
       "      <td>1</td>\n",
       "      <td>112542.580</td>\n",
       "      <td>0</td>\n",
       "    </tr>\n",
       "    <tr>\n",
       "      <th>2</th>\n",
       "      <td>3</td>\n",
       "      <td>15619304</td>\n",
       "      <td>Onio</td>\n",
       "      <td>502</td>\n",
       "      <td>France</td>\n",
       "      <td>Female</td>\n",
       "      <td>42</td>\n",
       "      <td>8</td>\n",
       "      <td>159660.800</td>\n",
       "      <td>3</td>\n",
       "      <td>1</td>\n",
       "      <td>0</td>\n",
       "      <td>113931.570</td>\n",
       "      <td>1</td>\n",
       "    </tr>\n",
       "    <tr>\n",
       "      <th>3</th>\n",
       "      <td>4</td>\n",
       "      <td>15701354</td>\n",
       "      <td>Boni</td>\n",
       "      <td>699</td>\n",
       "      <td>France</td>\n",
       "      <td>Female</td>\n",
       "      <td>39</td>\n",
       "      <td>1</td>\n",
       "      <td>0.000</td>\n",
       "      <td>2</td>\n",
       "      <td>0</td>\n",
       "      <td>0</td>\n",
       "      <td>93826.630</td>\n",
       "      <td>0</td>\n",
       "    </tr>\n",
       "    <tr>\n",
       "      <th>4</th>\n",
       "      <td>5</td>\n",
       "      <td>15737888</td>\n",
       "      <td>Mitchell</td>\n",
       "      <td>850</td>\n",
       "      <td>Spain</td>\n",
       "      <td>Female</td>\n",
       "      <td>43</td>\n",
       "      <td>2</td>\n",
       "      <td>125510.820</td>\n",
       "      <td>1</td>\n",
       "      <td>1</td>\n",
       "      <td>1</td>\n",
       "      <td>79084.100</td>\n",
       "      <td>0</td>\n",
       "    </tr>\n",
       "  </tbody>\n",
       "</table>\n",
       "</div>"
      ],
      "text/plain": [
       "   RowNumber  CustomerId   Surname  CreditScore Geography  Gender  Age  \\\n",
       "0          1    15634602  Hargrave          619    France  Female   42   \n",
       "1          2    15647311      Hill          608     Spain  Female   41   \n",
       "2          3    15619304      Onio          502    France  Female   42   \n",
       "3          4    15701354      Boni          699    France  Female   39   \n",
       "4          5    15737888  Mitchell          850     Spain  Female   43   \n",
       "\n",
       "   Tenure    Balance  NumOfProducts  HasCrCard  IsActiveMember  \\\n",
       "0       2      0.000              1          1               1   \n",
       "1       1  83807.860              1          0               1   \n",
       "2       8 159660.800              3          1               0   \n",
       "3       1      0.000              2          0               0   \n",
       "4       2 125510.820              1          1               1   \n",
       "\n",
       "   EstimatedSalary  Exited  \n",
       "0       101348.880       1  \n",
       "1       112542.580       0  \n",
       "2       113931.570       1  \n",
       "3        93826.630       0  \n",
       "4        79084.100       0  "
      ]
     },
     "execution_count": 33,
     "metadata": {},
     "output_type": "execute_result"
    }
   ],
   "source": [
    "# checking for the top 5 rows\n",
    "data.head()"
   ]
  },
  {
   "cell_type": "code",
   "execution_count": 34,
   "id": "33dfbc56",
   "metadata": {},
   "outputs": [
    {
     "data": {
      "text/html": [
       "<div>\n",
       "<style scoped>\n",
       "    .dataframe tbody tr th:only-of-type {\n",
       "        vertical-align: middle;\n",
       "    }\n",
       "\n",
       "    .dataframe tbody tr th {\n",
       "        vertical-align: top;\n",
       "    }\n",
       "\n",
       "    .dataframe thead th {\n",
       "        text-align: right;\n",
       "    }\n",
       "</style>\n",
       "<table border=\"1\" class=\"dataframe\">\n",
       "  <thead>\n",
       "    <tr style=\"text-align: right;\">\n",
       "      <th></th>\n",
       "      <th>RowNumber</th>\n",
       "      <th>CustomerId</th>\n",
       "      <th>Surname</th>\n",
       "      <th>CreditScore</th>\n",
       "      <th>Geography</th>\n",
       "      <th>Gender</th>\n",
       "      <th>Age</th>\n",
       "      <th>Tenure</th>\n",
       "      <th>Balance</th>\n",
       "      <th>NumOfProducts</th>\n",
       "      <th>HasCrCard</th>\n",
       "      <th>IsActiveMember</th>\n",
       "      <th>EstimatedSalary</th>\n",
       "      <th>Exited</th>\n",
       "    </tr>\n",
       "  </thead>\n",
       "  <tbody>\n",
       "    <tr>\n",
       "      <th>9995</th>\n",
       "      <td>9996</td>\n",
       "      <td>15606229</td>\n",
       "      <td>Obijiaku</td>\n",
       "      <td>771</td>\n",
       "      <td>France</td>\n",
       "      <td>Male</td>\n",
       "      <td>39</td>\n",
       "      <td>5</td>\n",
       "      <td>0.000</td>\n",
       "      <td>2</td>\n",
       "      <td>1</td>\n",
       "      <td>0</td>\n",
       "      <td>96270.640</td>\n",
       "      <td>0</td>\n",
       "    </tr>\n",
       "    <tr>\n",
       "      <th>9996</th>\n",
       "      <td>9997</td>\n",
       "      <td>15569892</td>\n",
       "      <td>Johnstone</td>\n",
       "      <td>516</td>\n",
       "      <td>France</td>\n",
       "      <td>Male</td>\n",
       "      <td>35</td>\n",
       "      <td>10</td>\n",
       "      <td>57369.610</td>\n",
       "      <td>1</td>\n",
       "      <td>1</td>\n",
       "      <td>1</td>\n",
       "      <td>101699.770</td>\n",
       "      <td>0</td>\n",
       "    </tr>\n",
       "    <tr>\n",
       "      <th>9997</th>\n",
       "      <td>9998</td>\n",
       "      <td>15584532</td>\n",
       "      <td>Liu</td>\n",
       "      <td>709</td>\n",
       "      <td>France</td>\n",
       "      <td>Female</td>\n",
       "      <td>36</td>\n",
       "      <td>7</td>\n",
       "      <td>0.000</td>\n",
       "      <td>1</td>\n",
       "      <td>0</td>\n",
       "      <td>1</td>\n",
       "      <td>42085.580</td>\n",
       "      <td>1</td>\n",
       "    </tr>\n",
       "    <tr>\n",
       "      <th>9998</th>\n",
       "      <td>9999</td>\n",
       "      <td>15682355</td>\n",
       "      <td>Sabbatini</td>\n",
       "      <td>772</td>\n",
       "      <td>Germany</td>\n",
       "      <td>Male</td>\n",
       "      <td>42</td>\n",
       "      <td>3</td>\n",
       "      <td>75075.310</td>\n",
       "      <td>2</td>\n",
       "      <td>1</td>\n",
       "      <td>0</td>\n",
       "      <td>92888.520</td>\n",
       "      <td>1</td>\n",
       "    </tr>\n",
       "    <tr>\n",
       "      <th>9999</th>\n",
       "      <td>10000</td>\n",
       "      <td>15628319</td>\n",
       "      <td>Walker</td>\n",
       "      <td>792</td>\n",
       "      <td>France</td>\n",
       "      <td>Female</td>\n",
       "      <td>28</td>\n",
       "      <td>4</td>\n",
       "      <td>130142.790</td>\n",
       "      <td>1</td>\n",
       "      <td>1</td>\n",
       "      <td>0</td>\n",
       "      <td>38190.780</td>\n",
       "      <td>0</td>\n",
       "    </tr>\n",
       "  </tbody>\n",
       "</table>\n",
       "</div>"
      ],
      "text/plain": [
       "      RowNumber  CustomerId    Surname  CreditScore Geography  Gender  Age  \\\n",
       "9995       9996    15606229   Obijiaku          771    France    Male   39   \n",
       "9996       9997    15569892  Johnstone          516    France    Male   35   \n",
       "9997       9998    15584532        Liu          709    France  Female   36   \n",
       "9998       9999    15682355  Sabbatini          772   Germany    Male   42   \n",
       "9999      10000    15628319     Walker          792    France  Female   28   \n",
       "\n",
       "      Tenure    Balance  NumOfProducts  HasCrCard  IsActiveMember  \\\n",
       "9995       5      0.000              2          1               0   \n",
       "9996      10  57369.610              1          1               1   \n",
       "9997       7      0.000              1          0               1   \n",
       "9998       3  75075.310              2          1               0   \n",
       "9999       4 130142.790              1          1               0   \n",
       "\n",
       "      EstimatedSalary  Exited  \n",
       "9995        96270.640       0  \n",
       "9996       101699.770       0  \n",
       "9997        42085.580       1  \n",
       "9998        92888.520       1  \n",
       "9999        38190.780       0  "
      ]
     },
     "execution_count": 34,
     "metadata": {},
     "output_type": "execute_result"
    }
   ],
   "source": [
    "# checking for the bottom 5 rows\n",
    "data.tail()"
   ]
  },
  {
   "cell_type": "markdown",
   "id": "e4e599d4",
   "metadata": {},
   "source": [
    "- There seems not to be any missing value\n",
    "- we have 3 object datatype columns, some other columns with categorical values and some int and float datatype values"
   ]
  },
  {
   "cell_type": "markdown",
   "id": "6157a8c2",
   "metadata": {},
   "source": [
    "### Understand the shape of the dataset"
   ]
  },
  {
   "cell_type": "code",
   "execution_count": 35,
   "id": "a5cd12a3",
   "metadata": {},
   "outputs": [
    {
     "data": {
      "text/plain": [
       "(10000, 14)"
      ]
     },
     "execution_count": 35,
     "metadata": {},
     "output_type": "execute_result"
    }
   ],
   "source": [
    "#checking for the number of rows and columns\n",
    "data.shape"
   ]
  },
  {
   "cell_type": "markdown",
   "id": "6ad403d0",
   "metadata": {},
   "source": [
    "- the dataset has 10,000 rows and 14 columns"
   ]
  },
  {
   "cell_type": "markdown",
   "id": "eda205db",
   "metadata": {},
   "source": [
    "### Check the data types of the columns for the dataset"
   ]
  },
  {
   "cell_type": "code",
   "execution_count": 36,
   "id": "4814704e",
   "metadata": {},
   "outputs": [
    {
     "name": "stdout",
     "output_type": "stream",
     "text": [
      "<class 'pandas.core.frame.DataFrame'>\n",
      "RangeIndex: 10000 entries, 0 to 9999\n",
      "Data columns (total 14 columns):\n",
      " #   Column           Non-Null Count  Dtype  \n",
      "---  ------           --------------  -----  \n",
      " 0   RowNumber        10000 non-null  int64  \n",
      " 1   CustomerId       10000 non-null  int64  \n",
      " 2   Surname          10000 non-null  object \n",
      " 3   CreditScore      10000 non-null  int64  \n",
      " 4   Geography        10000 non-null  object \n",
      " 5   Gender           10000 non-null  object \n",
      " 6   Age              10000 non-null  int64  \n",
      " 7   Tenure           10000 non-null  int64  \n",
      " 8   Balance          10000 non-null  float64\n",
      " 9   NumOfProducts    10000 non-null  int64  \n",
      " 10  HasCrCard        10000 non-null  int64  \n",
      " 11  IsActiveMember   10000 non-null  int64  \n",
      " 12  EstimatedSalary  10000 non-null  float64\n",
      " 13  Exited           10000 non-null  int64  \n",
      "dtypes: float64(2), int64(9), object(3)\n",
      "memory usage: 1.1+ MB\n"
     ]
    }
   ],
   "source": [
    "# checking for the datatype, memory  and information\n",
    "data.info()"
   ]
  },
  {
   "cell_type": "markdown",
   "id": "2ce815cb",
   "metadata": {},
   "source": [
    "- from the above details, we have 10,000 rows and 14 columns\n",
    "- RowNumber and CustomerID may not add much values to analysis and model building, therefore we need to drop them in the later\n",
    "- we have 3 objects datatype, 9 int64 datatype, 2 float64 and 1.1+ MB memory usage\n",
    "- Object datatype can be converted into categorical values for model building and to reduce memory usage"
   ]
  },
  {
   "cell_type": "markdown",
   "id": "b97994d5",
   "metadata": {},
   "source": [
    "### Checking the Statistical Summary"
   ]
  },
  {
   "cell_type": "code",
   "execution_count": 37,
   "id": "e1e2ae56",
   "metadata": {
    "scrolled": true
   },
   "outputs": [
    {
     "data": {
      "text/html": [
       "<div>\n",
       "<style scoped>\n",
       "    .dataframe tbody tr th:only-of-type {\n",
       "        vertical-align: middle;\n",
       "    }\n",
       "\n",
       "    .dataframe tbody tr th {\n",
       "        vertical-align: top;\n",
       "    }\n",
       "\n",
       "    .dataframe thead th {\n",
       "        text-align: right;\n",
       "    }\n",
       "</style>\n",
       "<table border=\"1\" class=\"dataframe\">\n",
       "  <thead>\n",
       "    <tr style=\"text-align: right;\">\n",
       "      <th></th>\n",
       "      <th>count</th>\n",
       "      <th>mean</th>\n",
       "      <th>std</th>\n",
       "      <th>min</th>\n",
       "      <th>25%</th>\n",
       "      <th>50%</th>\n",
       "      <th>75%</th>\n",
       "      <th>max</th>\n",
       "    </tr>\n",
       "  </thead>\n",
       "  <tbody>\n",
       "    <tr>\n",
       "      <th>RowNumber</th>\n",
       "      <td>10000.000</td>\n",
       "      <td>5000.500</td>\n",
       "      <td>2886.896</td>\n",
       "      <td>1.000</td>\n",
       "      <td>2500.750</td>\n",
       "      <td>5000.500</td>\n",
       "      <td>7500.250</td>\n",
       "      <td>10000.000</td>\n",
       "    </tr>\n",
       "    <tr>\n",
       "      <th>CustomerId</th>\n",
       "      <td>10000.000</td>\n",
       "      <td>15690940.569</td>\n",
       "      <td>71936.186</td>\n",
       "      <td>15565701.000</td>\n",
       "      <td>15628528.250</td>\n",
       "      <td>15690738.000</td>\n",
       "      <td>15753233.750</td>\n",
       "      <td>15815690.000</td>\n",
       "    </tr>\n",
       "    <tr>\n",
       "      <th>CreditScore</th>\n",
       "      <td>10000.000</td>\n",
       "      <td>650.529</td>\n",
       "      <td>96.653</td>\n",
       "      <td>350.000</td>\n",
       "      <td>584.000</td>\n",
       "      <td>652.000</td>\n",
       "      <td>718.000</td>\n",
       "      <td>850.000</td>\n",
       "    </tr>\n",
       "    <tr>\n",
       "      <th>Age</th>\n",
       "      <td>10000.000</td>\n",
       "      <td>38.922</td>\n",
       "      <td>10.488</td>\n",
       "      <td>18.000</td>\n",
       "      <td>32.000</td>\n",
       "      <td>37.000</td>\n",
       "      <td>44.000</td>\n",
       "      <td>92.000</td>\n",
       "    </tr>\n",
       "    <tr>\n",
       "      <th>Tenure</th>\n",
       "      <td>10000.000</td>\n",
       "      <td>5.013</td>\n",
       "      <td>2.892</td>\n",
       "      <td>0.000</td>\n",
       "      <td>3.000</td>\n",
       "      <td>5.000</td>\n",
       "      <td>7.000</td>\n",
       "      <td>10.000</td>\n",
       "    </tr>\n",
       "    <tr>\n",
       "      <th>Balance</th>\n",
       "      <td>10000.000</td>\n",
       "      <td>76485.889</td>\n",
       "      <td>62397.405</td>\n",
       "      <td>0.000</td>\n",
       "      <td>0.000</td>\n",
       "      <td>97198.540</td>\n",
       "      <td>127644.240</td>\n",
       "      <td>250898.090</td>\n",
       "    </tr>\n",
       "    <tr>\n",
       "      <th>NumOfProducts</th>\n",
       "      <td>10000.000</td>\n",
       "      <td>1.530</td>\n",
       "      <td>0.582</td>\n",
       "      <td>1.000</td>\n",
       "      <td>1.000</td>\n",
       "      <td>1.000</td>\n",
       "      <td>2.000</td>\n",
       "      <td>4.000</td>\n",
       "    </tr>\n",
       "    <tr>\n",
       "      <th>HasCrCard</th>\n",
       "      <td>10000.000</td>\n",
       "      <td>0.706</td>\n",
       "      <td>0.456</td>\n",
       "      <td>0.000</td>\n",
       "      <td>0.000</td>\n",
       "      <td>1.000</td>\n",
       "      <td>1.000</td>\n",
       "      <td>1.000</td>\n",
       "    </tr>\n",
       "    <tr>\n",
       "      <th>IsActiveMember</th>\n",
       "      <td>10000.000</td>\n",
       "      <td>0.515</td>\n",
       "      <td>0.500</td>\n",
       "      <td>0.000</td>\n",
       "      <td>0.000</td>\n",
       "      <td>1.000</td>\n",
       "      <td>1.000</td>\n",
       "      <td>1.000</td>\n",
       "    </tr>\n",
       "    <tr>\n",
       "      <th>EstimatedSalary</th>\n",
       "      <td>10000.000</td>\n",
       "      <td>100090.240</td>\n",
       "      <td>57510.493</td>\n",
       "      <td>11.580</td>\n",
       "      <td>51002.110</td>\n",
       "      <td>100193.915</td>\n",
       "      <td>149388.247</td>\n",
       "      <td>199992.480</td>\n",
       "    </tr>\n",
       "    <tr>\n",
       "      <th>Exited</th>\n",
       "      <td>10000.000</td>\n",
       "      <td>0.204</td>\n",
       "      <td>0.403</td>\n",
       "      <td>0.000</td>\n",
       "      <td>0.000</td>\n",
       "      <td>0.000</td>\n",
       "      <td>0.000</td>\n",
       "      <td>1.000</td>\n",
       "    </tr>\n",
       "  </tbody>\n",
       "</table>\n",
       "</div>"
      ],
      "text/plain": [
       "                    count         mean       std          min          25%  \\\n",
       "RowNumber       10000.000     5000.500  2886.896        1.000     2500.750   \n",
       "CustomerId      10000.000 15690940.569 71936.186 15565701.000 15628528.250   \n",
       "CreditScore     10000.000      650.529    96.653      350.000      584.000   \n",
       "Age             10000.000       38.922    10.488       18.000       32.000   \n",
       "Tenure          10000.000        5.013     2.892        0.000        3.000   \n",
       "Balance         10000.000    76485.889 62397.405        0.000        0.000   \n",
       "NumOfProducts   10000.000        1.530     0.582        1.000        1.000   \n",
       "HasCrCard       10000.000        0.706     0.456        0.000        0.000   \n",
       "IsActiveMember  10000.000        0.515     0.500        0.000        0.000   \n",
       "EstimatedSalary 10000.000   100090.240 57510.493       11.580    51002.110   \n",
       "Exited          10000.000        0.204     0.403        0.000        0.000   \n",
       "\n",
       "                         50%          75%          max  \n",
       "RowNumber           5000.500     7500.250    10000.000  \n",
       "CustomerId      15690738.000 15753233.750 15815690.000  \n",
       "CreditScore          652.000      718.000      850.000  \n",
       "Age                   37.000       44.000       92.000  \n",
       "Tenure                 5.000        7.000       10.000  \n",
       "Balance            97198.540   127644.240   250898.090  \n",
       "NumOfProducts          1.000        2.000        4.000  \n",
       "HasCrCard              1.000        1.000        1.000  \n",
       "IsActiveMember         1.000        1.000        1.000  \n",
       "EstimatedSalary   100193.915   149388.247   199992.480  \n",
       "Exited                 0.000        0.000        1.000  "
      ]
     },
     "execution_count": 37,
     "metadata": {},
     "output_type": "execute_result"
    }
   ],
   "source": [
    "#checking for the statistical summary\n",
    "data.describe().T"
   ]
  },
  {
   "cell_type": "markdown",
   "id": "9f6a02b6",
   "metadata": {},
   "source": [
    "- RowNumber and Customerid are unique columns and would need to be dropped because they may not add much value to us\n",
    "- Creditscore column has min of 350, average of 650.53 and max of 850\n",
    "- Age column has min of 18, average of 39, and max of 92\n",
    "- Tenure column has min of 0.000, average of 5, max of 10\n",
    "- Balance column has min 0.000, average of 76485.9, and 250898.1. possiblity of having outliers\n",
    "- NumOfProduct column has min of 1, average of 2 and max of 4\n",
    "- EstimatedSalary column has min of 11.6, average of 100090.240 and max of 199992.480 with tendercy of outliers \n",
    "- Columns Hascrcard, Isactivemember and Exited are all categorical variables."
   ]
  },
  {
   "cell_type": "code",
   "execution_count": 38,
   "id": "eb6f5e34",
   "metadata": {},
   "outputs": [
    {
     "data": {
      "text/html": [
       "<div>\n",
       "<style scoped>\n",
       "    .dataframe tbody tr th:only-of-type {\n",
       "        vertical-align: middle;\n",
       "    }\n",
       "\n",
       "    .dataframe tbody tr th {\n",
       "        vertical-align: top;\n",
       "    }\n",
       "\n",
       "    .dataframe thead th {\n",
       "        text-align: right;\n",
       "    }\n",
       "</style>\n",
       "<table border=\"1\" class=\"dataframe\">\n",
       "  <thead>\n",
       "    <tr style=\"text-align: right;\">\n",
       "      <th></th>\n",
       "      <th>count</th>\n",
       "      <th>unique</th>\n",
       "      <th>top</th>\n",
       "      <th>freq</th>\n",
       "    </tr>\n",
       "  </thead>\n",
       "  <tbody>\n",
       "    <tr>\n",
       "      <th>Surname</th>\n",
       "      <td>10000</td>\n",
       "      <td>2932</td>\n",
       "      <td>Smith</td>\n",
       "      <td>32</td>\n",
       "    </tr>\n",
       "    <tr>\n",
       "      <th>Geography</th>\n",
       "      <td>10000</td>\n",
       "      <td>3</td>\n",
       "      <td>France</td>\n",
       "      <td>5014</td>\n",
       "    </tr>\n",
       "    <tr>\n",
       "      <th>Gender</th>\n",
       "      <td>10000</td>\n",
       "      <td>2</td>\n",
       "      <td>Male</td>\n",
       "      <td>5457</td>\n",
       "    </tr>\n",
       "  </tbody>\n",
       "</table>\n",
       "</div>"
      ],
      "text/plain": [
       "           count unique     top  freq\n",
       "Surname    10000   2932   Smith    32\n",
       "Geography  10000      3  France  5014\n",
       "Gender     10000      2    Male  5457"
      ]
     },
     "execution_count": 38,
     "metadata": {},
     "output_type": "execute_result"
    }
   ],
   "source": [
    " # checking for the statistical summary of the dataset in terms of the objects\n",
    "data.describe(include=[\"object\"]).T"
   ]
  },
  {
   "cell_type": "markdown",
   "id": "12abcc3a",
   "metadata": {},
   "source": [
    "- from the column of Gender, Male has the most values or count with 5457\n",
    "- in column Geography, France is the most frequent location with 5014\n",
    "- Same with Surname, that has Smith as it most count"
   ]
  },
  {
   "cell_type": "code",
   "execution_count": 49,
   "id": "ba4fffbf",
   "metadata": {},
   "outputs": [
    {
     "data": {
      "text/plain": [
       "0    7963\n",
       "1    2037\n",
       "Name: Exited, dtype: int64"
      ]
     },
     "execution_count": 49,
     "metadata": {},
     "output_type": "execute_result"
    }
   ],
   "source": [
    "data[\"Exited\"].value_counts()"
   ]
  },
  {
   "cell_type": "markdown",
   "id": "c29af52e",
   "metadata": {},
   "source": [
    "- 7963 customers did not leave the bank in last six Months\n",
    "- 2037 customers left the bank in the last six Months"
   ]
  },
  {
   "cell_type": "code",
   "execution_count": 39,
   "id": "c50a2545",
   "metadata": {},
   "outputs": [
    {
     "name": "stdout",
     "output_type": "stream",
     "text": [
      "Unique values in Surname are :\n",
      "Smith       32\n",
      "Martin      29\n",
      "Scott       29\n",
      "Walker      28\n",
      "Brown       26\n",
      "            ..\n",
      "McEncroe     1\n",
      "Caraway      1\n",
      "Patrick      1\n",
      "Greeves      1\n",
      "Salmond      1\n",
      "Name: Surname, Length: 2932, dtype: int64\n",
      "**************************************************\n",
      "Unique values in Geography are :\n",
      "France     5014\n",
      "Germany    2509\n",
      "Spain      2477\n",
      "Name: Geography, dtype: int64\n",
      "**************************************************\n",
      "Unique values in Gender are :\n",
      "Male      5457\n",
      "Female    4543\n",
      "Name: Gender, dtype: int64\n",
      "**************************************************\n"
     ]
    }
   ],
   "source": [
    "# checking for unique values and categorical variables\n",
    "for i in data.describe(include=[\"object\"]).columns:\n",
    "    print(\"Unique values in\", i, \"are :\")\n",
    "    print(data[i].value_counts())\n",
    "    print(\"*\" * 50)"
   ]
  },
  {
   "cell_type": "code",
   "execution_count": 40,
   "id": "af293e0c",
   "metadata": {},
   "outputs": [
    {
     "data": {
      "text/plain": [
       "RowNumber          10000\n",
       "CustomerId         10000\n",
       "Surname             2932\n",
       "CreditScore          460\n",
       "Geography              3\n",
       "Gender                 2\n",
       "Age                   70\n",
       "Tenure                11\n",
       "Balance             6382\n",
       "NumOfProducts          4\n",
       "HasCrCard              2\n",
       "IsActiveMember         2\n",
       "EstimatedSalary     9999\n",
       "Exited                 2\n",
       "dtype: int64"
      ]
     },
     "execution_count": 40,
     "metadata": {},
     "output_type": "execute_result"
    }
   ],
   "source": [
    "### Checking for unique values for each of the column\n",
    "data.nunique()"
   ]
  },
  {
   "cell_type": "markdown",
   "id": "dcedfb67",
   "metadata": {},
   "source": [
    "- RowNumber and CustomerId have same unique numbers and may not be that useful for our analysis and model, so we would drop them\n",
    "- We have 3 categorical variables and 3 object datatype variables. Others are either float and int variables\n",
    "- Gender column has 2\n",
    "- Geograpghy has 3\n",
    "- Numofproduct has 4 different product types"
   ]
  },
  {
   "cell_type": "code",
   "execution_count": 41,
   "id": "5a953e1b",
   "metadata": {},
   "outputs": [
    {
     "data": {
      "text/plain": [
       "RowNumber          0\n",
       "CustomerId         0\n",
       "Surname            0\n",
       "CreditScore        0\n",
       "Geography          0\n",
       "Gender             0\n",
       "Age                0\n",
       "Tenure             0\n",
       "Balance            0\n",
       "NumOfProducts      0\n",
       "HasCrCard          0\n",
       "IsActiveMember     0\n",
       "EstimatedSalary    0\n",
       "Exited             0\n",
       "dtype: int64"
      ]
     },
     "execution_count": 41,
     "metadata": {},
     "output_type": "execute_result"
    }
   ],
   "source": [
    "### Checking for Missing Values\n",
    "data.isnull().sum()"
   ]
  },
  {
   "cell_type": "markdown",
   "id": "aa3e67de",
   "metadata": {},
   "source": [
    "- There are no missing values in the dataset"
   ]
  },
  {
   "cell_type": "code",
   "execution_count": 42,
   "id": "7a930c3c",
   "metadata": {},
   "outputs": [
    {
     "data": {
      "text/plain": [
       "0"
      ]
     },
     "execution_count": 42,
     "metadata": {},
     "output_type": "execute_result"
    }
   ],
   "source": [
    "# checking for duplicates in the dataset\n",
    "data.duplicated().sum()"
   ]
  },
  {
   "cell_type": "markdown",
   "id": "1109a099",
   "metadata": {},
   "source": [
    "- No duplicated values"
   ]
  },
  {
   "cell_type": "code",
   "execution_count": 43,
   "id": "0bc62ecb",
   "metadata": {},
   "outputs": [],
   "source": [
    "data1 = data.copy()"
   ]
  },
  {
   "cell_type": "markdown",
   "id": "41edb947",
   "metadata": {},
   "source": [
    "### Data Pre-processing"
   ]
  },
  {
   "cell_type": "markdown",
   "id": "f92dbd08",
   "metadata": {},
   "source": [
    "### Droping the columns which are unique for all users like  CustomerID, Surname, and Rownumbers"
   ]
  },
  {
   "cell_type": "code",
   "execution_count": 44,
   "id": "59b27247",
   "metadata": {},
   "outputs": [],
   "source": [
    "# RowNumber, CustomerId and Surname are unique hence drop them and hence will not add value to the modeling\n",
    "data.drop([\"RowNumber\", \"CustomerId\", \"Surname\" ], axis=1, inplace=True)"
   ]
  },
  {
   "cell_type": "code",
   "execution_count": 45,
   "id": "d2321adb",
   "metadata": {},
   "outputs": [
    {
     "data": {
      "text/html": [
       "<div>\n",
       "<style scoped>\n",
       "    .dataframe tbody tr th:only-of-type {\n",
       "        vertical-align: middle;\n",
       "    }\n",
       "\n",
       "    .dataframe tbody tr th {\n",
       "        vertical-align: top;\n",
       "    }\n",
       "\n",
       "    .dataframe thead th {\n",
       "        text-align: right;\n",
       "    }\n",
       "</style>\n",
       "<table border=\"1\" class=\"dataframe\">\n",
       "  <thead>\n",
       "    <tr style=\"text-align: right;\">\n",
       "      <th></th>\n",
       "      <th>CreditScore</th>\n",
       "      <th>Geography</th>\n",
       "      <th>Gender</th>\n",
       "      <th>Age</th>\n",
       "      <th>Tenure</th>\n",
       "      <th>Balance</th>\n",
       "      <th>NumOfProducts</th>\n",
       "      <th>HasCrCard</th>\n",
       "      <th>IsActiveMember</th>\n",
       "      <th>EstimatedSalary</th>\n",
       "      <th>Exited</th>\n",
       "    </tr>\n",
       "  </thead>\n",
       "  <tbody>\n",
       "    <tr>\n",
       "      <th>0</th>\n",
       "      <td>619</td>\n",
       "      <td>France</td>\n",
       "      <td>Female</td>\n",
       "      <td>42</td>\n",
       "      <td>2</td>\n",
       "      <td>0.000</td>\n",
       "      <td>1</td>\n",
       "      <td>1</td>\n",
       "      <td>1</td>\n",
       "      <td>101348.880</td>\n",
       "      <td>1</td>\n",
       "    </tr>\n",
       "    <tr>\n",
       "      <th>1</th>\n",
       "      <td>608</td>\n",
       "      <td>Spain</td>\n",
       "      <td>Female</td>\n",
       "      <td>41</td>\n",
       "      <td>1</td>\n",
       "      <td>83807.860</td>\n",
       "      <td>1</td>\n",
       "      <td>0</td>\n",
       "      <td>1</td>\n",
       "      <td>112542.580</td>\n",
       "      <td>0</td>\n",
       "    </tr>\n",
       "    <tr>\n",
       "      <th>2</th>\n",
       "      <td>502</td>\n",
       "      <td>France</td>\n",
       "      <td>Female</td>\n",
       "      <td>42</td>\n",
       "      <td>8</td>\n",
       "      <td>159660.800</td>\n",
       "      <td>3</td>\n",
       "      <td>1</td>\n",
       "      <td>0</td>\n",
       "      <td>113931.570</td>\n",
       "      <td>1</td>\n",
       "    </tr>\n",
       "    <tr>\n",
       "      <th>3</th>\n",
       "      <td>699</td>\n",
       "      <td>France</td>\n",
       "      <td>Female</td>\n",
       "      <td>39</td>\n",
       "      <td>1</td>\n",
       "      <td>0.000</td>\n",
       "      <td>2</td>\n",
       "      <td>0</td>\n",
       "      <td>0</td>\n",
       "      <td>93826.630</td>\n",
       "      <td>0</td>\n",
       "    </tr>\n",
       "    <tr>\n",
       "      <th>4</th>\n",
       "      <td>850</td>\n",
       "      <td>Spain</td>\n",
       "      <td>Female</td>\n",
       "      <td>43</td>\n",
       "      <td>2</td>\n",
       "      <td>125510.820</td>\n",
       "      <td>1</td>\n",
       "      <td>1</td>\n",
       "      <td>1</td>\n",
       "      <td>79084.100</td>\n",
       "      <td>0</td>\n",
       "    </tr>\n",
       "  </tbody>\n",
       "</table>\n",
       "</div>"
      ],
      "text/plain": [
       "   CreditScore Geography  Gender  Age  Tenure    Balance  NumOfProducts  \\\n",
       "0          619    France  Female   42       2      0.000              1   \n",
       "1          608     Spain  Female   41       1  83807.860              1   \n",
       "2          502    France  Female   42       8 159660.800              3   \n",
       "3          699    France  Female   39       1      0.000              2   \n",
       "4          850     Spain  Female   43       2 125510.820              1   \n",
       "\n",
       "   HasCrCard  IsActiveMember  EstimatedSalary  Exited  \n",
       "0          1               1       101348.880       1  \n",
       "1          0               1       112542.580       0  \n",
       "2          1               0       113931.570       1  \n",
       "3          0               0        93826.630       0  \n",
       "4          1               1        79084.100       0  "
      ]
     },
     "execution_count": 45,
     "metadata": {},
     "output_type": "execute_result"
    }
   ],
   "source": [
    "data.head()"
   ]
  },
  {
   "cell_type": "code",
   "execution_count": 114,
   "id": "b3fe4ae3",
   "metadata": {},
   "outputs": [
    {
     "data": {
      "text/plain": [
       "(10000, 11)"
      ]
     },
     "execution_count": 114,
     "metadata": {},
     "output_type": "execute_result"
    }
   ],
   "source": [
    "data.shape"
   ]
  },
  {
   "cell_type": "markdown",
   "id": "886d6b43",
   "metadata": {},
   "source": [
    "- Columns Rownumber, Customerid and Surname have been dropped."
   ]
  },
  {
   "cell_type": "code",
   "execution_count": 52,
   "id": "2d6cdb52",
   "metadata": {
    "scrolled": true
   },
   "outputs": [
    {
     "data": {
      "text/plain": [
       "CreditScore          int64\n",
       "Geography           object\n",
       "Gender              object\n",
       "Age                  int64\n",
       "Tenure               int64\n",
       "Balance            float64\n",
       "NumOfProducts        int64\n",
       "HasCrCard            int64\n",
       "IsActiveMember       int64\n",
       "EstimatedSalary    float64\n",
       "Exited               int64\n",
       "dtype: object"
      ]
     },
     "execution_count": 52,
     "metadata": {},
     "output_type": "execute_result"
    }
   ],
   "source": [
    "data.dtypes"
   ]
  },
  {
   "cell_type": "markdown",
   "id": "f544d5ea",
   "metadata": {},
   "source": [
    "## Exploratory Data Analysis"
   ]
  },
  {
   "cell_type": "markdown",
   "id": "4207fabe",
   "metadata": {},
   "source": [
    "### Univariate Analysis"
   ]
  },
  {
   "cell_type": "code",
   "execution_count": 50,
   "id": "aa29644e",
   "metadata": {},
   "outputs": [],
   "source": [
    "# function to plot a boxplot and a histogram along the same scale.\n",
    "\n",
    "\n",
    "def histogram_boxplot(data, feature, figsize=(12, 7), kde=False, bins=None):\n",
    "    \"\"\"\n",
    "    Boxplot and histogram combined\n",
    "\n",
    "    data: dataframe\n",
    "    feature: dataframe column\n",
    "    figsize: size of figure (default (12,7))\n",
    "    kde: whether to show the density curve (default False)\n",
    "    bins: number of bins for histogram (default None)\n",
    "    \"\"\"\n",
    "    f2, (ax_box2, ax_hist2) = plt.subplots(\n",
    "        nrows=2,  # Number of rows of the subplot grid= 2\n",
    "        sharex=True,  # x-axis will be shared among all subplots\n",
    "        gridspec_kw={\"height_ratios\": (0.25, 0.75)},\n",
    "        figsize=figsize,\n",
    "    )  # creating the 2 subplots\n",
    "    sns.boxplot(\n",
    "        data=data, x=feature, ax=ax_box2, showmeans=True, color=\"violet\"\n",
    "    )  # boxplot will be created and a star will indicate the mean value of the column\n",
    "    sns.histplot(\n",
    "        data=data, x=feature, kde=kde, ax=ax_hist2, bins=bins, palette=\"winter\"\n",
    "    ) if bins else sns.histplot(\n",
    "        data=data, x=feature, kde=kde, ax=ax_hist2\n",
    "    )  # For histogram\n",
    "    ax_hist2.axvline(\n",
    "        data[feature].mean(), color=\"green\", linestyle=\"--\"\n",
    "    )  # Add mean to the histogram\n",
    "    ax_hist2.axvline(\n",
    "        data[feature].median(), color=\"black\", linestyle=\"-\"\n",
    "    )  # Add median to the histogram"
   ]
  },
  {
   "cell_type": "markdown",
   "id": "0feb16d1",
   "metadata": {},
   "source": [
    "#### Observations on CreditScore"
   ]
  },
  {
   "cell_type": "code",
   "execution_count": 53,
   "id": "6fd99076",
   "metadata": {},
   "outputs": [
    {
     "data": {
      "image/png": "[encoded data removed]",
      "text/plain": [
       "<Figure size 864x504 with 2 Axes>"
      ]
     },
     "metadata": {
      "needs_background": "light"
     },
     "output_type": "display_data"
    }
   ],
   "source": [
    "# ploting the histogram of CreditScore\n",
    "histogram_boxplot(data,'CreditScore')"
   ]
  },
  {
   "cell_type": "markdown",
   "id": "a69e3289",
   "metadata": {},
   "source": [
    "- From the plot above of Creditscore, the data is skewed to the left\n",
    "- It has a few outliers to the left side below 400\n",
    "- It is bell-shaped\n",
    "- Both the mean and median are around 650\n",
    "- Most of the data is between 600 and 700\n",
    "- 660 has the highest count of above 500"
   ]
  },
  {
   "cell_type": "markdown",
   "id": "3155b2b3",
   "metadata": {},
   "source": [
    "#### Observations on Age"
   ]
  },
  {
   "cell_type": "code",
   "execution_count": 54,
   "id": "6db0f84b",
   "metadata": {},
   "outputs": [
    {
     "data": {
      "image/png": "[encoded data removed]",
      "text/plain": [
       "<Figure size 864x504 with 2 Axes>"
      ]
     },
     "metadata": {
      "needs_background": "light"
     },
     "output_type": "display_data"
    }
   ],
   "source": [
    "# ploting the histogram of Age\n",
    "histogram_boxplot(data,'Age')"
   ]
  },
  {
   "cell_type": "markdown",
   "id": "721877da",
   "metadata": {},
   "source": [
    "- From the column of Age, it is right skewed\n",
    "- alot of outliers on the right side of the data even above age 90\n",
    "- the mean and the median are within similiar value of 38\n",
    "- Most of the values are between age 30 to 40\n",
    "- 40 has the highest count of above 800\n",
    "- Customers with the ages of 30 to 50 should be given more attention"
   ]
  },
  {
   "cell_type": "markdown",
   "id": "43440aa7",
   "metadata": {},
   "source": [
    "#### Observations on Balance"
   ]
  },
  {
   "cell_type": "code",
   "execution_count": 55,
   "id": "af435bec",
   "metadata": {},
   "outputs": [
    {
     "data": {
      "image/png": "[encoded data removed]",
      "text/plain": [
       "<Figure size 864x504 with 2 Axes>"
      ]
     },
     "metadata": {
      "needs_background": "light"
     },
     "output_type": "display_data"
    }
   ],
   "source": [
    "# ploting the histogram of Balance\n",
    "histogram_boxplot(data,'Balance')"
   ]
  },
  {
   "cell_type": "markdown",
   "id": "30558f82",
   "metadata": {},
   "source": [
    "- From the column of Balance, the data is skewed to the right\n",
    "- No outliers to both ends\n",
    "- The median is around 98000\n",
    "- The mean is around 75000\n",
    "- Most of the balance are within 100,000 to 150,000\n",
    "- balance of 0 has the highest count of above 3500 customers\n",
    "- More attention should be given to customers with balance between 100,000 to 150,000"
   ]
  },
  {
   "cell_type": "markdown",
   "id": "a6cee76f",
   "metadata": {},
   "source": [
    "#### Observations on Estimated Salary"
   ]
  },
  {
   "cell_type": "code",
   "execution_count": 56,
   "id": "77fd0c9c",
   "metadata": {},
   "outputs": [
    {
     "data": {
      "image/png": "[encoded data removed]",
      "text/plain": [
       "<Figure size 864x504 with 2 Axes>"
      ]
     },
     "metadata": {
      "needs_background": "light"
     },
     "output_type": "display_data"
    }
   ],
   "source": [
    "# ploting the histogram of Estimated\n",
    "histogram_boxplot(data,'EstimatedSalary')"
   ]
  },
  {
   "cell_type": "markdown",
   "id": "5765a237",
   "metadata": {},
   "source": [
    "- From the column of Estimated Salary, the data normally/symmetrically distributed\n",
    "- No outliers\n",
    "- Both mean and median are on the same value of 100,000. the average extimated salary is within 100,000\n",
    "- The minimum Estimated salary is 0 and the maximum salary is approximately 200,000"
   ]
  },
  {
   "cell_type": "code",
   "execution_count": 51,
   "id": "bd771abd",
   "metadata": {},
   "outputs": [],
   "source": [
    "# function to create labeled barplots\n",
    "\n",
    "\n",
    "def labeled_barplot(data, feature, perc=False, n=None):\n",
    "    \"\"\"\n",
    "    Barplot with percentage at the top\n",
    "\n",
    "    data: dataframe\n",
    "    feature: dataframe column\n",
    "    perc: whether to display percentages instead of count (default is False)\n",
    "    n: displays the top n category levels (default is None, i.e., display all levels)\n",
    "    \"\"\"\n",
    "\n",
    "    total = len(data[feature])  # length of the column\n",
    "    count = data[feature].nunique()\n",
    "    if n is None:\n",
    "        plt.figure(figsize=(count + 1, 5))\n",
    "    else:\n",
    "        plt.figure(figsize=(n + 1, 5))\n",
    "\n",
    "    plt.xticks(rotation=90, fontsize=15)\n",
    "    ax = sns.countplot(\n",
    "        data=data,\n",
    "        x=feature,\n",
    "        palette=\"Paired\",\n",
    "        order=data[feature].value_counts().index[:n].sort_values(),\n",
    "    )\n",
    "\n",
    "    for p in ax.patches:\n",
    "        if perc == True:\n",
    "            label = \"{:.1f}%\".format(\n",
    "                100 * p.get_height() / total\n",
    "            )  # percentage of each class of the category\n",
    "        else:\n",
    "            label = p.get_height()  # count of each level of the category\n",
    "\n",
    "        x = p.get_x() + p.get_width() / 2  # width of the plot\n",
    "        y = p.get_height()  # height of the plot\n",
    "\n",
    "        ax.annotate(\n",
    "            label,\n",
    "            (x, y),\n",
    "            ha=\"center\",\n",
    "            va=\"center\",\n",
    "            size=12,\n",
    "            xytext=(0, 5),\n",
    "            textcoords=\"offset points\",\n",
    "        )  # annotate the percentage\n",
    "\n",
    "    plt.show()  # show the plot"
   ]
  },
  {
   "cell_type": "markdown",
   "id": "e2290f0f",
   "metadata": {},
   "source": [
    "#### Observations on Exited"
   ]
  },
  {
   "cell_type": "code",
   "execution_count": 57,
   "id": "69cf7c2c",
   "metadata": {},
   "outputs": [
    {
     "data": {
      "image/png": "[encoded data removed]",
      "text/plain": [
       "<Figure size 216x360 with 1 Axes>"
      ]
     },
     "metadata": {
      "needs_background": "light"
     },
     "output_type": "display_data"
    }
   ],
   "source": [
    "# ckecking for the labeled barplot of Exited\n",
    "labeled_barplot(data, \"Exited\", perc=True)"
   ]
  },
  {
   "cell_type": "markdown",
   "id": "52501713",
   "metadata": {},
   "source": [
    "- 79.6% of the customers did not leave the bank\n",
    "- 0nly 20.4% of the customers that left the bank"
   ]
  },
  {
   "cell_type": "markdown",
   "id": "164ad3b9",
   "metadata": {},
   "source": [
    "#### Observations on Geography"
   ]
  },
  {
   "cell_type": "code",
   "execution_count": 58,
   "id": "18e7fe56",
   "metadata": {},
   "outputs": [
    {
     "data": {
      "image/png": "[encoded data removed]",
      "text/plain": [
       "<Figure size 288x360 with 1 Axes>"
      ]
     },
     "metadata": {
      "needs_background": "light"
     },
     "output_type": "display_data"
    }
   ],
   "source": [
    "# ckecking for the labeled barplot of Geography\n",
    "labeled_barplot(data, \"Geography\", perc=True)"
   ]
  },
  {
   "cell_type": "markdown",
   "id": "70c7606d",
   "metadata": {},
   "source": [
    "- Most of the customes are located in France with about 50.1%\n",
    "- Germany and Spain are within the range approximately 25%, half of France customer base\n",
    "- therefore, more attention should be channelled towards customers in France"
   ]
  },
  {
   "cell_type": "markdown",
   "id": "519c7032",
   "metadata": {},
   "source": [
    "#### Observations on Gender"
   ]
  },
  {
   "cell_type": "code",
   "execution_count": 60,
   "id": "c8997e62",
   "metadata": {},
   "outputs": [
    {
     "data": {
      "image/png": "[encoded data removed]",
      "text/plain": [
       "<Figure size 216x360 with 1 Axes>"
      ]
     },
     "metadata": {
      "needs_background": "light"
     },
     "output_type": "display_data"
    }
   ],
   "source": [
    "# ckecking for the labeled barplot of Gender\n",
    "labeled_barplot(data, \"Gender\", perc=True)"
   ]
  },
  {
   "cell_type": "markdown",
   "id": "aa16af7f",
   "metadata": {},
   "source": [
    "- Most of the customers are Male with count of 54.6% above 5000\n",
    "- Next is Female with count of 45.4% below 5000\n",
    "- Target should be tuned towards the Male customers too"
   ]
  },
  {
   "cell_type": "markdown",
   "id": "3b1793c0",
   "metadata": {},
   "source": [
    "#### Observations on Tenure"
   ]
  },
  {
   "cell_type": "code",
   "execution_count": 61,
   "id": "f1467af2",
   "metadata": {},
   "outputs": [
    {
     "data": {
      "image/png": "[encoded data removed]",
      "text/plain": [
       "<Figure size 864x360 with 1 Axes>"
      ]
     },
     "metadata": {
      "needs_background": "light"
     },
     "output_type": "display_data"
    }
   ],
   "source": [
    "# ckecking for the labeled barplot of Tenure\n",
    "labeled_barplot(data, \"Tenure\", perc=True)"
   ]
  },
  {
   "cell_type": "markdown",
   "id": "391766ca",
   "metadata": {},
   "source": [
    "- From the column of Tenure, Tenure 1 to tenure 9 are within similar range of approximately 10%\n",
    "- Tenure 0 and 10 are within the similar ranges of 4 to 5%"
   ]
  },
  {
   "cell_type": "markdown",
   "id": "260ac953",
   "metadata": {},
   "source": [
    "#### Observations on Number of Products"
   ]
  },
  {
   "cell_type": "code",
   "execution_count": 62,
   "id": "389e54b0",
   "metadata": {},
   "outputs": [
    {
     "data": {
      "image/png": "[encoded data removed]",
      "text/plain": [
       "<Figure size 360x360 with 1 Axes>"
      ]
     },
     "metadata": {
      "needs_background": "light"
     },
     "output_type": "display_data"
    }
   ],
   "source": [
    "# ckecking for the labeled barplot of Number of Products\n",
    "labeled_barplot(data, \"NumOfProducts\", perc=True)"
   ]
  },
  {
   "cell_type": "markdown",
   "id": "862ae16d",
   "metadata": {},
   "source": [
    "- From the column of Number of Products, most of the customers use between 1 and 2 products of 50.8% and 45.9% respectively\n",
    "- the customers that use between 3 and 4 products are very few, less than 3%\n",
    "- Customers that only use 1 or 2 products are like to churn the bank, attention should be given to customers that use 1 or 2 products to avoid churning\n",
    "- More attention and policy to should considered for customers that use 3 or 4 products in order to retain them and grow them more\n"
   ]
  },
  {
   "cell_type": "markdown",
   "id": "e178d70e",
   "metadata": {},
   "source": [
    "#### Observations on Has Credit Card"
   ]
  },
  {
   "cell_type": "code",
   "execution_count": 63,
   "id": "72a7e8fd",
   "metadata": {},
   "outputs": [
    {
     "data": {
      "image/png": "[encoded data removed]",
      "text/plain": [
       "<Figure size 216x360 with 1 Axes>"
      ]
     },
     "metadata": {
      "needs_background": "light"
     },
     "output_type": "display_data"
    }
   ],
   "source": [
    "# ckecking for the labeled barplot of Number of Credit Card\n",
    "labeled_barplot(data, \"HasCrCard\", perc=True)"
   ]
  },
  {
   "cell_type": "markdown",
   "id": "72684b91",
   "metadata": {},
   "source": [
    "- From the column of customers that have crdit card, 70.5% of the customers have credit card\n",
    "- Only 29.4% of customers that do not have credit card\n",
    "- Customers without credit card are like to churn the bank which is about 29.4%\n",
    "- Policies and priorities should be structured towards customers that do not have credit cards and to make them stay"
   ]
  },
  {
   "cell_type": "markdown",
   "id": "52e008c5",
   "metadata": {},
   "source": [
    "#### Observations on Is Active Member"
   ]
  },
  {
   "cell_type": "code",
   "execution_count": 64,
   "id": "6e74a120",
   "metadata": {},
   "outputs": [
    {
     "data": {
      "image/png": "[encoded data removed]",
      "text/plain": [
       "<Figure size 216x360 with 1 Axes>"
      ]
     },
     "metadata": {
      "needs_background": "light"
     },
     "output_type": "display_data"
    }
   ],
   "source": [
    "# ckecking for the labeled barplot of Active members\n",
    "labeled_barplot(data, \"IsActiveMember\", perc=True)"
   ]
  },
  {
   "cell_type": "markdown",
   "id": "8053ae00",
   "metadata": {},
   "source": [
    "- From the above plot, Both Active and inactive members are almost on the same range\n",
    "- From the column of Active members, 51.5% are active and 48.55 are not active\n",
    "- The number of Inactive members need to be reduced, because they are likely to churn the bank\n",
    "- surveys of enquiries should be sent to the inactive members for feed sake"
   ]
  },
  {
   "cell_type": "markdown",
   "id": "919b7592",
   "metadata": {},
   "source": [
    "### Bivariate Analysis"
   ]
  },
  {
   "cell_type": "code",
   "execution_count": 69,
   "id": "622184db",
   "metadata": {},
   "outputs": [],
   "source": [
    "### Function to plot distributions\n",
    "\n",
    "\n",
    "def distribution_plot_wrt_target(data, predictor, target):\n",
    "\n",
    "    fig, axs = plt.subplots(2, 2, figsize=(12, 10))\n",
    "\n",
    "    target_uniq = data[target].unique()\n",
    "\n",
    "    axs[0, 0].set_title(\"Distribution of target for target=\" + str(target_uniq[0]))\n",
    "    sns.histplot(\n",
    "        data=data[data[target] == target_uniq[0]],\n",
    "        x=predictor,\n",
    "        kde=True,\n",
    "        ax=axs[0, 0],\n",
    "        color=\"teal\",\n",
    "    )\n",
    "\n",
    "    axs[0, 1].set_title(\"Distribution of target for target=\" + str(target_uniq[1]))\n",
    "    sns.histplot(\n",
    "        data=data[data[target] == target_uniq[1]],\n",
    "        x=predictor,\n",
    "        kde=True,\n",
    "        ax=axs[0, 1],\n",
    "        color=\"orange\",\n",
    "    )\n",
    "\n",
    "    axs[1, 0].set_title(\"Boxplot w.r.t target\")\n",
    "    sns.boxplot(data=data, x=target, y=predictor, ax=axs[1, 0], palette=\"gist_rainbow\")\n",
    "\n",
    "    axs[1, 1].set_title(\"Boxplot (without outliers) w.r.t target\")\n",
    "    sns.boxplot(\n",
    "        data=data,\n",
    "        x=target,\n",
    "        y=predictor,\n",
    "        ax=axs[1, 1],\n",
    "        showfliers=False,\n",
    "        palette=\"gist_rainbow\",\n",
    "    )\n",
    "\n",
    "    plt.tight_layout()\n",
    "    plt.show()"
   ]
  },
  {
   "cell_type": "code",
   "execution_count": 70,
   "id": "f909762d",
   "metadata": {},
   "outputs": [],
   "source": [
    "# function to plot stacked bar chart\n",
    "\n",
    "\n",
    "def stacked_barplot(data, predictor, target):\n",
    "    \"\"\"\n",
    "    Print the category counts and plot a stacked bar chart\n",
    "\n",
    "    data: dataframe\n",
    "    predictor: independent variable\n",
    "    target: target variable\n",
    "    \"\"\"\n",
    "    count = data[predictor].nunique()\n",
    "    sorter = data[target].value_counts().index[-1]\n",
    "    tab1 = pd.crosstab(data[predictor], data[target], margins=True).sort_values(\n",
    "        by=sorter, ascending=False\n",
    "    )\n",
    "    print(tab1)\n",
    "    print(\"-\" * 120)\n",
    "    tab = pd.crosstab(data[predictor], data[target], normalize=\"index\").sort_values(\n",
    "        by=sorter, ascending=False\n",
    "    )\n",
    "    tab.plot(kind=\"bar\", stacked=True, figsize=(count + 1, 5))\n",
    "    plt.legend(\n",
    "        loc=\"lower left\",\n",
    "        frameon=False,\n",
    "    )\n",
    "    plt.legend(loc=\"upper left\", bbox_to_anchor=(1, 1))\n",
    "    plt.show()"
   ]
  },
  {
   "cell_type": "markdown",
   "id": "96122b6b",
   "metadata": {},
   "source": [
    "#### Correlation plot"
   ]
  },
  {
   "cell_type": "code",
   "execution_count": 71,
   "id": "dc61a221",
   "metadata": {},
   "outputs": [
    {
     "data": {
      "image/png": "[encoded data removed]",
      "text/plain": [
       "<Figure size 1080x504 with 2 Axes>"
      ]
     },
     "metadata": {
      "needs_background": "light"
     },
     "output_type": "display_data"
    }
   ],
   "source": [
    "plt.figure(figsize=(15,7))\n",
    "sns.heatmap(data.corr(),annot=True,vmin=-1,vmax=1,cmap=\"Spectral\")\n",
    "plt.show()"
   ]
  },
  {
   "cell_type": "markdown",
   "id": "51f41a2d",
   "metadata": {},
   "source": [
    "- From the heatmap above, Age is positively correlated with Exited. Meaning as the customer advances in age, the customer would exit the bank\n",
    "- As the customer balance increases, the likeliness that the customer would exit the bank. positively correlated\n",
    "- As the customer account balance increases, the number of products used decreases. Negatively correlated.\n",
    "- So applies to the rest columns wrt to negative correlations\n",
    "- Customers with increasing account balance and that uses fewer number of products likely would churn the bank.\n",
    "- Customers that not active are likely to exit the bank."
   ]
  },
  {
   "cell_type": "markdown",
   "id": "f173a592",
   "metadata": {},
   "source": [
    "#### Exited Vs Geography"
   ]
  },
  {
   "cell_type": "code",
   "execution_count": 73,
   "id": "0c580834",
   "metadata": {},
   "outputs": [
    {
     "name": "stdout",
     "output_type": "stream",
     "text": [
      "Exited        0     1    All\n",
      "Geography                   \n",
      "All        7963  2037  10000\n",
      "Germany    1695   814   2509\n",
      "France     4204   810   5014\n",
      "Spain      2064   413   2477\n",
      "------------------------------------------------------------------------------------------------------------------------\n"
     ]
    },
    {
     "data": {
      "image/png": "[encoded data removed]",
      "text/plain": [
       "<Figure size 288x360 with 1 Axes>"
      ]
     },
     "metadata": {
      "needs_background": "light"
     },
     "output_type": "display_data"
    }
   ],
   "source": [
    "# checking for the stacked plot between Geography and Exited\n",
    "stacked_barplot(data, \"Geography\", \"Exited\" )"
   ]
  },
  {
   "cell_type": "markdown",
   "id": "cdf38b82",
   "metadata": {},
   "source": [
    "- From the above plot, Germany has the most customers that have the tendercy to exit the bank.\n",
    "- Spain and France are within range of customers that have high tendercy of not exiting the bank\n",
    "- Therefore, more attentions and strategic policies should be made that would focus on the customers in spain and France most expecially customers in Germany in order to retain them and reduce their possibilities of exiting the bank\n"
   ]
  },
  {
   "cell_type": "markdown",
   "id": "39d064b8",
   "metadata": {},
   "source": [
    "#### Exited Vs Gender"
   ]
  },
  {
   "cell_type": "code",
   "execution_count": 74,
   "id": "59c15e3e",
   "metadata": {},
   "outputs": [
    {
     "name": "stdout",
     "output_type": "stream",
     "text": [
      "Exited     0     1    All\n",
      "Gender                   \n",
      "All     7963  2037  10000\n",
      "Female  3404  1139   4543\n",
      "Male    4559   898   5457\n",
      "------------------------------------------------------------------------------------------------------------------------\n"
     ]
    },
    {
     "data": {
      "image/png": "[encoded data removed]",
      "text/plain": [
       "<Figure size 216x360 with 1 Axes>"
      ]
     },
     "metadata": {
      "needs_background": "light"
     },
     "output_type": "display_data"
    }
   ],
   "source": [
    "# checking for the stacked plot between Gender and Exited\n",
    "stacked_barplot(data, \"Gender\", \"Exited\" )"
   ]
  },
  {
   "cell_type": "markdown",
   "id": "12a5b4cb",
   "metadata": {},
   "source": [
    "- From the above plot, The Female customers have more possibilities of leaving or exiting the bank\n",
    "- Even though the men are more than the Female customers, yet more priority policies for the Female customers should be developed and deployed in order to prevent churning the bank.\n",
    "- More priorities and strategic policies should be developed about how to retain and increase the number of Female customers and how to retain them."
   ]
  },
  {
   "cell_type": "markdown",
   "id": "549f30fb",
   "metadata": {},
   "source": [
    "#### Exited Vs Has Credit Card"
   ]
  },
  {
   "cell_type": "code",
   "execution_count": 77,
   "id": "ee497536",
   "metadata": {},
   "outputs": [
    {
     "name": "stdout",
     "output_type": "stream",
     "text": [
      "Exited        0     1    All\n",
      "HasCrCard                   \n",
      "All        7963  2037  10000\n",
      "1          5631  1424   7055\n",
      "0          2332   613   2945\n",
      "------------------------------------------------------------------------------------------------------------------------\n"
     ]
    },
    {
     "data": {
      "image/png": "[encoded data removed]",
      "text/plain": [
       "<Figure size 216x360 with 1 Axes>"
      ]
     },
     "metadata": {
      "needs_background": "light"
     },
     "output_type": "display_data"
    }
   ],
   "source": [
    "# checking for the stacked plot between Customers that have credit card and Exited\n",
    "stacked_barplot(data, \"HasCrCard\", \"Exited\" )"
   ]
  },
  {
   "cell_type": "markdown",
   "id": "28a4d699",
   "metadata": {},
   "source": [
    "- From the above plot, the column of customers that have credit card has little or no information as to deciding churning or exiting the bank"
   ]
  },
  {
   "cell_type": "code",
   "execution_count": 78,
   "id": "64cf40a6",
   "metadata": {},
   "outputs": [],
   "source": [
    "#### Exited Vs Is active member"
   ]
  },
  {
   "cell_type": "code",
   "execution_count": 79,
   "id": "d37fe3ab",
   "metadata": {},
   "outputs": [
    {
     "name": "stdout",
     "output_type": "stream",
     "text": [
      "Exited             0     1    All\n",
      "IsActiveMember                   \n",
      "All             7963  2037  10000\n",
      "0               3547  1302   4849\n",
      "1               4416   735   5151\n",
      "------------------------------------------------------------------------------------------------------------------------\n"
     ]
    },
    {
     "data": {
      "image/png": "[encoded data removed]",
      "text/plain": [
       "<Figure size 216x360 with 1 Axes>"
      ]
     },
     "metadata": {
      "needs_background": "light"
     },
     "output_type": "display_data"
    }
   ],
   "source": [
    "# checking for the stacked plot between Customers that are active card and Exited\n",
    "stacked_barplot(data, \"IsActiveMember\", \"Exited\" )"
   ]
  },
  {
   "cell_type": "markdown",
   "id": "541164f6",
   "metadata": {},
   "source": [
    "- From the plot above, customers that are inactive are more than active members and are more likely to churn or exit the bank\n",
    "- Therefore, surveys should be sents to the inactive members to get there feedbacks so as to develop ploicies and strategies that would engage the customers and keep them active and prevent them from churning/exiting the bank."
   ]
  },
  {
   "cell_type": "markdown",
   "id": "961434c3",
   "metadata": {},
   "source": [
    "#### Exited Vs Credit Score"
   ]
  },
  {
   "cell_type": "code",
   "execution_count": 82,
   "id": "19a299f3",
   "metadata": {},
   "outputs": [
    {
     "data": {
      "image/png": "[encoded data removed]",
      "text/plain": [
       "<Figure size 360x360 with 1 Axes>"
      ]
     },
     "metadata": {
      "needs_background": "light"
     },
     "output_type": "display_data"
    }
   ],
   "source": [
    "# checking the boxplot of Creditscore and Exited\n",
    "plt.figure(figsize=(5,5))\n",
    "sns.boxplot(y='CreditScore',x='Exited',data=data)\n",
    "plt.show()"
   ]
  },
  {
   "cell_type": "markdown",
   "id": "e86b5d37",
   "metadata": {},
   "source": [
    "- From the plot above, customers with creditscore lower than 400 are likely to churn or exit the bank\n",
    "- The customers with lower creditscore and with outliers lower than 400 are likely to churn/exit the bank\n",
    "- More strategies and policies should be developed and deployed in order to encourage customers with credit scores from 400 and below to get more credit scores for the purpose of keeping the customers and preventing them from churning/exiting the bank\n"
   ]
  },
  {
   "cell_type": "markdown",
   "id": "5c45246c",
   "metadata": {},
   "source": [
    "#### Exited Vs Age"
   ]
  },
  {
   "cell_type": "code",
   "execution_count": 83,
   "id": "ac5c95e3",
   "metadata": {},
   "outputs": [
    {
     "data": {
      "image/png": "[encoded data removed]",
      "text/plain": [
       "<Figure size 360x360 with 1 Axes>"
      ]
     },
     "metadata": {
      "needs_background": "light"
     },
     "output_type": "display_data"
    }
   ],
   "source": [
    "# checking the boxplot of Age and Exited\n",
    "plt.figure(figsize=(5,5))\n",
    "sns.boxplot(y='Age',x='Exited',data=data)\n",
    "plt.show()"
   ]
  },
  {
   "cell_type": "markdown",
   "id": "a8fd0e50",
   "metadata": {},
   "source": [
    "- From the above plot, customers below 18 years are like to churn/exit the bank\n",
    "- Cutomers from above 45 years are likely to exit the bank, most especially as the customers get older between 70 to 85 years\n",
    "- More products, marketing strategies and policies should be built targeting the elderly customers and the younger customers including some retirement products/packages.\n",
    "- sustainable products strategies should be develop between the older-exiting customers and their family members for continuity and sustainability"
   ]
  },
  {
   "cell_type": "markdown",
   "id": "06536728",
   "metadata": {},
   "source": [
    "#### Exited Vs Tenure"
   ]
  },
  {
   "cell_type": "code",
   "execution_count": 84,
   "id": "ec53703a",
   "metadata": {},
   "outputs": [
    {
     "data": {
      "image/png": "[encoded data removed]",
      "text/plain": [
       "<Figure size 360x360 with 1 Axes>"
      ]
     },
     "metadata": {
      "needs_background": "light"
     },
     "output_type": "display_data"
    }
   ],
   "source": [
    "# checking the boxplot of Tenure and Exited\n",
    "plt.figure(figsize=(5,5))\n",
    "sns.boxplot(y='Tenure',x='Exited',data=data)\n",
    "plt.show()"
   ]
  },
  {
   "cell_type": "markdown",
   "id": "823dc9e7",
   "metadata": {},
   "source": [
    "- From the plot above, customers that have stayed with the bank for a long time are most likely to exit the bank.\n",
    "- Customers, that have been with the bank up to 3 year and more are likely to exit the bank\n",
    "- The longer the customers stayed with the bank, the more likely they would exit the bank\n",
    "- Older customers should be given some sense of belonging or insentives that would encourage them not to exit the bank"
   ]
  },
  {
   "cell_type": "markdown",
   "id": "fbfebd3a",
   "metadata": {},
   "source": [
    "#### Exited Vs Balance"
   ]
  },
  {
   "cell_type": "code",
   "execution_count": 85,
   "id": "bdb700ff",
   "metadata": {},
   "outputs": [
    {
     "data": {
      "image/png": "[encoded data removed]",
      "text/plain": [
       "<Figure size 360x360 with 1 Axes>"
      ]
     },
     "metadata": {
      "needs_background": "light"
     },
     "output_type": "display_data"
    }
   ],
   "source": [
    "# checking the boxplot of Balance and Exited\n",
    "plt.figure(figsize=(5,5))\n",
    "sns.boxplot(y='Balance',x='Exited',data=data)\n",
    "plt.show()"
   ]
  },
  {
   "cell_type": "markdown",
   "id": "266ae3e6",
   "metadata": {},
   "source": [
    "- From the plot above, customers with account balance from 5000 and above are likely to exit the bank\n",
    "- The more the account balance, the likely the customer churn/exit the bank\n",
    "- More strategies, attractive marketing policies and products should be developed for the customers that have from 5000 and above balance in order to prevent churning/exiting the bank\n",
    "- As a strategy, customers with more account balance priorities should be given to them to prevent exiting the bank"
   ]
  },
  {
   "cell_type": "markdown",
   "id": "6f787699",
   "metadata": {},
   "source": [
    "#### Exited Vs Number of Products"
   ]
  },
  {
   "cell_type": "code",
   "execution_count": 86,
   "id": "8c582502",
   "metadata": {},
   "outputs": [
    {
     "data": {
      "image/png": "[encoded data removed]",
      "text/plain": [
       "<Figure size 360x360 with 1 Axes>"
      ]
     },
     "metadata": {
      "needs_background": "light"
     },
     "output_type": "display_data"
    }
   ],
   "source": [
    "# checking the boxplot of Number of Product and Exited\n",
    "plt.figure(figsize=(5,5))\n",
    "sns.boxplot(y='NumOfProducts',x='Exited',data=data)\n",
    "plt.show()"
   ]
  },
  {
   "cell_type": "markdown",
   "id": "872c3bfc",
   "metadata": {},
   "source": [
    "- From the plot above, no much information about if the customer would exit\n",
    "- Although, customers that use up to 4 of the bank's product are likely to exit\n",
    "- Surveys should be shared with customers to get their feedbacks so as to develop more strategic products that would encourage the customers to not churn or exit the bank."
   ]
  },
  {
   "cell_type": "markdown",
   "id": "3cfa09c9",
   "metadata": {},
   "source": [
    "#### Exited Vs Estimated Salary"
   ]
  },
  {
   "cell_type": "code",
   "execution_count": 87,
   "id": "0073011e",
   "metadata": {},
   "outputs": [
    {
     "data": {
      "image/png": "[encoded data removed]",
      "text/plain": [
       "<Figure size 360x360 with 1 Axes>"
      ]
     },
     "metadata": {
      "needs_background": "light"
     },
     "output_type": "display_data"
    }
   ],
   "source": [
    "# checking the boxplot of Number of Estimated Salary and Exited\n",
    "plt.figure(figsize=(5,5))\n",
    "sns.boxplot(y='EstimatedSalary',x='Exited',data=data)\n",
    "plt.show()"
   ]
  },
  {
   "cell_type": "markdown",
   "id": "d12e15ea",
   "metadata": {},
   "source": [
    "- From the plot above, both are of equal values and do not tend to give us significant information about our target"
   ]
  },
  {
   "cell_type": "code",
   "execution_count": 88,
   "id": "029980d7",
   "metadata": {},
   "outputs": [],
   "source": [
    "data2 = data.copy()"
   ]
  },
  {
   "cell_type": "code",
   "execution_count": 107,
   "id": "54372c3a",
   "metadata": {},
   "outputs": [],
   "source": [
    "data3 = data2.copy()"
   ]
  },
  {
   "cell_type": "markdown",
   "id": "ebec7172",
   "metadata": {},
   "source": [
    "## Data Preprocessing"
   ]
  },
  {
   "cell_type": "markdown",
   "id": "7814b20f",
   "metadata": {},
   "source": [
    "### Data Preparation for Modeling"
   ]
  },
  {
   "cell_type": "code",
   "execution_count": 149,
   "id": "f11caf85",
   "metadata": {},
   "outputs": [
    {
     "data": {
      "text/html": [
       "<div>\n",
       "<style scoped>\n",
       "    .dataframe tbody tr th:only-of-type {\n",
       "        vertical-align: middle;\n",
       "    }\n",
       "\n",
       "    .dataframe tbody tr th {\n",
       "        vertical-align: top;\n",
       "    }\n",
       "\n",
       "    .dataframe thead th {\n",
       "        text-align: right;\n",
       "    }\n",
       "</style>\n",
       "<table border=\"1\" class=\"dataframe\">\n",
       "  <thead>\n",
       "    <tr style=\"text-align: right;\">\n",
       "      <th></th>\n",
       "      <th>CreditScore</th>\n",
       "      <th>Geography</th>\n",
       "      <th>Gender</th>\n",
       "      <th>Age</th>\n",
       "      <th>Tenure</th>\n",
       "      <th>Balance</th>\n",
       "      <th>NumOfProducts</th>\n",
       "      <th>HasCrCard</th>\n",
       "      <th>IsActiveMember</th>\n",
       "      <th>EstimatedSalary</th>\n",
       "      <th>Exited</th>\n",
       "    </tr>\n",
       "  </thead>\n",
       "  <tbody>\n",
       "    <tr>\n",
       "      <th>0</th>\n",
       "      <td>619</td>\n",
       "      <td>France</td>\n",
       "      <td>Female</td>\n",
       "      <td>42</td>\n",
       "      <td>2</td>\n",
       "      <td>0.000</td>\n",
       "      <td>1</td>\n",
       "      <td>1</td>\n",
       "      <td>1</td>\n",
       "      <td>101348.880</td>\n",
       "      <td>1</td>\n",
       "    </tr>\n",
       "    <tr>\n",
       "      <th>1</th>\n",
       "      <td>608</td>\n",
       "      <td>Spain</td>\n",
       "      <td>Female</td>\n",
       "      <td>41</td>\n",
       "      <td>1</td>\n",
       "      <td>83807.860</td>\n",
       "      <td>1</td>\n",
       "      <td>0</td>\n",
       "      <td>1</td>\n",
       "      <td>112542.580</td>\n",
       "      <td>0</td>\n",
       "    </tr>\n",
       "    <tr>\n",
       "      <th>2</th>\n",
       "      <td>502</td>\n",
       "      <td>France</td>\n",
       "      <td>Female</td>\n",
       "      <td>42</td>\n",
       "      <td>8</td>\n",
       "      <td>159660.800</td>\n",
       "      <td>3</td>\n",
       "      <td>1</td>\n",
       "      <td>0</td>\n",
       "      <td>113931.570</td>\n",
       "      <td>1</td>\n",
       "    </tr>\n",
       "    <tr>\n",
       "      <th>3</th>\n",
       "      <td>699</td>\n",
       "      <td>France</td>\n",
       "      <td>Female</td>\n",
       "      <td>39</td>\n",
       "      <td>1</td>\n",
       "      <td>0.000</td>\n",
       "      <td>2</td>\n",
       "      <td>0</td>\n",
       "      <td>0</td>\n",
       "      <td>93826.630</td>\n",
       "      <td>0</td>\n",
       "    </tr>\n",
       "    <tr>\n",
       "      <th>4</th>\n",
       "      <td>850</td>\n",
       "      <td>Spain</td>\n",
       "      <td>Female</td>\n",
       "      <td>43</td>\n",
       "      <td>2</td>\n",
       "      <td>125510.820</td>\n",
       "      <td>1</td>\n",
       "      <td>1</td>\n",
       "      <td>1</td>\n",
       "      <td>79084.100</td>\n",
       "      <td>0</td>\n",
       "    </tr>\n",
       "  </tbody>\n",
       "</table>\n",
       "</div>"
      ],
      "text/plain": [
       "   CreditScore Geography  Gender  Age  Tenure    Balance  NumOfProducts  \\\n",
       "0          619    France  Female   42       2      0.000              1   \n",
       "1          608     Spain  Female   41       1  83807.860              1   \n",
       "2          502    France  Female   42       8 159660.800              3   \n",
       "3          699    France  Female   39       1      0.000              2   \n",
       "4          850     Spain  Female   43       2 125510.820              1   \n",
       "\n",
       "   HasCrCard  IsActiveMember  EstimatedSalary  Exited  \n",
       "0          1               1       101348.880       1  \n",
       "1          0               1       112542.580       0  \n",
       "2          1               0       113931.570       1  \n",
       "3          0               0        93826.630       0  \n",
       "4          1               1        79084.100       0  "
      ]
     },
     "execution_count": 149,
     "metadata": {},
     "output_type": "execute_result"
    }
   ],
   "source": [
    "data2.head()"
   ]
  },
  {
   "cell_type": "code",
   "execution_count": 113,
   "id": "3eb6c9e3",
   "metadata": {},
   "outputs": [
    {
     "data": {
      "text/plain": [
       "(10000, 11)"
      ]
     },
     "execution_count": 113,
     "metadata": {},
     "output_type": "execute_result"
    }
   ],
   "source": [
    "data.shape"
   ]
  },
  {
   "cell_type": "code",
   "execution_count": 150,
   "id": "5b7f322f",
   "metadata": {},
   "outputs": [],
   "source": [
    "## Separating Independent and Dependent Columns\n",
    "X = data2.drop(['Exited'],axis=1)\n",
    "Y = data2[['Exited']]"
   ]
  },
  {
   "cell_type": "code",
   "execution_count": 151,
   "id": "5bc67514",
   "metadata": {},
   "outputs": [],
   "source": [
    "# Splitting the dataset into the Training and Testing set.\n",
    "\n",
    "X_temp, X_test, y_temp, y_test = train_test_split(X,y, test_size = 0.2, random_state = 42,stratify=y,shuffle = True)"
   ]
  },
  {
   "cell_type": "code",
   "execution_count": 152,
   "id": "0519170a",
   "metadata": {},
   "outputs": [],
   "source": [
    "# Splitting the dataset into the Training and Testing set.\n",
    "\n",
    "X_train, X_val, y_train, y_val = train_test_split(X_temp,y_temp, test_size = 0.2, random_state = 42,stratify=y_temp, shuffle = True)"
   ]
  },
  {
   "cell_type": "code",
   "execution_count": 153,
   "id": "74b41c41",
   "metadata": {},
   "outputs": [
    {
     "data": {
      "text/html": [
       "<div>\n",
       "<style scoped>\n",
       "    .dataframe tbody tr th:only-of-type {\n",
       "        vertical-align: middle;\n",
       "    }\n",
       "\n",
       "    .dataframe tbody tr th {\n",
       "        vertical-align: top;\n",
       "    }\n",
       "\n",
       "    .dataframe thead th {\n",
       "        text-align: right;\n",
       "    }\n",
       "</style>\n",
       "<table border=\"1\" class=\"dataframe\">\n",
       "  <thead>\n",
       "    <tr style=\"text-align: right;\">\n",
       "      <th></th>\n",
       "      <th>CreditScore</th>\n",
       "      <th>Geography</th>\n",
       "      <th>Gender</th>\n",
       "      <th>Age</th>\n",
       "      <th>Tenure</th>\n",
       "      <th>Balance</th>\n",
       "      <th>NumOfProducts</th>\n",
       "      <th>HasCrCard</th>\n",
       "      <th>IsActiveMember</th>\n",
       "      <th>EstimatedSalary</th>\n",
       "    </tr>\n",
       "  </thead>\n",
       "  <tbody>\n",
       "    <tr>\n",
       "      <th>3006</th>\n",
       "      <td>747</td>\n",
       "      <td>France</td>\n",
       "      <td>Female</td>\n",
       "      <td>45</td>\n",
       "      <td>1</td>\n",
       "      <td>114959.120</td>\n",
       "      <td>1</td>\n",
       "      <td>1</td>\n",
       "      <td>0</td>\n",
       "      <td>189362.390</td>\n",
       "    </tr>\n",
       "    <tr>\n",
       "      <th>5735</th>\n",
       "      <td>585</td>\n",
       "      <td>Spain</td>\n",
       "      <td>Female</td>\n",
       "      <td>44</td>\n",
       "      <td>4</td>\n",
       "      <td>0.000</td>\n",
       "      <td>2</td>\n",
       "      <td>0</td>\n",
       "      <td>1</td>\n",
       "      <td>101728.460</td>\n",
       "    </tr>\n",
       "    <tr>\n",
       "      <th>5652</th>\n",
       "      <td>691</td>\n",
       "      <td>France</td>\n",
       "      <td>Female</td>\n",
       "      <td>29</td>\n",
       "      <td>9</td>\n",
       "      <td>0.000</td>\n",
       "      <td>2</td>\n",
       "      <td>0</td>\n",
       "      <td>0</td>\n",
       "      <td>199635.930</td>\n",
       "    </tr>\n",
       "    <tr>\n",
       "      <th>26</th>\n",
       "      <td>756</td>\n",
       "      <td>Germany</td>\n",
       "      <td>Male</td>\n",
       "      <td>36</td>\n",
       "      <td>2</td>\n",
       "      <td>136815.640</td>\n",
       "      <td>1</td>\n",
       "      <td>1</td>\n",
       "      <td>1</td>\n",
       "      <td>170041.950</td>\n",
       "    </tr>\n",
       "    <tr>\n",
       "      <th>3596</th>\n",
       "      <td>643</td>\n",
       "      <td>France</td>\n",
       "      <td>Male</td>\n",
       "      <td>36</td>\n",
       "      <td>0</td>\n",
       "      <td>148159.710</td>\n",
       "      <td>1</td>\n",
       "      <td>0</td>\n",
       "      <td>0</td>\n",
       "      <td>55835.660</td>\n",
       "    </tr>\n",
       "  </tbody>\n",
       "</table>\n",
       "</div>"
      ],
      "text/plain": [
       "      CreditScore Geography  Gender  Age  Tenure    Balance  NumOfProducts  \\\n",
       "3006          747    France  Female   45       1 114959.120              1   \n",
       "5735          585     Spain  Female   44       4      0.000              2   \n",
       "5652          691    France  Female   29       9      0.000              2   \n",
       "26            756   Germany    Male   36       2 136815.640              1   \n",
       "3596          643    France    Male   36       0 148159.710              1   \n",
       "\n",
       "      HasCrCard  IsActiveMember  EstimatedSalary  \n",
       "3006          1               0       189362.390  \n",
       "5735          0               1       101728.460  \n",
       "5652          0               0       199635.930  \n",
       "26            1               1       170041.950  \n",
       "3596          0               0        55835.660  "
      ]
     },
     "execution_count": 153,
     "metadata": {},
     "output_type": "execute_result"
    }
   ],
   "source": [
    "X_train.head()"
   ]
  },
  {
   "cell_type": "markdown",
   "id": "0d004883",
   "metadata": {},
   "source": [
    "- From the table above, Exited has been dropped from the independant variable"
   ]
  },
  {
   "cell_type": "code",
   "execution_count": 155,
   "id": "15a8f767",
   "metadata": {},
   "outputs": [],
   "source": [
    "data3 = data2.copy()"
   ]
  },
  {
   "cell_type": "code",
   "execution_count": 156,
   "id": "e6f12a34",
   "metadata": {},
   "outputs": [
    {
     "data": {
      "text/html": [
       "<div>\n",
       "<style scoped>\n",
       "    .dataframe tbody tr th:only-of-type {\n",
       "        vertical-align: middle;\n",
       "    }\n",
       "\n",
       "    .dataframe tbody tr th {\n",
       "        vertical-align: top;\n",
       "    }\n",
       "\n",
       "    .dataframe thead th {\n",
       "        text-align: right;\n",
       "    }\n",
       "</style>\n",
       "<table border=\"1\" class=\"dataframe\">\n",
       "  <thead>\n",
       "    <tr style=\"text-align: right;\">\n",
       "      <th></th>\n",
       "      <th>CreditScore</th>\n",
       "      <th>Geography</th>\n",
       "      <th>Gender</th>\n",
       "      <th>Age</th>\n",
       "      <th>Tenure</th>\n",
       "      <th>Balance</th>\n",
       "      <th>NumOfProducts</th>\n",
       "      <th>HasCrCard</th>\n",
       "      <th>IsActiveMember</th>\n",
       "      <th>EstimatedSalary</th>\n",
       "      <th>Exited</th>\n",
       "    </tr>\n",
       "  </thead>\n",
       "  <tbody>\n",
       "    <tr>\n",
       "      <th>0</th>\n",
       "      <td>619</td>\n",
       "      <td>France</td>\n",
       "      <td>Female</td>\n",
       "      <td>42</td>\n",
       "      <td>2</td>\n",
       "      <td>0.000</td>\n",
       "      <td>1</td>\n",
       "      <td>1</td>\n",
       "      <td>1</td>\n",
       "      <td>101348.880</td>\n",
       "      <td>1</td>\n",
       "    </tr>\n",
       "    <tr>\n",
       "      <th>1</th>\n",
       "      <td>608</td>\n",
       "      <td>Spain</td>\n",
       "      <td>Female</td>\n",
       "      <td>41</td>\n",
       "      <td>1</td>\n",
       "      <td>83807.860</td>\n",
       "      <td>1</td>\n",
       "      <td>0</td>\n",
       "      <td>1</td>\n",
       "      <td>112542.580</td>\n",
       "      <td>0</td>\n",
       "    </tr>\n",
       "    <tr>\n",
       "      <th>2</th>\n",
       "      <td>502</td>\n",
       "      <td>France</td>\n",
       "      <td>Female</td>\n",
       "      <td>42</td>\n",
       "      <td>8</td>\n",
       "      <td>159660.800</td>\n",
       "      <td>3</td>\n",
       "      <td>1</td>\n",
       "      <td>0</td>\n",
       "      <td>113931.570</td>\n",
       "      <td>1</td>\n",
       "    </tr>\n",
       "    <tr>\n",
       "      <th>3</th>\n",
       "      <td>699</td>\n",
       "      <td>France</td>\n",
       "      <td>Female</td>\n",
       "      <td>39</td>\n",
       "      <td>1</td>\n",
       "      <td>0.000</td>\n",
       "      <td>2</td>\n",
       "      <td>0</td>\n",
       "      <td>0</td>\n",
       "      <td>93826.630</td>\n",
       "      <td>0</td>\n",
       "    </tr>\n",
       "    <tr>\n",
       "      <th>4</th>\n",
       "      <td>850</td>\n",
       "      <td>Spain</td>\n",
       "      <td>Female</td>\n",
       "      <td>43</td>\n",
       "      <td>2</td>\n",
       "      <td>125510.820</td>\n",
       "      <td>1</td>\n",
       "      <td>1</td>\n",
       "      <td>1</td>\n",
       "      <td>79084.100</td>\n",
       "      <td>0</td>\n",
       "    </tr>\n",
       "  </tbody>\n",
       "</table>\n",
       "</div>"
      ],
      "text/plain": [
       "   CreditScore Geography  Gender  Age  Tenure    Balance  NumOfProducts  \\\n",
       "0          619    France  Female   42       2      0.000              1   \n",
       "1          608     Spain  Female   41       1  83807.860              1   \n",
       "2          502    France  Female   42       8 159660.800              3   \n",
       "3          699    France  Female   39       1      0.000              2   \n",
       "4          850     Spain  Female   43       2 125510.820              1   \n",
       "\n",
       "   HasCrCard  IsActiveMember  EstimatedSalary  Exited  \n",
       "0          1               1       101348.880       1  \n",
       "1          0               1       112542.580       0  \n",
       "2          1               0       113931.570       1  \n",
       "3          0               0        93826.630       0  \n",
       "4          1               1        79084.100       0  "
      ]
     },
     "execution_count": 156,
     "metadata": {},
     "output_type": "execute_result"
    }
   ],
   "source": [
    "data2.head()"
   ]
  },
  {
   "cell_type": "markdown",
   "id": "47903e34",
   "metadata": {},
   "source": [
    "**Create dummy variables for string type variables**"
   ]
  },
  {
   "cell_type": "markdown",
   "id": "d44495dc",
   "metadata": {},
   "source": [
    "**Categorical Encoding**"
   ]
  },
  {
   "cell_type": "code",
   "execution_count": 157,
   "id": "c4c13b64",
   "metadata": {},
   "outputs": [],
   "source": [
    "# Using pd.get dummies to encode the categorical columns in the data\n",
    "X_train = pd.get_dummies(X_train, columns=[\"Geography\",\"Gender\"],drop_first=True) \n",
    "X_test = pd.get_dummies(X_test, columns=[\"Geography\",\"Gender\"],drop_first=True)  \n",
    "X_val = pd.get_dummies(X_val, columns=[\"Geography\",\"Gender\"],drop_first=True)"
   ]
  },
  {
   "cell_type": "code",
   "execution_count": 159,
   "id": "07ac7aa4",
   "metadata": {
    "scrolled": true
   },
   "outputs": [
    {
     "data": {
      "text/html": [
       "<div>\n",
       "<style scoped>\n",
       "    .dataframe tbody tr th:only-of-type {\n",
       "        vertical-align: middle;\n",
       "    }\n",
       "\n",
       "    .dataframe tbody tr th {\n",
       "        vertical-align: top;\n",
       "    }\n",
       "\n",
       "    .dataframe thead th {\n",
       "        text-align: right;\n",
       "    }\n",
       "</style>\n",
       "<table border=\"1\" class=\"dataframe\">\n",
       "  <thead>\n",
       "    <tr style=\"text-align: right;\">\n",
       "      <th></th>\n",
       "      <th>CreditScore</th>\n",
       "      <th>Age</th>\n",
       "      <th>Tenure</th>\n",
       "      <th>Balance</th>\n",
       "      <th>NumOfProducts</th>\n",
       "      <th>HasCrCard</th>\n",
       "      <th>IsActiveMember</th>\n",
       "      <th>EstimatedSalary</th>\n",
       "      <th>Geography_Germany</th>\n",
       "      <th>Geography_Spain</th>\n",
       "      <th>Gender_Male</th>\n",
       "    </tr>\n",
       "  </thead>\n",
       "  <tbody>\n",
       "    <tr>\n",
       "      <th>3006</th>\n",
       "      <td>747</td>\n",
       "      <td>45</td>\n",
       "      <td>1</td>\n",
       "      <td>114959.120</td>\n",
       "      <td>1</td>\n",
       "      <td>1</td>\n",
       "      <td>0</td>\n",
       "      <td>189362.390</td>\n",
       "      <td>0</td>\n",
       "      <td>0</td>\n",
       "      <td>0</td>\n",
       "    </tr>\n",
       "    <tr>\n",
       "      <th>5735</th>\n",
       "      <td>585</td>\n",
       "      <td>44</td>\n",
       "      <td>4</td>\n",
       "      <td>0.000</td>\n",
       "      <td>2</td>\n",
       "      <td>0</td>\n",
       "      <td>1</td>\n",
       "      <td>101728.460</td>\n",
       "      <td>0</td>\n",
       "      <td>1</td>\n",
       "      <td>0</td>\n",
       "    </tr>\n",
       "    <tr>\n",
       "      <th>5652</th>\n",
       "      <td>691</td>\n",
       "      <td>29</td>\n",
       "      <td>9</td>\n",
       "      <td>0.000</td>\n",
       "      <td>2</td>\n",
       "      <td>0</td>\n",
       "      <td>0</td>\n",
       "      <td>199635.930</td>\n",
       "      <td>0</td>\n",
       "      <td>0</td>\n",
       "      <td>0</td>\n",
       "    </tr>\n",
       "    <tr>\n",
       "      <th>26</th>\n",
       "      <td>756</td>\n",
       "      <td>36</td>\n",
       "      <td>2</td>\n",
       "      <td>136815.640</td>\n",
       "      <td>1</td>\n",
       "      <td>1</td>\n",
       "      <td>1</td>\n",
       "      <td>170041.950</td>\n",
       "      <td>1</td>\n",
       "      <td>0</td>\n",
       "      <td>1</td>\n",
       "    </tr>\n",
       "    <tr>\n",
       "      <th>3596</th>\n",
       "      <td>643</td>\n",
       "      <td>36</td>\n",
       "      <td>0</td>\n",
       "      <td>148159.710</td>\n",
       "      <td>1</td>\n",
       "      <td>0</td>\n",
       "      <td>0</td>\n",
       "      <td>55835.660</td>\n",
       "      <td>0</td>\n",
       "      <td>0</td>\n",
       "      <td>1</td>\n",
       "    </tr>\n",
       "  </tbody>\n",
       "</table>\n",
       "</div>"
      ],
      "text/plain": [
       "      CreditScore  Age  Tenure    Balance  NumOfProducts  HasCrCard  \\\n",
       "3006          747   45       1 114959.120              1          1   \n",
       "5735          585   44       4      0.000              2          0   \n",
       "5652          691   29       9      0.000              2          0   \n",
       "26            756   36       2 136815.640              1          1   \n",
       "3596          643   36       0 148159.710              1          0   \n",
       "\n",
       "      IsActiveMember  EstimatedSalary  Geography_Germany  Geography_Spain  \\\n",
       "3006               0       189362.390                  0                0   \n",
       "5735               1       101728.460                  0                1   \n",
       "5652               0       199635.930                  0                0   \n",
       "26                 1       170041.950                  1                0   \n",
       "3596               0        55835.660                  0                0   \n",
       "\n",
       "      Gender_Male  \n",
       "3006            0  \n",
       "5735            0  \n",
       "5652            0  \n",
       "26              1  \n",
       "3596            1  "
      ]
     },
     "execution_count": 159,
     "metadata": {},
     "output_type": "execute_result"
    }
   ],
   "source": [
    "X_train.head()"
   ]
  },
  {
   "cell_type": "code",
   "execution_count": 161,
   "id": "f4b54010",
   "metadata": {},
   "outputs": [
    {
     "name": "stdout",
     "output_type": "stream",
     "text": [
      "<class 'pandas.core.frame.DataFrame'>\n",
      "Int64Index: 6400 entries, 3006 to 1558\n",
      "Data columns (total 11 columns):\n",
      " #   Column             Non-Null Count  Dtype  \n",
      "---  ------             --------------  -----  \n",
      " 0   CreditScore        6400 non-null   int64  \n",
      " 1   Age                6400 non-null   int64  \n",
      " 2   Tenure             6400 non-null   int64  \n",
      " 3   Balance            6400 non-null   float64\n",
      " 4   NumOfProducts      6400 non-null   int64  \n",
      " 5   HasCrCard          6400 non-null   int64  \n",
      " 6   IsActiveMember     6400 non-null   int64  \n",
      " 7   EstimatedSalary    6400 non-null   float64\n",
      " 8   Geography_Germany  6400 non-null   uint8  \n",
      " 9   Geography_Spain    6400 non-null   uint8  \n",
      " 10  Gender_Male        6400 non-null   uint8  \n",
      "dtypes: float64(2), int64(6), uint8(3)\n",
      "memory usage: 468.8 KB\n"
     ]
    }
   ],
   "source": [
    "X_train.info()"
   ]
  },
  {
   "cell_type": "markdown",
   "id": "84cda6b9",
   "metadata": {},
   "source": [
    "- All the variables of Object data type have been converted to categorical variables to be useful for the model building"
   ]
  },
  {
   "cell_type": "markdown",
   "id": "ef16010c",
   "metadata": {},
   "source": [
    "**Normalize the numerical data**"
   ]
  },
  {
   "cell_type": "code",
   "execution_count": 162,
   "id": "8a5e36b6",
   "metadata": {},
   "outputs": [],
   "source": [
    "## Normalizing/ scaling the Numerical data in x_train, x_test and x_validate\n",
    "sc=StandardScaler()\n",
    "temp = sc.fit(X_train[[\"CreditScore\",\"Age\",\"Tenure\",\"Balance\",\"EstimatedSalary\"]])\n",
    "X_train[[\"CreditScore\",\"Age\",\"Tenure\",\"Balance\",\"EstimatedSalary\"]] = temp.transform(X_train[[\"CreditScore\",\"Age\",\"Tenure\",\"Balance\",\"EstimatedSalary\"]])\n",
    "X_test[[\"CreditScore\",\"Age\",\"Tenure\",\"Balance\",\"EstimatedSalary\"]] = temp.transform(X_test[[\"CreditScore\",\"Age\",\"Tenure\",\"Balance\",\"EstimatedSalary\"]])\n",
    "X_val[[\"CreditScore\",\"Age\",\"Tenure\",\"Balance\",\"EstimatedSalary\"]] = temp.transform(X_val[[\"CreditScore\",\"Age\",\"Tenure\",\"Balance\",\"EstimatedSalary\"]])"
   ]
  },
  {
   "cell_type": "code",
   "execution_count": 163,
   "id": "ec37b257",
   "metadata": {},
   "outputs": [
    {
     "name": "stdout",
     "output_type": "stream",
     "text": [
      "(6400, 11)\n",
      "(1600, 11)\n",
      "(6400, 1)\n",
      "(1600, 1)\n",
      "(2000, 11)\n",
      "(2000, 1)\n"
     ]
    }
   ],
   "source": [
    "# Checking the shape\n",
    "print(X_train.shape)\n",
    "print(X_val.shape)\n",
    "print(y_train.shape)\n",
    "print(y_val.shape)\n",
    "print(X_test.shape)\n",
    "print(y_test.shape)"
   ]
  },
  {
   "cell_type": "markdown",
   "id": "1ea83ddb",
   "metadata": {},
   "source": [
    "## Model Building"
   ]
  },
  {
   "cell_type": "markdown",
   "id": "531957f9",
   "metadata": {},
   "source": [
    "### Model Evaluation Criterion"
   ]
  },
  {
   "cell_type": "markdown",
   "id": "ff8e3393",
   "metadata": {},
   "source": [
    "**Model can make wrong predictions as:**\n",
    "* Predicting a customer is exiting  and the customer  is not exiting\n",
    "* Predicting a customer is not exiting and  customer is  exiting\n",
    "\n",
    "**Which case is more important?**\n",
    "* Predicting that customer is not exiting but he/she is exiting. It might cause loss to the banks because due to wrong identification bank will not be able to take any initiative for those sensitive customers. \n",
    "\n",
    "**How to reduce this loss i.e need to reduce False Negative?**\n",
    "* Bank would want `Recall` to be maximized, greater the Recall higher the chances of minimizing false Negative. Hence, the focus should be on increasing Recall or minimizing the false Negative or in other words identifying the True Positive(i.e. Class 1) so that the bank can retain their customers."
   ]
  },
  {
   "cell_type": "markdown",
   "id": "f02c2c15",
   "metadata": {},
   "source": [
    "**Plotting the confusion matrix**\n",
    "\n"
   ]
  },
  {
   "cell_type": "code",
   "execution_count": 165,
   "id": "3e1edbeb",
   "metadata": {},
   "outputs": [],
   "source": [
    "def make_confusion_matrix(cf,\n",
    "                          group_names=None,\n",
    "                          categories='auto',\n",
    "                          count=True,\n",
    "                          percent=True,\n",
    "                          cbar=True,\n",
    "                          xyticks=True,\n",
    "                          xyplotlabels=True,\n",
    "                          sum_stats=True,\n",
    "                          figsize=None,\n",
    "                          cmap='Blues',\n",
    "                          title=None):\n",
    "    '''\n",
    "    This function will make a pretty plot of an sklearn Confusion Matrix cm using a Seaborn heatmap visualization.\n",
    "    Arguments\n",
    "    '''\n",
    "\n",
    "\n",
    "    # CODE TO GENERATE TEXT INSIDE EACH SQUARE\n",
    "    blanks = ['' for i in range(cf.size)]\n",
    "\n",
    "    if group_names and len(group_names)==cf.size:\n",
    "        group_labels = [\"{}\\n\".format(value) for value in group_names]\n",
    "    else:\n",
    "        group_labels = blanks\n",
    "\n",
    "    if count:\n",
    "        group_counts = [\"{0:0.0f}\\n\".format(value) for value in cf.flatten()]\n",
    "    else:\n",
    "        group_counts = blanks\n",
    "\n",
    "    if percent:\n",
    "        group_percentages = [\"{0:.2%}\".format(value) for value in cf.flatten()/np.sum(cf)]\n",
    "    else:\n",
    "        group_percentages = blanks\n",
    "\n",
    "    box_labels = [f\"{v1}{v2}{v3}\".strip() for v1, v2, v3 in zip(group_labels,group_counts,group_percentages)]\n",
    "    box_labels = np.asarray(box_labels).reshape(cf.shape[0],cf.shape[1])\n",
    "\n",
    "\n",
    "    # CODE TO GENERATE SUMMARY STATISTICS & TEXT FOR SUMMARY STATS\n",
    "    if sum_stats:\n",
    "        #Accuracy is sum of diagonal divided by total observations\n",
    "        accuracy  = np.trace(cf) / float(np.sum(cf))\n",
    "\n",
    "        #if it is a binary confusion matrix, show some more stats\n",
    "        if len(cf)==2:\n",
    "            #Metrics for Binary Confusion Matrices\n",
    "            precision = cf[1,1] / sum(cf[:,1])\n",
    "            recall    = cf[1,1] / sum(cf[1,:])\n",
    "            f1_score  = 2*precision*recall / (precision + recall)\n",
    "            stats_text = \"\\n\\nAccuracy={:0.3f}\\nPrecision={:0.3f}\\nRecall={:0.3f}\\nF1 Score={:0.3f}\".format(\n",
    "                accuracy,precision,recall,f1_score)\n",
    "        else:\n",
    "            stats_text = \"\\n\\nAccuracy={:0.3f}\".format(accuracy)\n",
    "    else:\n",
    "        stats_text = \"\"\n",
    "\n",
    "\n",
    "    # SET FIGURE PARAMETERS ACCORDING TO OTHER ARGUMENTS\n",
    "    if figsize==None:\n",
    "        #Get default figure size if not set\n",
    "        figsize = plt.rcParams.get('figure.figsize')\n",
    "\n",
    "    if xyticks==False:\n",
    "        #Do not show categories if xyticks is False\n",
    "        categories=False\n",
    "\n",
    "\n",
    "    # MAKE THE HEATMAP VISUALIZATION\n",
    "    plt.figure(figsize=figsize)\n",
    "    sns.heatmap(cf,annot=box_labels,fmt=\"\",cmap=cmap,cbar=cbar,xticklabels=categories,yticklabels=categories)\n",
    "\n",
    "    if xyplotlabels:\n",
    "        plt.ylabel('True label')\n",
    "        plt.xlabel('Predicted label' + stats_text)\n",
    "    else:\n",
    "        plt.xlabel(stats_text)\n",
    "    \n",
    "    if title:\n",
    "        plt.title(title)"
   ]
  },
  {
   "cell_type": "markdown",
   "id": "caef2f7c",
   "metadata": {},
   "source": [
    "### Model Building: Neural Network"
   ]
  },
  {
   "cell_type": "code",
   "execution_count": 166,
   "id": "7d7db292",
   "metadata": {},
   "outputs": [],
   "source": [
    "backend.clear_session()\n",
    "#Fixing the seed for random number generators so that we can ensure we receive the same output everytime\n",
    "np.random.seed(42)\n",
    "random.seed(42)\n",
    "tf.random.set_seed(42)"
   ]
  },
  {
   "cell_type": "code",
   "execution_count": 173,
   "id": "5ec8f080",
   "metadata": {},
   "outputs": [],
   "source": [
    "# Initializing the ANN\n",
    "classifier = Sequential()\n",
    "\n",
    "# The amount of nodes (dimensions) in hidden layer should be the average of input and output layers, in this case 64.\n",
    "# This adds the input layer (by specifying input dimension) AND the first hidden layer (units)\n",
    "classifier.add(Dense(activation = 'relu', input_dim = 11, units=64))\n",
    "\n",
    "#Add 1st hidden layer\n",
    "classifier.add(Dense(32, activation='relu'))\n",
    "\n",
    "# Adding the output layer \n",
    "# we have an output of 1 node, which is the the desired dimensions of our output (stay with the bank or not)\n",
    "# We use the sigmoid because we want probability outcomes\n",
    "classifier.add(Dense(1, activation = 'sigmoid')) "
   ]
  },
  {
   "cell_type": "code",
   "execution_count": 174,
   "id": "69b61867",
   "metadata": {},
   "outputs": [],
   "source": [
    "# Create optimizer with default learning rate\n",
    "# Compile the model\n",
    "classifier.compile(optimizer='SGD', loss='binary_crossentropy', metrics=['accuracy'])"
   ]
  },
  {
   "cell_type": "code",
   "execution_count": 175,
   "id": "a0126db4",
   "metadata": {},
   "outputs": [
    {
     "name": "stdout",
     "output_type": "stream",
     "text": [
      "Model: \"sequential_4\"\n",
      "_________________________________________________________________\n",
      " Layer (type)                Output Shape              Param #   \n",
      "=================================================================\n",
      " dense_11 (Dense)            (None, 64)                768       \n",
      "                                                                 \n",
      " dense_12 (Dense)            (None, 32)                2080      \n",
      "                                                                 \n",
      " dense_13 (Dense)            (None, 1)                 33        \n",
      "                                                                 \n",
      "=================================================================\n",
      "Total params: 2,881\n",
      "Trainable params: 2,881\n",
      "Non-trainable params: 0\n",
      "_________________________________________________________________\n"
     ]
    }
   ],
   "source": [
    "# checking for the summary of the model/classifier\n",
    "classifier.summary()"
   ]
  },
  {
   "cell_type": "code",
   "execution_count": 177,
   "id": "6ac90487",
   "metadata": {},
   "outputs": [
    {
     "name": "stdout",
     "output_type": "stream",
     "text": [
      "Epoch 1/100\n",
      "200/200 [==============================] - 1s 3ms/step - loss: 0.5287 - accuracy: 0.7933 - val_loss: 0.4907 - val_accuracy: 0.7962\n",
      "Epoch 2/100\n",
      "200/200 [==============================] - 0s 2ms/step - loss: 0.4828 - accuracy: 0.7962 - val_loss: 0.4738 - val_accuracy: 0.7962\n",
      "Epoch 3/100\n",
      "200/200 [==============================] - 0s 2ms/step - loss: 0.4676 - accuracy: 0.7964 - val_loss: 0.4617 - val_accuracy: 0.7956\n",
      "Epoch 4/100\n",
      "200/200 [==============================] - 0s 2ms/step - loss: 0.4562 - accuracy: 0.7973 - val_loss: 0.4530 - val_accuracy: 0.7944\n",
      "Epoch 5/100\n",
      "200/200 [==============================] - 0s 2ms/step - loss: 0.4478 - accuracy: 0.7947 - val_loss: 0.4465 - val_accuracy: 0.7962\n",
      "Epoch 6/100\n",
      "200/200 [==============================] - 0s 2ms/step - loss: 0.4415 - accuracy: 0.7961 - val_loss: 0.4417 - val_accuracy: 0.7994\n",
      "Epoch 7/100\n",
      "200/200 [==============================] - 1s 3ms/step - loss: 0.4366 - accuracy: 0.8012 - val_loss: 0.4379 - val_accuracy: 0.8019\n",
      "Epoch 8/100\n",
      "200/200 [==============================] - 1s 3ms/step - loss: 0.4321 - accuracy: 0.8053 - val_loss: 0.4371 - val_accuracy: 0.8044\n",
      "Epoch 9/100\n",
      "200/200 [==============================] - 0s 2ms/step - loss: 0.4298 - accuracy: 0.8091 - val_loss: 0.4331 - val_accuracy: 0.8094\n",
      "Epoch 10/100\n",
      "200/200 [==============================] - 1s 3ms/step - loss: 0.4271 - accuracy: 0.8128 - val_loss: 0.4314 - val_accuracy: 0.8094\n",
      "Epoch 11/100\n",
      "200/200 [==============================] - 1s 3ms/step - loss: 0.4249 - accuracy: 0.8130 - val_loss: 0.4303 - val_accuracy: 0.8106\n",
      "Epoch 12/100\n",
      "200/200 [==============================] - 1s 3ms/step - loss: 0.4231 - accuracy: 0.8191 - val_loss: 0.4284 - val_accuracy: 0.8125\n",
      "Epoch 13/100\n",
      "200/200 [==============================] - 1s 3ms/step - loss: 0.4214 - accuracy: 0.8194 - val_loss: 0.4271 - val_accuracy: 0.8169\n",
      "Epoch 14/100\n",
      "200/200 [==============================] - 1s 3ms/step - loss: 0.4199 - accuracy: 0.8205 - val_loss: 0.4261 - val_accuracy: 0.8169\n",
      "Epoch 15/100\n",
      "200/200 [==============================] - 1s 4ms/step - loss: 0.4186 - accuracy: 0.8216 - val_loss: 0.4252 - val_accuracy: 0.8256\n",
      "Epoch 16/100\n",
      "200/200 [==============================] - 1s 4ms/step - loss: 0.4171 - accuracy: 0.8208 - val_loss: 0.4243 - val_accuracy: 0.8200\n",
      "Epoch 17/100\n",
      "200/200 [==============================] - 1s 7ms/step - loss: 0.4160 - accuracy: 0.8234 - val_loss: 0.4231 - val_accuracy: 0.8256\n",
      "Epoch 18/100\n",
      "200/200 [==============================] - 1s 5ms/step - loss: 0.4153 - accuracy: 0.8234 - val_loss: 0.4223 - val_accuracy: 0.8269\n",
      "Epoch 19/100\n",
      "200/200 [==============================] - 1s 4ms/step - loss: 0.4142 - accuracy: 0.8241 - val_loss: 0.4216 - val_accuracy: 0.8250\n",
      "Epoch 20/100\n",
      "200/200 [==============================] - 1s 3ms/step - loss: 0.4131 - accuracy: 0.8239 - val_loss: 0.4207 - val_accuracy: 0.8281\n",
      "Epoch 21/100\n",
      "200/200 [==============================] - 1s 3ms/step - loss: 0.4120 - accuracy: 0.8244 - val_loss: 0.4199 - val_accuracy: 0.8256\n",
      "Epoch 22/100\n",
      "200/200 [==============================] - 1s 3ms/step - loss: 0.4109 - accuracy: 0.8239 - val_loss: 0.4195 - val_accuracy: 0.8256\n",
      "Epoch 23/100\n",
      "200/200 [==============================] - 1s 3ms/step - loss: 0.4102 - accuracy: 0.8252 - val_loss: 0.4185 - val_accuracy: 0.8288\n",
      "Epoch 24/100\n",
      "200/200 [==============================] - 1s 3ms/step - loss: 0.4090 - accuracy: 0.8255 - val_loss: 0.4174 - val_accuracy: 0.8306\n",
      "Epoch 25/100\n",
      "200/200 [==============================] - 0s 2ms/step - loss: 0.4081 - accuracy: 0.8261 - val_loss: 0.4165 - val_accuracy: 0.8300\n",
      "Epoch 26/100\n",
      "200/200 [==============================] - 0s 2ms/step - loss: 0.4071 - accuracy: 0.8277 - val_loss: 0.4161 - val_accuracy: 0.8313\n",
      "Epoch 27/100\n",
      "200/200 [==============================] - 0s 2ms/step - loss: 0.4060 - accuracy: 0.8266 - val_loss: 0.4163 - val_accuracy: 0.8269\n",
      "Epoch 28/100\n",
      "200/200 [==============================] - 0s 2ms/step - loss: 0.4056 - accuracy: 0.8288 - val_loss: 0.4153 - val_accuracy: 0.8275\n",
      "Epoch 29/100\n",
      "200/200 [==============================] - 0s 2ms/step - loss: 0.4044 - accuracy: 0.8295 - val_loss: 0.4147 - val_accuracy: 0.8319\n",
      "Epoch 30/100\n",
      "200/200 [==============================] - 0s 2ms/step - loss: 0.4036 - accuracy: 0.8283 - val_loss: 0.4138 - val_accuracy: 0.8281\n",
      "Epoch 31/100\n",
      "200/200 [==============================] - 1s 3ms/step - loss: 0.4028 - accuracy: 0.8284 - val_loss: 0.4131 - val_accuracy: 0.8288\n",
      "Epoch 32/100\n",
      "200/200 [==============================] - 0s 2ms/step - loss: 0.4020 - accuracy: 0.8286 - val_loss: 0.4127 - val_accuracy: 0.8294\n",
      "Epoch 33/100\n",
      "200/200 [==============================] - 1s 3ms/step - loss: 0.4012 - accuracy: 0.8291 - val_loss: 0.4119 - val_accuracy: 0.8319\n",
      "Epoch 34/100\n",
      "200/200 [==============================] - 0s 2ms/step - loss: 0.4004 - accuracy: 0.8320 - val_loss: 0.4116 - val_accuracy: 0.8300\n",
      "Epoch 35/100\n",
      "200/200 [==============================] - 1s 3ms/step - loss: 0.3994 - accuracy: 0.8314 - val_loss: 0.4110 - val_accuracy: 0.8306\n",
      "Epoch 36/100\n",
      "200/200 [==============================] - 1s 3ms/step - loss: 0.3986 - accuracy: 0.8314 - val_loss: 0.4101 - val_accuracy: 0.8338\n",
      "Epoch 37/100\n",
      "200/200 [==============================] - 1s 3ms/step - loss: 0.3976 - accuracy: 0.8322 - val_loss: 0.4104 - val_accuracy: 0.8300\n",
      "Epoch 38/100\n",
      "200/200 [==============================] - 1s 3ms/step - loss: 0.3970 - accuracy: 0.8325 - val_loss: 0.4093 - val_accuracy: 0.8313\n",
      "Epoch 39/100\n",
      "200/200 [==============================] - 1s 3ms/step - loss: 0.3962 - accuracy: 0.8319 - val_loss: 0.4081 - val_accuracy: 0.8331\n",
      "Epoch 40/100\n",
      "200/200 [==============================] - 0s 2ms/step - loss: 0.3954 - accuracy: 0.8338 - val_loss: 0.4081 - val_accuracy: 0.8319\n",
      "Epoch 41/100\n",
      "200/200 [==============================] - 0s 2ms/step - loss: 0.3942 - accuracy: 0.8361 - val_loss: 0.4077 - val_accuracy: 0.8325\n",
      "Epoch 42/100\n",
      "200/200 [==============================] - 1s 4ms/step - loss: 0.3936 - accuracy: 0.8355 - val_loss: 0.4074 - val_accuracy: 0.8313\n",
      "Epoch 43/100\n",
      "200/200 [==============================] - 1s 5ms/step - loss: 0.3929 - accuracy: 0.8355 - val_loss: 0.4065 - val_accuracy: 0.8331\n",
      "Epoch 44/100\n",
      "200/200 [==============================] - 1s 4ms/step - loss: 0.3917 - accuracy: 0.8364 - val_loss: 0.4062 - val_accuracy: 0.8356\n",
      "Epoch 45/100\n",
      "200/200 [==============================] - 1s 3ms/step - loss: 0.3908 - accuracy: 0.8367 - val_loss: 0.4060 - val_accuracy: 0.8319\n",
      "Epoch 46/100\n",
      "200/200 [==============================] - 1s 3ms/step - loss: 0.3901 - accuracy: 0.8386 - val_loss: 0.4052 - val_accuracy: 0.8325\n",
      "Epoch 47/100\n",
      "200/200 [==============================] - 1s 3ms/step - loss: 0.3891 - accuracy: 0.8389 - val_loss: 0.4041 - val_accuracy: 0.8356\n",
      "Epoch 48/100\n",
      "200/200 [==============================] - 1s 3ms/step - loss: 0.3883 - accuracy: 0.8398 - val_loss: 0.4040 - val_accuracy: 0.8319\n",
      "Epoch 49/100\n",
      "200/200 [==============================] - 1s 3ms/step - loss: 0.3876 - accuracy: 0.8397 - val_loss: 0.4027 - val_accuracy: 0.8344\n",
      "Epoch 50/100\n",
      "200/200 [==============================] - 1s 3ms/step - loss: 0.3860 - accuracy: 0.8400 - val_loss: 0.4063 - val_accuracy: 0.8313\n",
      "Epoch 51/100\n",
      "200/200 [==============================] - 0s 2ms/step - loss: 0.3857 - accuracy: 0.8389 - val_loss: 0.4014 - val_accuracy: 0.8369\n",
      "Epoch 52/100\n",
      "200/200 [==============================] - 0s 2ms/step - loss: 0.3845 - accuracy: 0.8409 - val_loss: 0.4006 - val_accuracy: 0.8356\n",
      "Epoch 53/100\n",
      "200/200 [==============================] - 0s 2ms/step - loss: 0.3837 - accuracy: 0.8409 - val_loss: 0.4019 - val_accuracy: 0.8363\n",
      "Epoch 54/100\n",
      "200/200 [==============================] - 1s 2ms/step - loss: 0.3828 - accuracy: 0.8409 - val_loss: 0.3998 - val_accuracy: 0.8350\n",
      "Epoch 55/100\n",
      "200/200 [==============================] - 0s 2ms/step - loss: 0.3818 - accuracy: 0.8413 - val_loss: 0.3987 - val_accuracy: 0.8363\n",
      "Epoch 56/100\n",
      "200/200 [==============================] - 0s 2ms/step - loss: 0.3808 - accuracy: 0.8425 - val_loss: 0.3982 - val_accuracy: 0.8369\n",
      "Epoch 57/100\n",
      "200/200 [==============================] - 0s 2ms/step - loss: 0.3800 - accuracy: 0.8427 - val_loss: 0.3971 - val_accuracy: 0.8356\n",
      "Epoch 58/100\n",
      "200/200 [==============================] - 1s 3ms/step - loss: 0.3788 - accuracy: 0.8436 - val_loss: 0.3966 - val_accuracy: 0.8381\n",
      "Epoch 59/100\n",
      "200/200 [==============================] - 0s 2ms/step - loss: 0.3778 - accuracy: 0.8444 - val_loss: 0.3964 - val_accuracy: 0.8369\n",
      "Epoch 60/100\n",
      "200/200 [==============================] - 0s 2ms/step - loss: 0.3770 - accuracy: 0.8439 - val_loss: 0.3950 - val_accuracy: 0.8375\n",
      "Epoch 61/100\n",
      "200/200 [==============================] - 0s 2ms/step - loss: 0.3757 - accuracy: 0.8458 - val_loss: 0.3941 - val_accuracy: 0.8381\n",
      "Epoch 62/100\n",
      "200/200 [==============================] - 0s 2ms/step - loss: 0.3749 - accuracy: 0.8438 - val_loss: 0.3930 - val_accuracy: 0.8406\n",
      "Epoch 63/100\n",
      "200/200 [==============================] - 0s 2ms/step - loss: 0.3743 - accuracy: 0.8458 - val_loss: 0.3934 - val_accuracy: 0.8394\n",
      "Epoch 64/100\n",
      "200/200 [==============================] - 1s 3ms/step - loss: 0.3733 - accuracy: 0.8448 - val_loss: 0.3928 - val_accuracy: 0.8394\n",
      "Epoch 65/100\n",
      "200/200 [==============================] - 1s 3ms/step - loss: 0.3722 - accuracy: 0.8450 - val_loss: 0.3924 - val_accuracy: 0.8406\n",
      "Epoch 66/100\n",
      "200/200 [==============================] - 1s 3ms/step - loss: 0.3709 - accuracy: 0.8481 - val_loss: 0.3905 - val_accuracy: 0.8419\n",
      "Epoch 67/100\n",
      "200/200 [==============================] - 1s 3ms/step - loss: 0.3702 - accuracy: 0.8477 - val_loss: 0.3891 - val_accuracy: 0.8431\n",
      "Epoch 68/100\n",
      "200/200 [==============================] - 1s 3ms/step - loss: 0.3690 - accuracy: 0.8464 - val_loss: 0.3888 - val_accuracy: 0.8419\n",
      "Epoch 69/100\n",
      "200/200 [==============================] - 1s 3ms/step - loss: 0.3680 - accuracy: 0.8467 - val_loss: 0.3886 - val_accuracy: 0.8413\n",
      "Epoch 70/100\n",
      "200/200 [==============================] - 1s 3ms/step - loss: 0.3668 - accuracy: 0.8486 - val_loss: 0.3879 - val_accuracy: 0.8425\n",
      "Epoch 71/100\n",
      "200/200 [==============================] - 0s 2ms/step - loss: 0.3664 - accuracy: 0.8489 - val_loss: 0.3844 - val_accuracy: 0.8450\n",
      "Epoch 72/100\n",
      "200/200 [==============================] - 0s 2ms/step - loss: 0.3651 - accuracy: 0.8472 - val_loss: 0.3842 - val_accuracy: 0.8456\n",
      "Epoch 73/100\n",
      "200/200 [==============================] - 1s 3ms/step - loss: 0.3641 - accuracy: 0.8486 - val_loss: 0.3845 - val_accuracy: 0.8425\n",
      "Epoch 74/100\n",
      "200/200 [==============================] - 1s 4ms/step - loss: 0.3629 - accuracy: 0.8508 - val_loss: 0.3840 - val_accuracy: 0.8438\n",
      "Epoch 75/100\n",
      "200/200 [==============================] - 1s 3ms/step - loss: 0.3622 - accuracy: 0.8494 - val_loss: 0.3805 - val_accuracy: 0.8425\n",
      "Epoch 76/100\n",
      "200/200 [==============================] - 0s 2ms/step - loss: 0.3611 - accuracy: 0.8517 - val_loss: 0.3790 - val_accuracy: 0.8475\n",
      "Epoch 77/100\n",
      "200/200 [==============================] - 0s 2ms/step - loss: 0.3594 - accuracy: 0.8503 - val_loss: 0.3798 - val_accuracy: 0.8469\n",
      "Epoch 78/100\n",
      "200/200 [==============================] - 0s 2ms/step - loss: 0.3594 - accuracy: 0.8537 - val_loss: 0.3774 - val_accuracy: 0.8506\n",
      "Epoch 79/100\n",
      "200/200 [==============================] - 0s 2ms/step - loss: 0.3581 - accuracy: 0.8536 - val_loss: 0.3768 - val_accuracy: 0.8487\n",
      "Epoch 80/100\n",
      "200/200 [==============================] - 0s 2ms/step - loss: 0.3570 - accuracy: 0.8514 - val_loss: 0.3767 - val_accuracy: 0.8469\n",
      "Epoch 81/100\n",
      "200/200 [==============================] - 0s 2ms/step - loss: 0.3556 - accuracy: 0.8516 - val_loss: 0.3769 - val_accuracy: 0.8475\n",
      "Epoch 82/100\n",
      "200/200 [==============================] - 0s 2ms/step - loss: 0.3548 - accuracy: 0.8541 - val_loss: 0.3735 - val_accuracy: 0.8500\n",
      "Epoch 83/100\n",
      "200/200 [==============================] - 0s 2ms/step - loss: 0.3539 - accuracy: 0.8541 - val_loss: 0.3750 - val_accuracy: 0.8469\n",
      "Epoch 84/100\n",
      "200/200 [==============================] - 0s 2ms/step - loss: 0.3529 - accuracy: 0.8536 - val_loss: 0.3739 - val_accuracy: 0.8475\n",
      "Epoch 85/100\n",
      "200/200 [==============================] - 1s 3ms/step - loss: 0.3527 - accuracy: 0.8566 - val_loss: 0.3718 - val_accuracy: 0.8481\n",
      "Epoch 86/100\n",
      "200/200 [==============================] - 1s 3ms/step - loss: 0.3515 - accuracy: 0.8558 - val_loss: 0.3696 - val_accuracy: 0.8494\n",
      "Epoch 87/100\n",
      "200/200 [==============================] - 0s 2ms/step - loss: 0.3507 - accuracy: 0.8552 - val_loss: 0.3677 - val_accuracy: 0.8487\n",
      "Epoch 88/100\n",
      "200/200 [==============================] - 0s 2ms/step - loss: 0.3496 - accuracy: 0.8548 - val_loss: 0.3686 - val_accuracy: 0.8487\n",
      "Epoch 89/100\n",
      "200/200 [==============================] - 0s 2ms/step - loss: 0.3487 - accuracy: 0.8583 - val_loss: 0.3664 - val_accuracy: 0.8487\n",
      "Epoch 90/100\n",
      "200/200 [==============================] - 1s 3ms/step - loss: 0.3476 - accuracy: 0.8556 - val_loss: 0.3692 - val_accuracy: 0.8444\n",
      "Epoch 91/100\n",
      "200/200 [==============================] - 1s 3ms/step - loss: 0.3465 - accuracy: 0.8589 - val_loss: 0.3674 - val_accuracy: 0.8487\n",
      "Epoch 92/100\n",
      "200/200 [==============================] - 1s 3ms/step - loss: 0.3455 - accuracy: 0.8578 - val_loss: 0.3676 - val_accuracy: 0.8469\n",
      "Epoch 93/100\n",
      "200/200 [==============================] - 1s 3ms/step - loss: 0.3447 - accuracy: 0.8569 - val_loss: 0.3643 - val_accuracy: 0.8512\n",
      "Epoch 94/100\n",
      "200/200 [==============================] - 1s 3ms/step - loss: 0.3440 - accuracy: 0.8598 - val_loss: 0.3627 - val_accuracy: 0.8494\n",
      "Epoch 95/100\n",
      "200/200 [==============================] - 1s 3ms/step - loss: 0.3428 - accuracy: 0.8598 - val_loss: 0.3658 - val_accuracy: 0.8456\n",
      "Epoch 96/100\n",
      "200/200 [==============================] - 1s 4ms/step - loss: 0.3410 - accuracy: 0.8577 - val_loss: 0.3609 - val_accuracy: 0.8500\n",
      "Epoch 97/100\n",
      "200/200 [==============================] - 1s 4ms/step - loss: 0.3407 - accuracy: 0.8616 - val_loss: 0.3611 - val_accuracy: 0.8525\n",
      "Epoch 98/100\n",
      "200/200 [==============================] - 1s 4ms/step - loss: 0.3395 - accuracy: 0.8606 - val_loss: 0.3669 - val_accuracy: 0.8456\n",
      "Epoch 99/100\n",
      "200/200 [==============================] - 1s 3ms/step - loss: 0.3390 - accuracy: 0.8591 - val_loss: 0.3579 - val_accuracy: 0.8506\n",
      "Epoch 100/100\n",
      "200/200 [==============================] - 1s 3ms/step - loss: 0.3374 - accuracy: 0.8611 - val_loss: 0.3586 - val_accuracy: 0.8525\n"
     ]
    }
   ],
   "source": [
    "history=classifier.fit(X_train, y_train,           \n",
    "          validation_data=(X_val,y_val),\n",
    "          epochs=100,\n",
    "          batch_size=32)"
   ]
  },
  {
   "cell_type": "markdown",
   "id": "71162374",
   "metadata": {},
   "source": [
    "**Loss function**"
   ]
  },
  {
   "cell_type": "code",
   "execution_count": 179,
   "id": "12e43dd8",
   "metadata": {},
   "outputs": [
    {
     "name": "stdout",
     "output_type": "stream",
     "text": [
      "63/63 [==============================] - 0s 2ms/step - loss: 0.3514 - accuracy: 0.8515\n"
     ]
    },
    {
     "data": {
      "image/png": "[encoded data removed]",
      "text/plain": [
       "<Figure size 432x288 with 1 Axes>"
      ]
     },
     "metadata": {
      "needs_background": "light"
     },
     "output_type": "display_data"
    }
   ],
   "source": [
    "# Capturing learning history per epoch\n",
    "hist  = pd.DataFrame(history.history)\n",
    "hist['epoch'] = history.epoch\n",
    "\n",
    "# Plotting accuracy at different epochs\n",
    "plt.plot(hist['loss'])\n",
    "plt.plot(hist['val_loss'])\n",
    "plt.legend((\"train\" , \"valid\") , loc =0)\n",
    "\n",
    "#Printing results\n",
    "results = classifier.evaluate(X_test, y_test)"
   ]
  },
  {
   "cell_type": "markdown",
   "id": "4f6c6f42",
   "metadata": {},
   "source": [
    "- There seem to be some distortions and noise in the validation dataset\n",
    "- there is an increasing gap between the training and validation datasets\n",
    "- The loss function tends to increase wider between the train and validation data as the number of epochs increases\n"
   ]
  },
  {
   "cell_type": "markdown",
   "id": "06ef3ddb",
   "metadata": {},
   "source": [
    "**Confusion matrix** "
   ]
  },
  {
   "cell_type": "code",
   "execution_count": 180,
   "id": "82fce146",
   "metadata": {},
   "outputs": [
    {
     "name": "stdout",
     "output_type": "stream",
     "text": [
      "50/50 [==============================] - 1s 3ms/step\n"
     ]
    },
    {
     "data": {
      "text/plain": [
       "array([[False],\n",
       "       [False],\n",
       "       [False],\n",
       "       ...,\n",
       "       [False],\n",
       "       [False],\n",
       "       [False]])"
      ]
     },
     "execution_count": 180,
     "metadata": {},
     "output_type": "execute_result"
    }
   ],
   "source": [
    "y_pred1=classifier.predict(X_val)\n",
    "y_pred1 = (y_pred1 > 0.5)\n",
    "y_pred1"
   ]
  },
  {
   "cell_type": "code",
   "execution_count": 183,
   "id": "8fcb7c5d",
   "metadata": {},
   "outputs": [
    {
     "data": {
      "image/png": "[encoded data removed]",
      "text/plain": [
       "<Figure size 432x288 with 2 Axes>"
      ]
     },
     "metadata": {
      "needs_background": "light"
     },
     "output_type": "display_data"
    }
   ],
   "source": [
    "#Calculating the confusion matrix \n",
    "y_pred1 = (y_pred1 > 0.5)\n",
    "cm2=confusion_matrix(y_val, y_pred1)\n",
    "labels = ['True Negative','False Positive','False Negative','True Positive']\n",
    "categories = [ 'Not_Exited','Exited']\n",
    "make_confusion_matrix(cm2, \n",
    "                      group_names=labels,\n",
    "                      categories=categories, \n",
    "                      cmap='OrRd')"
   ]
  },
  {
   "cell_type": "markdown",
   "id": "0aef8679",
   "metadata": {},
   "source": [
    "- False Negative is somehow high at 12.44%\n",
    "- I need to minimize the FN and maximize the Recall value\n",
    "- Recall score is very low at 0.390. Need to increase the recall scores by reducing the value for False Negative"
   ]
  },
  {
   "cell_type": "markdown",
   "id": "1f2ee464",
   "metadata": {},
   "source": [
    "### Model Building: Neural Network model with Adam Optimizer"
   ]
  },
  {
   "cell_type": "code",
   "execution_count": 184,
   "id": "b4acbbff",
   "metadata": {},
   "outputs": [],
   "source": [
    "backend.clear_session()\n",
    "#Fixing the seed for random number generators so that we can ensure we receive the same output everytime\n",
    "np.random.seed(2)\n",
    "random.seed(2)\n",
    "tf.random.set_seed(2)"
   ]
  },
  {
   "cell_type": "code",
   "execution_count": 186,
   "id": "70d46476",
   "metadata": {},
   "outputs": [],
   "source": [
    "def create_model():\n",
    "      ## Initializing the ANN\n",
    "      model = Sequential()\n",
    "\n",
    "      #Adding the input, hidden and output layers\n",
    "      model.add(Dense(64, activation='relu',input_dim = X_train.shape[1]))\n",
    "\n",
    "      model.add(Dense(32,activation='relu'))\n",
    "\n",
    "      model.add(Dense(1, activation = 'sigmoid'))\n",
    "      \n",
    "      ##Compiling the ANN with Adam optimizer and binary cross entropy loss function\n",
    "      optimizer = tf.keras.optimizers.Adam(0.001)                                        \n",
    "\n",
    "      model.compile(loss='binary_crossentropy',optimizer=optimizer,metrics=['accuracy'])\n",
    "      return model"
   ]
  },
  {
   "cell_type": "code",
   "execution_count": 187,
   "id": "2994a785",
   "metadata": {},
   "outputs": [
    {
     "name": "stdout",
     "output_type": "stream",
     "text": [
      "Model: \"sequential\"\n",
      "_________________________________________________________________\n",
      " Layer (type)                Output Shape              Param #   \n",
      "=================================================================\n",
      " dense (Dense)               (None, 64)                768       \n",
      "                                                                 \n",
      " dense_1 (Dense)             (None, 32)                2080      \n",
      "                                                                 \n",
      " dense_2 (Dense)             (None, 1)                 33        \n",
      "                                                                 \n",
      "=================================================================\n",
      "Total params: 2,881\n",
      "Trainable params: 2,881\n",
      "Non-trainable params: 0\n",
      "_________________________________________________________________\n"
     ]
    }
   ],
   "source": [
    "model=create_model()\n",
    "model.summary()"
   ]
  },
  {
   "cell_type": "code",
   "execution_count": 188,
   "id": "3c0c9f01",
   "metadata": {},
   "outputs": [
    {
     "name": "stdout",
     "output_type": "stream",
     "text": [
      "Epoch 1/100\n",
      "200/200 [==============================] - 1s 4ms/step - loss: 0.4546 - accuracy: 0.8052 - val_loss: 0.4346 - val_accuracy: 0.8094\n",
      "Epoch 2/100\n",
      "200/200 [==============================] - 1s 3ms/step - loss: 0.4163 - accuracy: 0.8238 - val_loss: 0.4208 - val_accuracy: 0.8169\n",
      "Epoch 3/100\n",
      "200/200 [==============================] - 1s 3ms/step - loss: 0.4046 - accuracy: 0.8286 - val_loss: 0.4144 - val_accuracy: 0.8275\n",
      "Epoch 4/100\n",
      "200/200 [==============================] - 1s 3ms/step - loss: 0.3953 - accuracy: 0.8323 - val_loss: 0.4151 - val_accuracy: 0.8181\n",
      "Epoch 5/100\n",
      "200/200 [==============================] - 1s 2ms/step - loss: 0.3852 - accuracy: 0.8370 - val_loss: 0.4026 - val_accuracy: 0.8331\n",
      "Epoch 6/100\n",
      "200/200 [==============================] - 1s 3ms/step - loss: 0.3772 - accuracy: 0.8431 - val_loss: 0.3932 - val_accuracy: 0.8388\n",
      "Epoch 7/100\n",
      "200/200 [==============================] - 0s 2ms/step - loss: 0.3703 - accuracy: 0.8445 - val_loss: 0.3815 - val_accuracy: 0.8431\n",
      "Epoch 8/100\n",
      "200/200 [==============================] - 0s 2ms/step - loss: 0.3622 - accuracy: 0.8445 - val_loss: 0.3772 - val_accuracy: 0.8475\n",
      "Epoch 9/100\n",
      "200/200 [==============================] - 1s 3ms/step - loss: 0.3554 - accuracy: 0.8520 - val_loss: 0.3741 - val_accuracy: 0.8438\n",
      "Epoch 10/100\n",
      "200/200 [==============================] - 0s 2ms/step - loss: 0.3490 - accuracy: 0.8566 - val_loss: 0.3622 - val_accuracy: 0.8519\n",
      "Epoch 11/100\n",
      "200/200 [==============================] - 0s 2ms/step - loss: 0.3427 - accuracy: 0.8531 - val_loss: 0.3813 - val_accuracy: 0.8456\n",
      "Epoch 12/100\n",
      "200/200 [==============================] - 1s 3ms/step - loss: 0.3390 - accuracy: 0.8594 - val_loss: 0.3646 - val_accuracy: 0.8544\n",
      "Epoch 13/100\n",
      "200/200 [==============================] - 0s 2ms/step - loss: 0.3350 - accuracy: 0.8608 - val_loss: 0.3581 - val_accuracy: 0.8481\n",
      "Epoch 14/100\n",
      "200/200 [==============================] - 1s 3ms/step - loss: 0.3305 - accuracy: 0.8620 - val_loss: 0.3638 - val_accuracy: 0.8469\n",
      "Epoch 15/100\n",
      "200/200 [==============================] - 1s 3ms/step - loss: 0.3283 - accuracy: 0.8644 - val_loss: 0.3647 - val_accuracy: 0.8481\n",
      "Epoch 16/100\n",
      "200/200 [==============================] - 1s 3ms/step - loss: 0.3262 - accuracy: 0.8628 - val_loss: 0.3558 - val_accuracy: 0.8506\n",
      "Epoch 17/100\n",
      "200/200 [==============================] - 1s 3ms/step - loss: 0.3219 - accuracy: 0.8669 - val_loss: 0.3546 - val_accuracy: 0.8562\n",
      "Epoch 18/100\n",
      "200/200 [==============================] - 1s 3ms/step - loss: 0.3188 - accuracy: 0.8672 - val_loss: 0.3576 - val_accuracy: 0.8506\n",
      "Epoch 19/100\n",
      "200/200 [==============================] - 1s 3ms/step - loss: 0.3179 - accuracy: 0.8677 - val_loss: 0.3646 - val_accuracy: 0.8544\n",
      "Epoch 20/100\n",
      "200/200 [==============================] - 1s 3ms/step - loss: 0.3163 - accuracy: 0.8683 - val_loss: 0.3519 - val_accuracy: 0.8537\n",
      "Epoch 21/100\n",
      "200/200 [==============================] - 1s 3ms/step - loss: 0.3155 - accuracy: 0.8675 - val_loss: 0.3545 - val_accuracy: 0.8544\n",
      "Epoch 22/100\n",
      "200/200 [==============================] - 1s 3ms/step - loss: 0.3144 - accuracy: 0.8670 - val_loss: 0.3520 - val_accuracy: 0.8544\n",
      "Epoch 23/100\n",
      "200/200 [==============================] - 1s 3ms/step - loss: 0.3120 - accuracy: 0.8723 - val_loss: 0.3535 - val_accuracy: 0.8562\n",
      "Epoch 24/100\n",
      "200/200 [==============================] - 1s 3ms/step - loss: 0.3106 - accuracy: 0.8711 - val_loss: 0.3527 - val_accuracy: 0.8581\n",
      "Epoch 25/100\n",
      "200/200 [==============================] - 1s 3ms/step - loss: 0.3087 - accuracy: 0.8725 - val_loss: 0.3568 - val_accuracy: 0.8550\n",
      "Epoch 26/100\n",
      "200/200 [==============================] - 1s 3ms/step - loss: 0.3095 - accuracy: 0.8712 - val_loss: 0.3542 - val_accuracy: 0.8519\n",
      "Epoch 27/100\n",
      "200/200 [==============================] - 1s 3ms/step - loss: 0.3078 - accuracy: 0.8722 - val_loss: 0.3636 - val_accuracy: 0.8525\n",
      "Epoch 28/100\n",
      "200/200 [==============================] - 1s 3ms/step - loss: 0.3076 - accuracy: 0.8731 - val_loss: 0.3579 - val_accuracy: 0.8550\n",
      "Epoch 29/100\n",
      "200/200 [==============================] - 1s 3ms/step - loss: 0.3070 - accuracy: 0.8712 - val_loss: 0.3561 - val_accuracy: 0.8544\n",
      "Epoch 30/100\n",
      "200/200 [==============================] - 1s 3ms/step - loss: 0.3030 - accuracy: 0.8734 - val_loss: 0.3566 - val_accuracy: 0.8481\n",
      "Epoch 31/100\n",
      "200/200 [==============================] - 1s 3ms/step - loss: 0.3035 - accuracy: 0.8730 - val_loss: 0.3645 - val_accuracy: 0.8525\n",
      "Epoch 32/100\n",
      "200/200 [==============================] - 1s 3ms/step - loss: 0.3030 - accuracy: 0.8730 - val_loss: 0.3561 - val_accuracy: 0.8575\n",
      "Epoch 33/100\n",
      "200/200 [==============================] - 1s 3ms/step - loss: 0.3017 - accuracy: 0.8728 - val_loss: 0.3599 - val_accuracy: 0.8506\n",
      "Epoch 34/100\n",
      "200/200 [==============================] - 1s 3ms/step - loss: 0.3025 - accuracy: 0.8748 - val_loss: 0.3585 - val_accuracy: 0.8494\n",
      "Epoch 35/100\n",
      "200/200 [==============================] - 1s 3ms/step - loss: 0.2997 - accuracy: 0.8753 - val_loss: 0.3578 - val_accuracy: 0.8531\n",
      "Epoch 36/100\n",
      "200/200 [==============================] - 1s 3ms/step - loss: 0.2996 - accuracy: 0.8736 - val_loss: 0.3575 - val_accuracy: 0.8519\n",
      "Epoch 37/100\n",
      "200/200 [==============================] - 1s 3ms/step - loss: 0.2977 - accuracy: 0.8786 - val_loss: 0.3579 - val_accuracy: 0.8544\n",
      "Epoch 38/100\n",
      "200/200 [==============================] - 1s 3ms/step - loss: 0.2964 - accuracy: 0.8750 - val_loss: 0.3626 - val_accuracy: 0.8494\n",
      "Epoch 39/100\n",
      "200/200 [==============================] - 1s 3ms/step - loss: 0.2969 - accuracy: 0.8758 - val_loss: 0.3666 - val_accuracy: 0.8475\n",
      "Epoch 40/100\n",
      "200/200 [==============================] - 1s 3ms/step - loss: 0.2958 - accuracy: 0.8772 - val_loss: 0.3741 - val_accuracy: 0.8419\n",
      "Epoch 41/100\n",
      "200/200 [==============================] - 1s 3ms/step - loss: 0.2958 - accuracy: 0.8775 - val_loss: 0.3698 - val_accuracy: 0.8506\n",
      "Epoch 42/100\n",
      "200/200 [==============================] - 1s 3ms/step - loss: 0.2941 - accuracy: 0.8763 - val_loss: 0.3634 - val_accuracy: 0.8500\n",
      "Epoch 43/100\n",
      "200/200 [==============================] - 1s 3ms/step - loss: 0.2936 - accuracy: 0.8761 - val_loss: 0.3685 - val_accuracy: 0.8462\n",
      "Epoch 44/100\n",
      "200/200 [==============================] - 1s 3ms/step - loss: 0.2927 - accuracy: 0.8772 - val_loss: 0.3666 - val_accuracy: 0.8500\n",
      "Epoch 45/100\n",
      "200/200 [==============================] - 1s 3ms/step - loss: 0.2923 - accuracy: 0.8780 - val_loss: 0.3626 - val_accuracy: 0.8494\n",
      "Epoch 46/100\n",
      "200/200 [==============================] - 1s 3ms/step - loss: 0.2907 - accuracy: 0.8788 - val_loss: 0.3692 - val_accuracy: 0.8475\n",
      "Epoch 47/100\n",
      "200/200 [==============================] - 1s 3ms/step - loss: 0.2895 - accuracy: 0.8798 - val_loss: 0.3764 - val_accuracy: 0.8469\n",
      "Epoch 48/100\n",
      "200/200 [==============================] - 1s 3ms/step - loss: 0.2909 - accuracy: 0.8792 - val_loss: 0.3660 - val_accuracy: 0.8487\n",
      "Epoch 49/100\n",
      "200/200 [==============================] - 1s 3ms/step - loss: 0.2874 - accuracy: 0.8808 - val_loss: 0.3766 - val_accuracy: 0.8456\n",
      "Epoch 50/100\n",
      "200/200 [==============================] - 1s 3ms/step - loss: 0.2889 - accuracy: 0.8792 - val_loss: 0.3668 - val_accuracy: 0.8438\n",
      "Epoch 51/100\n",
      "200/200 [==============================] - 1s 3ms/step - loss: 0.2867 - accuracy: 0.8789 - val_loss: 0.3698 - val_accuracy: 0.8469\n",
      "Epoch 52/100\n",
      "200/200 [==============================] - 1s 3ms/step - loss: 0.2841 - accuracy: 0.8820 - val_loss: 0.3741 - val_accuracy: 0.8494\n",
      "Epoch 53/100\n",
      "200/200 [==============================] - 1s 3ms/step - loss: 0.2839 - accuracy: 0.8808 - val_loss: 0.3696 - val_accuracy: 0.8550\n",
      "Epoch 54/100\n",
      "200/200 [==============================] - 1s 3ms/step - loss: 0.2829 - accuracy: 0.8805 - val_loss: 0.3832 - val_accuracy: 0.8487\n",
      "Epoch 55/100\n",
      "200/200 [==============================] - 1s 4ms/step - loss: 0.2837 - accuracy: 0.8828 - val_loss: 0.3756 - val_accuracy: 0.8462\n",
      "Epoch 56/100\n",
      "200/200 [==============================] - 1s 3ms/step - loss: 0.2830 - accuracy: 0.8819 - val_loss: 0.3715 - val_accuracy: 0.8475\n",
      "Epoch 57/100\n",
      "200/200 [==============================] - 1s 4ms/step - loss: 0.2824 - accuracy: 0.8836 - val_loss: 0.3769 - val_accuracy: 0.8450\n",
      "Epoch 58/100\n",
      "200/200 [==============================] - 1s 3ms/step - loss: 0.2809 - accuracy: 0.8836 - val_loss: 0.3760 - val_accuracy: 0.8512\n",
      "Epoch 59/100\n",
      "200/200 [==============================] - 1s 3ms/step - loss: 0.2790 - accuracy: 0.8844 - val_loss: 0.3788 - val_accuracy: 0.8475\n",
      "Epoch 60/100\n",
      "200/200 [==============================] - 1s 3ms/step - loss: 0.2784 - accuracy: 0.8855 - val_loss: 0.3917 - val_accuracy: 0.8444\n",
      "Epoch 61/100\n",
      "200/200 [==============================] - 1s 3ms/step - loss: 0.2792 - accuracy: 0.8861 - val_loss: 0.3763 - val_accuracy: 0.8469\n",
      "Epoch 62/100\n",
      "200/200 [==============================] - 1s 3ms/step - loss: 0.2785 - accuracy: 0.8844 - val_loss: 0.3785 - val_accuracy: 0.8475\n",
      "Epoch 63/100\n",
      "200/200 [==============================] - 1s 3ms/step - loss: 0.2774 - accuracy: 0.8838 - val_loss: 0.3847 - val_accuracy: 0.8419\n",
      "Epoch 64/100\n",
      "200/200 [==============================] - 1s 3ms/step - loss: 0.2762 - accuracy: 0.8867 - val_loss: 0.3854 - val_accuracy: 0.8400\n",
      "Epoch 65/100\n",
      "200/200 [==============================] - 1s 3ms/step - loss: 0.2751 - accuracy: 0.8858 - val_loss: 0.3899 - val_accuracy: 0.8487\n",
      "Epoch 66/100\n",
      "200/200 [==============================] - 1s 3ms/step - loss: 0.2750 - accuracy: 0.8861 - val_loss: 0.3854 - val_accuracy: 0.8450\n",
      "Epoch 67/100\n",
      "200/200 [==============================] - 1s 3ms/step - loss: 0.2736 - accuracy: 0.8866 - val_loss: 0.3901 - val_accuracy: 0.8494\n",
      "Epoch 68/100\n",
      "200/200 [==============================] - 1s 3ms/step - loss: 0.2732 - accuracy: 0.8883 - val_loss: 0.3843 - val_accuracy: 0.8456\n",
      "Epoch 69/100\n",
      "200/200 [==============================] - 1s 3ms/step - loss: 0.2735 - accuracy: 0.8869 - val_loss: 0.3832 - val_accuracy: 0.8512\n",
      "Epoch 70/100\n",
      "200/200 [==============================] - 1s 3ms/step - loss: 0.2733 - accuracy: 0.8859 - val_loss: 0.3965 - val_accuracy: 0.8469\n",
      "Epoch 71/100\n",
      "200/200 [==============================] - 1s 3ms/step - loss: 0.2728 - accuracy: 0.8905 - val_loss: 0.3855 - val_accuracy: 0.8406\n",
      "Epoch 72/100\n",
      "200/200 [==============================] - 1s 3ms/step - loss: 0.2713 - accuracy: 0.8859 - val_loss: 0.3848 - val_accuracy: 0.8413\n",
      "Epoch 73/100\n",
      "200/200 [==============================] - 1s 3ms/step - loss: 0.2684 - accuracy: 0.8877 - val_loss: 0.3922 - val_accuracy: 0.8413\n",
      "Epoch 74/100\n",
      "200/200 [==============================] - 1s 3ms/step - loss: 0.2696 - accuracy: 0.8905 - val_loss: 0.3877 - val_accuracy: 0.8406\n",
      "Epoch 75/100\n",
      "200/200 [==============================] - 1s 3ms/step - loss: 0.2689 - accuracy: 0.8895 - val_loss: 0.3952 - val_accuracy: 0.8400\n",
      "Epoch 76/100\n",
      "200/200 [==============================] - 1s 3ms/step - loss: 0.2702 - accuracy: 0.8897 - val_loss: 0.3954 - val_accuracy: 0.8456\n",
      "Epoch 77/100\n",
      "200/200 [==============================] - 1s 3ms/step - loss: 0.2687 - accuracy: 0.8880 - val_loss: 0.3881 - val_accuracy: 0.8438\n",
      "Epoch 78/100\n",
      "200/200 [==============================] - 1s 3ms/step - loss: 0.2685 - accuracy: 0.8892 - val_loss: 0.3916 - val_accuracy: 0.8450\n",
      "Epoch 79/100\n",
      "200/200 [==============================] - 1s 3ms/step - loss: 0.2681 - accuracy: 0.8880 - val_loss: 0.3964 - val_accuracy: 0.8325\n",
      "Epoch 80/100\n",
      "200/200 [==============================] - 1s 3ms/step - loss: 0.2677 - accuracy: 0.8870 - val_loss: 0.3901 - val_accuracy: 0.8400\n",
      "Epoch 81/100\n",
      "200/200 [==============================] - 1s 3ms/step - loss: 0.2651 - accuracy: 0.8889 - val_loss: 0.3998 - val_accuracy: 0.8375\n",
      "Epoch 82/100\n",
      "200/200 [==============================] - 1s 3ms/step - loss: 0.2647 - accuracy: 0.8895 - val_loss: 0.3907 - val_accuracy: 0.8431\n",
      "Epoch 83/100\n",
      "200/200 [==============================] - 1s 3ms/step - loss: 0.2618 - accuracy: 0.8914 - val_loss: 0.3924 - val_accuracy: 0.8456\n",
      "Epoch 84/100\n",
      "200/200 [==============================] - 1s 3ms/step - loss: 0.2619 - accuracy: 0.8909 - val_loss: 0.3982 - val_accuracy: 0.8319\n",
      "Epoch 85/100\n",
      "200/200 [==============================] - 1s 3ms/step - loss: 0.2629 - accuracy: 0.8909 - val_loss: 0.3941 - val_accuracy: 0.8450\n",
      "Epoch 86/100\n",
      "200/200 [==============================] - 1s 3ms/step - loss: 0.2613 - accuracy: 0.8933 - val_loss: 0.3960 - val_accuracy: 0.8413\n",
      "Epoch 87/100\n",
      "200/200 [==============================] - 1s 3ms/step - loss: 0.2610 - accuracy: 0.8939 - val_loss: 0.4026 - val_accuracy: 0.8356\n",
      "Epoch 88/100\n",
      "200/200 [==============================] - 1s 3ms/step - loss: 0.2602 - accuracy: 0.8941 - val_loss: 0.3987 - val_accuracy: 0.8381\n",
      "Epoch 89/100\n",
      "200/200 [==============================] - 1s 3ms/step - loss: 0.2587 - accuracy: 0.8922 - val_loss: 0.4059 - val_accuracy: 0.8406\n",
      "Epoch 90/100\n",
      "200/200 [==============================] - 1s 3ms/step - loss: 0.2590 - accuracy: 0.8913 - val_loss: 0.4018 - val_accuracy: 0.8394\n",
      "Epoch 91/100\n",
      "200/200 [==============================] - 1s 3ms/step - loss: 0.2587 - accuracy: 0.8936 - val_loss: 0.4272 - val_accuracy: 0.8487\n",
      "Epoch 92/100\n",
      "200/200 [==============================] - 1s 3ms/step - loss: 0.2578 - accuracy: 0.8967 - val_loss: 0.4026 - val_accuracy: 0.8419\n",
      "Epoch 93/100\n",
      "200/200 [==============================] - 1s 3ms/step - loss: 0.2578 - accuracy: 0.8933 - val_loss: 0.4089 - val_accuracy: 0.8413\n",
      "Epoch 94/100\n",
      "200/200 [==============================] - 1s 3ms/step - loss: 0.2581 - accuracy: 0.8933 - val_loss: 0.4041 - val_accuracy: 0.8356\n",
      "Epoch 95/100\n",
      "200/200 [==============================] - 1s 3ms/step - loss: 0.2565 - accuracy: 0.8936 - val_loss: 0.4074 - val_accuracy: 0.8338\n",
      "Epoch 96/100\n",
      "200/200 [==============================] - 1s 3ms/step - loss: 0.2563 - accuracy: 0.8958 - val_loss: 0.4131 - val_accuracy: 0.8381\n",
      "Epoch 97/100\n",
      "200/200 [==============================] - 1s 3ms/step - loss: 0.2568 - accuracy: 0.8942 - val_loss: 0.3989 - val_accuracy: 0.8381\n",
      "Epoch 98/100\n",
      "200/200 [==============================] - 1s 3ms/step - loss: 0.2543 - accuracy: 0.8955 - val_loss: 0.4086 - val_accuracy: 0.8350\n",
      "Epoch 99/100\n",
      "200/200 [==============================] - 1s 3ms/step - loss: 0.2545 - accuracy: 0.8997 - val_loss: 0.4051 - val_accuracy: 0.8344\n",
      "Epoch 100/100\n",
      "200/200 [==============================] - 1s 3ms/step - loss: 0.2511 - accuracy: 0.8970 - val_loss: 0.4120 - val_accuracy: 0.8375\n"
     ]
    }
   ],
   "source": [
    "# checking for the fitting of the model\n",
    "history = model.fit(X_train,y_train,batch_size=32,epochs=100,verbose=1,validation_data=(X_val,y_val))"
   ]
  },
  {
   "cell_type": "markdown",
   "id": "c17bf818",
   "metadata": {},
   "source": [
    "**Loss function**"
   ]
  },
  {
   "cell_type": "code",
   "execution_count": 189,
   "id": "6717bb11",
   "metadata": {},
   "outputs": [
    {
     "data": {
      "image/png": "[encoded data removed]",
      "text/plain": [
       "<Figure size 432x288 with 1 Axes>"
      ]
     },
     "metadata": {
      "needs_background": "light"
     },
     "output_type": "display_data"
    }
   ],
   "source": [
    "#Plotting Train Loss vs Validation Loss\n",
    "plt.plot(history.history['loss'])\n",
    "plt.plot(history.history['val_loss'])\n",
    "plt.title('model loss')\n",
    "plt.ylabel('Loss')\n",
    "plt.xlabel('Epoch')\n",
    "plt.legend(['train', 'validation'], loc='upper left')\n",
    "plt.show()"
   ]
  },
  {
   "cell_type": "markdown",
   "id": "29691138",
   "metadata": {},
   "source": [
    "- The model is overfitting\n",
    "- The loss function gap has drastically increased as i introduced Adam optimizer at lr(0.001)\n",
    "- The Learning rate seems to affect the validation data\n",
    "- there seems to be some level of imbalance and distortion in the validation data"
   ]
  },
  {
   "cell_type": "markdown",
   "id": "c661fecf",
   "metadata": {},
   "source": [
    "### Introducing more hyperparameters like Earlystopping"
   ]
  },
  {
   "cell_type": "code",
   "execution_count": 193,
   "id": "35b5f168",
   "metadata": {},
   "outputs": [
    {
     "name": "stdout",
     "output_type": "stream",
     "text": [
      "Epoch 1/100\n",
      "200/200 [==============================] - 1s 3ms/step - loss: 0.4664 - accuracy: 0.7841 - val_loss: 0.4318 - val_accuracy: 0.8112\n",
      "Epoch 2/100\n",
      "200/200 [==============================] - 0s 2ms/step - loss: 0.4159 - accuracy: 0.8225 - val_loss: 0.4224 - val_accuracy: 0.8194\n",
      "Epoch 3/100\n",
      "200/200 [==============================] - 0s 2ms/step - loss: 0.4048 - accuracy: 0.8314 - val_loss: 0.4133 - val_accuracy: 0.8331\n",
      "Epoch 4/100\n",
      "200/200 [==============================] - 0s 2ms/step - loss: 0.3953 - accuracy: 0.8364 - val_loss: 0.4146 - val_accuracy: 0.8263\n",
      "Epoch 5/100\n",
      "200/200 [==============================] - 0s 2ms/step - loss: 0.3856 - accuracy: 0.8370 - val_loss: 0.4042 - val_accuracy: 0.8338\n",
      "Epoch 6/100\n",
      "200/200 [==============================] - 0s 2ms/step - loss: 0.3762 - accuracy: 0.8436 - val_loss: 0.3917 - val_accuracy: 0.8462\n",
      "Epoch 7/100\n",
      "200/200 [==============================] - 0s 2ms/step - loss: 0.3661 - accuracy: 0.8494 - val_loss: 0.3778 - val_accuracy: 0.8487\n",
      "Epoch 8/100\n",
      "200/200 [==============================] - 0s 2ms/step - loss: 0.3554 - accuracy: 0.8503 - val_loss: 0.3742 - val_accuracy: 0.8444\n",
      "Epoch 9/100\n",
      "200/200 [==============================] - 0s 2ms/step - loss: 0.3471 - accuracy: 0.8575 - val_loss: 0.3663 - val_accuracy: 0.8494\n",
      "Epoch 10/100\n",
      "200/200 [==============================] - 0s 2ms/step - loss: 0.3397 - accuracy: 0.8566 - val_loss: 0.3555 - val_accuracy: 0.8550\n",
      "Epoch 11/100\n",
      "200/200 [==============================] - 1s 2ms/step - loss: 0.3328 - accuracy: 0.8616 - val_loss: 0.3614 - val_accuracy: 0.8550\n",
      "Epoch 12/100\n",
      "200/200 [==============================] - 0s 2ms/step - loss: 0.3301 - accuracy: 0.8633 - val_loss: 0.3593 - val_accuracy: 0.8519\n",
      "Epoch 13/100\n",
      "200/200 [==============================] - 0s 2ms/step - loss: 0.3259 - accuracy: 0.8648 - val_loss: 0.3520 - val_accuracy: 0.8581\n",
      "Epoch 14/100\n",
      "200/200 [==============================] - 0s 2ms/step - loss: 0.3224 - accuracy: 0.8628 - val_loss: 0.3550 - val_accuracy: 0.8587\n",
      "Epoch 15/100\n",
      "200/200 [==============================] - 0s 2ms/step - loss: 0.3208 - accuracy: 0.8656 - val_loss: 0.3548 - val_accuracy: 0.8537\n",
      "Epoch 16/100\n",
      "200/200 [==============================] - 1s 3ms/step - loss: 0.3190 - accuracy: 0.8689 - val_loss: 0.3531 - val_accuracy: 0.8537\n",
      "Epoch 17/100\n",
      "200/200 [==============================] - 1s 3ms/step - loss: 0.3162 - accuracy: 0.8691 - val_loss: 0.3519 - val_accuracy: 0.8569\n",
      "Epoch 18/100\n",
      "200/200 [==============================] - 1s 3ms/step - loss: 0.3124 - accuracy: 0.8695 - val_loss: 0.3558 - val_accuracy: 0.8562\n"
     ]
    }
   ],
   "source": [
    "#Importing classback API\n",
    "# Defining Early stopping\n",
    "es_cb = callbacks.EarlyStopping(monitor='val_loss', min_delta=0.001, patience=5)\n",
    "\n",
    "#calling the create model function\n",
    "model_e = create_model()\n",
    "\n",
    "# Fitting the model on train and validation with 50 epochs\n",
    "history_e = model_e.fit(X_train, y_train,batch_size=32, validation_data=(X_val, y_val), epochs=100,verbose=1,callbacks=es_cb)"
   ]
  },
  {
   "cell_type": "markdown",
   "id": "8e8725f4",
   "metadata": {},
   "source": [
    "- At Epoch 18/100 , train loss is 0.3124 and accuracy is 0.87. val_loss is 0.3558 and val_accuracy is 0.86"
   ]
  },
  {
   "cell_type": "markdown",
   "id": "1b60f40b",
   "metadata": {},
   "source": [
    "**Loss function**"
   ]
  },
  {
   "cell_type": "code",
   "execution_count": 194,
   "id": "63e5d8bc",
   "metadata": {},
   "outputs": [
    {
     "data": {
      "image/png": "[encoded data removed]",
      "text/plain": [
       "<Figure size 432x288 with 1 Axes>"
      ]
     },
     "metadata": {
      "needs_background": "light"
     },
     "output_type": "display_data"
    }
   ],
   "source": [
    "# Plotting Train Loss vs Validation Loss\n",
    "plt.plot(history_e.history['loss'])\n",
    "plt.plot(history_e.history['val_loss'])\n",
    "plt.title('model loss')\n",
    "plt.ylabel('Loss')\n",
    "plt.xlabel('Epoch')\n",
    "plt.legend(['train', 'validation'], loc='upper left')\n",
    "plt.show()"
   ]
  },
  {
   "cell_type": "markdown",
   "id": "9b4735a5",
   "metadata": {},
   "source": [
    "- From the plot above for the loss function after i introduced earlystopping, the loss function gap has reduced very well, much more than the previous plot but not as good as the first model\n",
    "- Although they is still some level of overfitting in the model\n",
    "- the validation still has some noise or imbalance in the dataset\n",
    "- it appears that as the epoch increases, the loss also increases."
   ]
  },
  {
   "cell_type": "markdown",
   "id": "dec46469",
   "metadata": {},
   "source": [
    "### Tuning the threshold using ROC-AUC"
   ]
  },
  {
   "cell_type": "code",
   "execution_count": 195,
   "id": "8d94d084",
   "metadata": {},
   "outputs": [
    {
     "name": "stdout",
     "output_type": "stream",
     "text": [
      "200/200 [==============================] - 0s 2ms/step\n",
      "Best Threshold=0.169048, G-Mean=0.810\n"
     ]
    },
    {
     "data": {
      "image/png": "[encoded data removed]",
      "text/plain": [
       "<Figure size 432x288 with 1 Axes>"
      ]
     },
     "metadata": {
      "needs_background": "light"
     },
     "output_type": "display_data"
    }
   ],
   "source": [
    "# predict probabilities\n",
    "yhat = model_e.predict(X_train)\n",
    "# keep probabilities for the positive outcome only\n",
    "yhat = yhat[:, 0]\n",
    "# calculate roc curves\n",
    "fpr, tpr, thresholds = roc_curve(y_train, yhat)\n",
    "# calculate the g-mean for each threshold\n",
    "gmeans = np.sqrt(tpr * (1-fpr))\n",
    "# locate the index of the largest g-mean\n",
    "ix = np.argmax(gmeans)\n",
    "print('Best Threshold=%f, G-Mean=%.3f' % (thresholds[ix], gmeans[ix]))\n",
    "# plot the roc curve for the model\n",
    "pyplot.plot([0,1], [0,1], linestyle='--', label='No Skill')\n",
    "pyplot.plot(fpr, tpr, marker='.', label='Logistic')\n",
    "pyplot.scatter(fpr[ix], tpr[ix], marker='o', color='black', label='Best')\n",
    "# axis labels\n",
    "pyplot.xlabel('False Positive Rate')\n",
    "pyplot.ylabel('True Positive Rate')\n",
    "pyplot.legend()\n",
    "# show the plot\n",
    "pyplot.show()"
   ]
  },
  {
   "cell_type": "markdown",
   "id": "1be3ce82",
   "metadata": {},
   "source": [
    "**Predict the results using  the best  threshold**"
   ]
  },
  {
   "cell_type": "code",
   "execution_count": 196,
   "id": "1c832bdc",
   "metadata": {},
   "outputs": [
    {
     "name": "stdout",
     "output_type": "stream",
     "text": [
      "50/50 [==============================] - 0s 2ms/step\n"
     ]
    },
    {
     "data": {
      "text/plain": [
       "array([[False],\n",
       "       [False],\n",
       "       [False],\n",
       "       ...,\n",
       "       [False],\n",
       "       [ True],\n",
       "       [ True]])"
      ]
     },
     "execution_count": 196,
     "metadata": {},
     "output_type": "execute_result"
    }
   ],
   "source": [
    "#Predicting the results using best as a threshold\n",
    "y_pred_e=model_e.predict(X_val)\n",
    "y_pred_e = (y_pred_e > thresholds[ix])\n",
    "y_pred_e"
   ]
  },
  {
   "cell_type": "markdown",
   "id": "66c25d8e",
   "metadata": {},
   "source": [
    "**Classification report**"
   ]
  },
  {
   "cell_type": "code",
   "execution_count": 197,
   "id": "4d6b824d",
   "metadata": {},
   "outputs": [
    {
     "name": "stdout",
     "output_type": "stream",
     "text": [
      "              precision    recall  f1-score   support\n",
      "\n",
      "           0       0.93      0.80      0.86      1274\n",
      "           1       0.49      0.76      0.60       326\n",
      "\n",
      "    accuracy                           0.79      1600\n",
      "   macro avg       0.71      0.78      0.73      1600\n",
      "weighted avg       0.84      0.79      0.81      1600\n",
      "\n"
     ]
    }
   ],
   "source": [
    "#Accuracy as per the classification report \n",
    "from sklearn import metrics\n",
    "cr=metrics.classification_report(y_val,y_pred_e)\n",
    "print(cr)"
   ]
  },
  {
   "cell_type": "markdown",
   "id": "efba28fa",
   "metadata": {},
   "source": [
    "- Recall has increase, meaning the False Negative has reduced more"
   ]
  },
  {
   "cell_type": "markdown",
   "id": "a7458380",
   "metadata": {},
   "source": [
    "**Confusion matrix**"
   ]
  },
  {
   "cell_type": "code",
   "execution_count": 199,
   "id": "4ede5b06",
   "metadata": {},
   "outputs": [
    {
     "data": {
      "image/png": "[encoded data removed]",
      "text/plain": [
       "<Figure size 432x288 with 2 Axes>"
      ]
     },
     "metadata": {
      "needs_background": "light"
     },
     "output_type": "display_data"
    }
   ],
   "source": [
    "#Calculating the confusion matrix \n",
    "from sklearn.metrics import confusion_matrix\n",
    "cm1=confusion_matrix(y_val, y_pred_e)\n",
    "labels = ['True Negative','False Positive','False Negative','True Positive']\n",
    "categories = [ 'Not_Exited','Exited']\n",
    "make_confusion_matrix(cm1, \n",
    "                      group_names=labels,\n",
    "                      categories=categories, \n",
    "                      cmap='PuBuGn')"
   ]
  },
  {
   "cell_type": "markdown",
   "id": "47fb0986",
   "metadata": {},
   "source": [
    "- From the plot above after tuning the threshold using AUC/ROC, the value for False Negative has reduced to 4.88% unlike the first model\n",
    "- The Recall value has improved to 0.761 and accuracy too to 0.792\n",
    "- This model is getting better than the previous"
   ]
  },
  {
   "cell_type": "markdown",
   "id": "6cf09d67",
   "metadata": {},
   "source": [
    "### Model Improvement: Neural Network model with Dropout"
   ]
  },
  {
   "cell_type": "code",
   "execution_count": 200,
   "id": "8540ae2f",
   "metadata": {},
   "outputs": [],
   "source": [
    "backend.clear_session()\n",
    "#Fixing the seed for random number generators so that we can ensure we receive the same output everytime\n",
    "np.random.seed(2)\n",
    "random.seed(2)\n",
    "tf.random.set_seed(2)"
   ]
  },
  {
   "cell_type": "code",
   "execution_count": 201,
   "id": "69c7e5f4",
   "metadata": {},
   "outputs": [],
   "source": [
    "#Initializing ANN\n",
    "model_3 = Sequential()\n",
    "\n",
    "#Adding the input layer with 32 neurons and relu as activation function\n",
    "model_3.add(Dense(32,activation='relu',input_dim = X_train.shape[1]))\n",
    "\n",
    "# Adding dropout\n",
    "model_3.add(Dropout(0.2))\n",
    "\n",
    "# Adding the first hidden layer with 16 neurons with relu as activation functions\n",
    "model_3.add(Dense(16,activation='relu'))\n",
    "\n",
    "#Adding dropout\n",
    "model_3.add(Dropout(0.1))\n",
    "\n",
    "# Adding the second hidden layer with 8 neurons with relu as activation functions\n",
    "model_3.add(Dense(8,activation='relu'))\n",
    "\n",
    "# Adding the output layer\n",
    "model_3.add(Dense(1, activation = 'sigmoid')"
   ]
  },
  {
   "cell_type": "code",
   "execution_count": 202,
   "id": "b3a5aa15",
   "metadata": {},
   "outputs": [
    {
     "name": "stdout",
     "output_type": "stream",
     "text": [
      "Model: \"sequential\"\n",
      "_________________________________________________________________\n",
      " Layer (type)                Output Shape              Param #   \n",
      "=================================================================\n",
      " dense (Dense)               (None, 32)                384       \n",
      "                                                                 \n",
      " dropout (Dropout)           (None, 32)                0         \n",
      "                                                                 \n",
      " dense_1 (Dense)             (None, 16)                528       \n",
      "                                                                 \n",
      " dropout_1 (Dropout)         (None, 16)                0         \n",
      "                                                                 \n",
      " dense_2 (Dense)             (None, 8)                 136       \n",
      "                                                                 \n",
      " dense_3 (Dense)             (None, 1)                 9         \n",
      "                                                                 \n",
      "=================================================================\n",
      "Total params: 1,057\n",
      "Trainable params: 1,057\n",
      "Non-trainable params: 0\n",
      "_________________________________________________________________\n"
     ]
    }
   ],
   "source": [
    "# Summary of the model\n",
    "model_3.summary()"
   ]
  },
  {
   "cell_type": "markdown",
   "id": "643d00e2",
   "metadata": {},
   "source": [
    "- This time, i am adding dropout to fine tune the model more"
   ]
  },
  {
   "cell_type": "code",
   "execution_count": 203,
   "id": "bd6c1ff2",
   "metadata": {},
   "outputs": [],
   "source": [
    "# Initialize the ANN with optimizer\n",
    "optimizer = tf.keras.optimizers.Adam(0.001)\n",
    "\n",
    "# Compiling the model with binary cross entropy as loss function and accuracy as metrics\n",
    "model_3.compile(loss='binary_crossentropy',optimizer=optimizer,metrics=['accuracy'])"
   ]
  },
  {
   "cell_type": "code",
   "execution_count": 204,
   "id": "710aab21",
   "metadata": {},
   "outputs": [
    {
     "name": "stdout",
     "output_type": "stream",
     "text": [
      "Epoch 1/100\n",
      "200/200 [==============================] - 1s 3ms/step - loss: 0.4900 - accuracy: 0.7983 - val_loss: 0.4415 - val_accuracy: 0.8012\n",
      "Epoch 2/100\n",
      "200/200 [==============================] - 1s 5ms/step - loss: 0.4408 - accuracy: 0.8045 - val_loss: 0.4283 - val_accuracy: 0.8069\n",
      "Epoch 3/100\n",
      "200/200 [==============================] - 1s 4ms/step - loss: 0.4310 - accuracy: 0.8127 - val_loss: 0.4229 - val_accuracy: 0.8188\n",
      "Epoch 4/100\n",
      "200/200 [==============================] - 1s 3ms/step - loss: 0.4241 - accuracy: 0.8127 - val_loss: 0.4201 - val_accuracy: 0.8250\n",
      "Epoch 5/100\n",
      "200/200 [==============================] - 1s 3ms/step - loss: 0.4202 - accuracy: 0.8216 - val_loss: 0.4146 - val_accuracy: 0.8213\n",
      "Epoch 6/100\n",
      "200/200 [==============================] - 1s 4ms/step - loss: 0.4220 - accuracy: 0.8183 - val_loss: 0.4112 - val_accuracy: 0.8250\n",
      "Epoch 7/100\n",
      "200/200 [==============================] - 1s 3ms/step - loss: 0.4137 - accuracy: 0.8220 - val_loss: 0.4079 - val_accuracy: 0.8300\n",
      "Epoch 8/100\n",
      "200/200 [==============================] - 1s 3ms/step - loss: 0.4095 - accuracy: 0.8273 - val_loss: 0.4063 - val_accuracy: 0.8288\n",
      "Epoch 9/100\n",
      "200/200 [==============================] - 0s 2ms/step - loss: 0.4061 - accuracy: 0.8314 - val_loss: 0.4028 - val_accuracy: 0.8325\n",
      "Epoch 10/100\n",
      "200/200 [==============================] - 0s 2ms/step - loss: 0.4008 - accuracy: 0.8322 - val_loss: 0.3993 - val_accuracy: 0.8338\n",
      "Epoch 11/100\n",
      "200/200 [==============================] - 1s 3ms/step - loss: 0.3992 - accuracy: 0.8323 - val_loss: 0.3974 - val_accuracy: 0.8331\n",
      "Epoch 12/100\n",
      "200/200 [==============================] - 0s 2ms/step - loss: 0.3944 - accuracy: 0.8358 - val_loss: 0.3957 - val_accuracy: 0.8344\n",
      "Epoch 13/100\n",
      "200/200 [==============================] - 1s 4ms/step - loss: 0.3932 - accuracy: 0.8353 - val_loss: 0.3919 - val_accuracy: 0.8356\n",
      "Epoch 14/100\n",
      "200/200 [==============================] - 1s 3ms/step - loss: 0.3902 - accuracy: 0.8377 - val_loss: 0.3942 - val_accuracy: 0.8363\n",
      "Epoch 15/100\n",
      "200/200 [==============================] - 1s 3ms/step - loss: 0.3874 - accuracy: 0.8395 - val_loss: 0.3859 - val_accuracy: 0.8419\n",
      "Epoch 16/100\n",
      "200/200 [==============================] - 1s 4ms/step - loss: 0.3910 - accuracy: 0.8341 - val_loss: 0.3860 - val_accuracy: 0.8400\n",
      "Epoch 17/100\n",
      "200/200 [==============================] - 1s 3ms/step - loss: 0.3856 - accuracy: 0.8388 - val_loss: 0.3837 - val_accuracy: 0.8419\n",
      "Epoch 18/100\n",
      "200/200 [==============================] - 1s 4ms/step - loss: 0.3797 - accuracy: 0.8420 - val_loss: 0.3808 - val_accuracy: 0.8425\n",
      "Epoch 19/100\n",
      "200/200 [==============================] - 1s 3ms/step - loss: 0.3849 - accuracy: 0.8397 - val_loss: 0.3863 - val_accuracy: 0.8431\n",
      "Epoch 20/100\n",
      "200/200 [==============================] - 1s 3ms/step - loss: 0.3802 - accuracy: 0.8419 - val_loss: 0.3782 - val_accuracy: 0.8444\n",
      "Epoch 21/100\n",
      "200/200 [==============================] - 1s 4ms/step - loss: 0.3740 - accuracy: 0.8447 - val_loss: 0.3763 - val_accuracy: 0.8475\n",
      "Epoch 22/100\n",
      "200/200 [==============================] - 1s 4ms/step - loss: 0.3706 - accuracy: 0.8455 - val_loss: 0.3709 - val_accuracy: 0.8462\n",
      "Epoch 23/100\n",
      "200/200 [==============================] - 1s 3ms/step - loss: 0.3702 - accuracy: 0.8487 - val_loss: 0.3685 - val_accuracy: 0.8450\n",
      "Epoch 24/100\n",
      "200/200 [==============================] - 1s 3ms/step - loss: 0.3691 - accuracy: 0.8469 - val_loss: 0.3653 - val_accuracy: 0.8506\n",
      "Epoch 25/100\n",
      "200/200 [==============================] - 1s 3ms/step - loss: 0.3659 - accuracy: 0.8530 - val_loss: 0.3651 - val_accuracy: 0.8500\n",
      "Epoch 26/100\n",
      "200/200 [==============================] - 1s 3ms/step - loss: 0.3639 - accuracy: 0.8519 - val_loss: 0.3635 - val_accuracy: 0.8469\n",
      "Epoch 27/100\n",
      "200/200 [==============================] - 1s 3ms/step - loss: 0.3619 - accuracy: 0.8552 - val_loss: 0.3654 - val_accuracy: 0.8456\n",
      "Epoch 28/100\n",
      "200/200 [==============================] - 1s 4ms/step - loss: 0.3596 - accuracy: 0.8523 - val_loss: 0.3593 - val_accuracy: 0.8481\n",
      "Epoch 29/100\n",
      "200/200 [==============================] - 1s 3ms/step - loss: 0.3601 - accuracy: 0.8523 - val_loss: 0.3550 - val_accuracy: 0.8500\n",
      "Epoch 30/100\n",
      "200/200 [==============================] - 1s 3ms/step - loss: 0.3563 - accuracy: 0.8562 - val_loss: 0.3530 - val_accuracy: 0.8494\n",
      "Epoch 31/100\n",
      "200/200 [==============================] - 1s 3ms/step - loss: 0.3484 - accuracy: 0.8620 - val_loss: 0.3523 - val_accuracy: 0.8550\n",
      "Epoch 32/100\n",
      "200/200 [==============================] - 1s 3ms/step - loss: 0.3491 - accuracy: 0.8569 - val_loss: 0.3500 - val_accuracy: 0.8525\n",
      "Epoch 33/100\n",
      "200/200 [==============================] - 1s 3ms/step - loss: 0.3496 - accuracy: 0.8562 - val_loss: 0.3455 - val_accuracy: 0.8562\n",
      "Epoch 34/100\n",
      "200/200 [==============================] - 1s 3ms/step - loss: 0.3494 - accuracy: 0.8558 - val_loss: 0.3483 - val_accuracy: 0.8575\n",
      "Epoch 35/100\n",
      "200/200 [==============================] - 1s 3ms/step - loss: 0.3453 - accuracy: 0.8623 - val_loss: 0.3477 - val_accuracy: 0.8606\n",
      "Epoch 36/100\n",
      "200/200 [==============================] - 1s 4ms/step - loss: 0.3449 - accuracy: 0.8572 - val_loss: 0.3475 - val_accuracy: 0.8600\n",
      "Epoch 37/100\n",
      "200/200 [==============================] - 1s 4ms/step - loss: 0.3432 - accuracy: 0.8602 - val_loss: 0.3481 - val_accuracy: 0.8612\n",
      "Epoch 38/100\n",
      "200/200 [==============================] - 1s 3ms/step - loss: 0.3414 - accuracy: 0.8622 - val_loss: 0.3461 - val_accuracy: 0.8606\n"
     ]
    }
   ],
   "source": [
    "#Fitting the ANN with batch_size = 32 and 100 epochs \n",
    "history_3 = model_3.fit(X_train,y_train,batch_size=32,epochs=100,verbose=1,validation_data=(X_val,y_val),callbacks=[es_cb])"
   ]
  },
  {
   "cell_type": "markdown",
   "id": "0939b23d",
   "metadata": {},
   "source": [
    "**Loss function**"
   ]
  },
  {
   "cell_type": "code",
   "execution_count": 205,
   "id": "3baa2d33",
   "metadata": {},
   "outputs": [
    {
     "data": {
      "image/png": "[encoded data removed]",
      "text/plain": [
       "<Figure size 432x288 with 1 Axes>"
      ]
     },
     "metadata": {
      "needs_background": "light"
     },
     "output_type": "display_data"
    }
   ],
   "source": [
    "# Plotting Train Loss vs Validation Loss\n",
    "plt.plot(history_3.history['loss'])\n",
    "plt.plot(history_3.history['val_loss'])\n",
    "plt.title('model loss')\n",
    "plt.ylabel('Loss')\n",
    "plt.xlabel('Epoch')\n",
    "plt.legend(['train', 'validation'], loc='upper left')\n",
    "plt.show()"
   ]
  },
  {
   "cell_type": "markdown",
   "id": "57779354",
   "metadata": {},
   "source": [
    "- After introducing the dropout function of 0.2 and 0.1 at the after the input layer and the first hidden layer respectly, the model is not overfitting\n",
    "- The loss function has reduced very well\n",
    "- Both the validation and train data set are intertwinning , therefore closing the gap of the loss function\n",
    "- The model seems to be generalizing much better now."
   ]
  },
  {
   "cell_type": "code",
   "execution_count": 206,
   "id": "659e3c85",
   "metadata": {},
   "outputs": [
    {
     "name": "stdout",
     "output_type": "stream",
     "text": [
      "200/200 [==============================] - 0s 2ms/step\n",
      "Best Threshold=0.197977, G-Mean=0.794\n"
     ]
    },
    {
     "data": {
      "image/png": "[encoded data removed]",
      "text/plain": [
       "<Figure size 432x288 with 1 Axes>"
      ]
     },
     "metadata": {
      "needs_background": "light"
     },
     "output_type": "display_data"
    }
   ],
   "source": [
    "# predict probabilities\n",
    "yhat = model_3.predict(X_train)\n",
    "# keep probabilities for the positive outcome only\n",
    "yhat = yhat[:, 0]\n",
    "# calculate roc curves\n",
    "fpr, tpr, thresholds = roc_curve(y_train, yhat)\n",
    "# calculate the g-mean for each threshold\n",
    "gmeans = np.sqrt(tpr * (1-fpr))\n",
    "# locate the index of the largest g-mean\n",
    "ix = np.argmax(gmeans)\n",
    "print('Best Threshold=%f, G-Mean=%.3f' % (thresholds[ix], gmeans[ix]))\n",
    "# plot the roc curve for the model\n",
    "pyplot.plot([0,1], [0,1], linestyle='--', label='No Skill')\n",
    "pyplot.plot(fpr, tpr, marker='.', label='Logistic')\n",
    "pyplot.scatter(fpr[ix], tpr[ix], marker='o', color='black', label='Best')\n",
    "# axis labels\n",
    "pyplot.xlabel('False Positive Rate')\n",
    "pyplot.ylabel('True Positive Rate')\n",
    "pyplot.legend()\n",
    "# show the plot\n",
    "pyplot.show()"
   ]
  },
  {
   "cell_type": "markdown",
   "id": "756bc14c",
   "metadata": {},
   "source": [
    "- Best Threshold is 0.198 and gmean is 0.794"
   ]
  },
  {
   "cell_type": "markdown",
   "id": "729b73fa",
   "metadata": {},
   "source": [
    "**Predict the results using  the best  threshold**"
   ]
  },
  {
   "cell_type": "code",
   "execution_count": 207,
   "id": "47b652a2",
   "metadata": {},
   "outputs": [
    {
     "name": "stdout",
     "output_type": "stream",
     "text": [
      "50/50 [==============================] - 0s 2ms/step\n"
     ]
    },
    {
     "data": {
      "text/plain": [
       "array([[ True],\n",
       "       [False],\n",
       "       [False],\n",
       "       ...,\n",
       "       [False],\n",
       "       [ True],\n",
       "       [ True]])"
      ]
     },
     "execution_count": 207,
     "metadata": {},
     "output_type": "execute_result"
    }
   ],
   "source": [
    "#Predicting the results using best as a threshold\n",
    "y_pred_e=model_3.predict(X_val)\n",
    "y_pred_3 = (y_pred_e > thresholds[ix])\n",
    "y_pred_3"
   ]
  },
  {
   "cell_type": "markdown",
   "id": "28767474",
   "metadata": {},
   "source": [
    "**Classification report**"
   ]
  },
  {
   "cell_type": "code",
   "execution_count": 208,
   "id": "1757150c",
   "metadata": {},
   "outputs": [
    {
     "name": "stdout",
     "output_type": "stream",
     "text": [
      "              precision    recall  f1-score   support\n",
      "\n",
      "           0       0.92      0.82      0.87      1274\n",
      "           1       0.51      0.74      0.60       326\n",
      "\n",
      "    accuracy                           0.80      1600\n",
      "   macro avg       0.71      0.78      0.73      1600\n",
      "weighted avg       0.84      0.80      0.81      1600\n",
      "\n"
     ]
    }
   ],
   "source": [
    "#Accuracy as per the classification report \n",
    "from sklearn import metrics\n",
    "cr=metrics.classification_report(y_val,y_pred_3)\n",
    "print(cr)"
   ]
  },
  {
   "cell_type": "markdown",
   "id": "efec5f22",
   "metadata": {},
   "source": [
    "### creating confusion metrix"
   ]
  },
  {
   "cell_type": "code",
   "execution_count": 209,
   "id": "ea33335d",
   "metadata": {},
   "outputs": [
    {
     "data": {
      "image/png": "[encoded data removed]",
      "text/plain": [
       "<Figure size 432x288 with 2 Axes>"
      ]
     },
     "metadata": {
      "needs_background": "light"
     },
     "output_type": "display_data"
    }
   ],
   "source": [
    "#Calculating the confusion matrix \n",
    "from sklearn.metrics import confusion_matrix\n",
    "cm1=confusion_matrix(y_val, y_pred_3)\n",
    "labels = ['True Negative','False Positive','False Negative','True Positive']\n",
    "categories = [ 'Not_Exited','Exited']\n",
    "make_confusion_matrix(cm1, \n",
    "                      group_names=labels,\n",
    "                      categories=categories, \n",
    "                      cmap='Blues')"
   ]
  },
  {
   "cell_type": "markdown",
   "id": "2fe69085",
   "metadata": {},
   "source": [
    "- Recall has reduced to 0.736 from 0.761\n",
    "- Accuracy has slightly increase from 0.792 to 0.799\n",
    "- False Negative has increased to 5.38% from 4.88%\n",
    "- This model is generalizing but not as well as the previous model"
   ]
  },
  {
   "cell_type": "markdown",
   "id": "400a9b8f",
   "metadata": {},
   "source": [
    "### Model Improvement: Neural Network model with Hyperparameter tuning"
   ]
  },
  {
   "cell_type": "code",
   "execution_count": 210,
   "id": "c1548ac1",
   "metadata": {},
   "outputs": [],
   "source": [
    "backend.clear_session()\n",
    "#Fixing the seed for random number generators so that we can ensure we receive the same output everytime\n",
    "np.random.seed(2)\n",
    "random.seed(2)\n",
    "tf.random.set_seed(2)"
   ]
  },
  {
   "cell_type": "code",
   "execution_count": 211,
   "id": "7c824553",
   "metadata": {},
   "outputs": [],
   "source": [
    "def create_model_v2(dropout_rate=0.1,lr=0.001,layer_1=64,layer_2=32):  \n",
    "    np.random.seed(1337)\n",
    "\n",
    "    #Initializing the ANN\n",
    "    model = Sequential()\n",
    "\n",
    "    #Adding the input layer\n",
    "    model.add(Dense(layer_1,activation='relu',input_dim = X_train.shape[1]))\n",
    "\n",
    "    #Adding dropout with dropout rate=0.5\n",
    "    model.add(Dropout(0.5))\n",
    "\n",
    "    # Adding the hidden layer\n",
    "    model.add(Dense(layer_2,activation='relu'))\n",
    "\n",
    "    #Adding the output layer\n",
    "    model.add(Dense(1, activation='sigmoid'))\n",
    "\n",
    "    #Adding Adam initializer and learning rate\n",
    "    optimizer = tf.keras.optimizers.Adam(learning_rate=lr)\n",
    "\n",
    "    #compiling the model using binary_crossentropy as loss\n",
    "    model.compile(optimizer = optimizer,loss = 'binary_crossentropy', metrics = ['accuracy'])\n",
    "    return model"
   ]
  },
  {
   "cell_type": "markdown",
   "id": "251d14a9",
   "metadata": {},
   "source": [
    "### Using Grid search to introduce Batch size and Epochs"
   ]
  },
  {
   "cell_type": "code",
   "execution_count": 216,
   "id": "82a9fd25",
   "metadata": {},
   "outputs": [],
   "source": [
    "## Calling the create_model_v2 function\n",
    "keras_estimator = KerasClassifier(build_fn= create_model_v2, verbose=1)"
   ]
  },
  {
   "cell_type": "code",
   "execution_count": 217,
   "id": "d9fee535",
   "metadata": {},
   "outputs": [],
   "source": [
    "# define the grid search parameters\n",
    "param_grid = {\n",
    "    'batch_size':[40, 64, 128],\n",
    "    \"lr\":[0.01,0.001,0.1]}\n",
    "\n",
    "\n",
    "kfold_splits = 3\n",
    "# Using the the defined keras_estimator as estimator.\n",
    "grid = GridSearchCV(estimator= keras_estimator,  \n",
    "                    verbose=1,\n",
    "                    cv=kfold_splits,  \n",
    "                    param_grid=param_grid,n_jobs=-1)"
   ]
  },
  {
   "cell_type": "code",
   "execution_count": 219,
   "id": "fdda3d76",
   "metadata": {},
   "outputs": [
    {
     "name": "stdout",
     "output_type": "stream",
     "text": [
      "Fitting 3 folds for each of 9 candidates, totalling 27 fits\n",
      "100/100 [==============================] - 1s 4ms/step - loss: 0.4588 - accuracy: 0.8017 - val_loss: 0.4299 - val_accuracy: 0.8056\n",
      "Best: 0.817969 using {'batch_size': 64, 'lr': 0.01}\n"
     ]
    }
   ],
   "source": [
    "## Fitting the model on train data and validation data\n",
    "grid_result = grid.fit(X_train, y_train, validation_data = (X_val,y_val),verbose=1) \n",
    "\n",
    "# Summarize results\n",
    "print(\"Best: %f using %s\" % (grid_result.best_score_, grid_result.best_params_))\n",
    "# Printing mean \n",
    "means = grid_result.cv_results_['mean_test_score']\n",
    "# Printing standard deviation\n",
    "stds = grid_result.cv_results_['std_test_score']\n",
    "# Printing best parameters\n",
    "params = grid_result.cv_results_['params']"
   ]
  },
  {
   "cell_type": "markdown",
   "id": "5bf92964",
   "metadata": {},
   "source": [
    "- For this model fitting 3 folds for 9 candidates, totalling 27 fits. Out of 100 epochs, Batch size of 64 and earning rate of 0.01 at best if 0.817969"
   ]
  },
  {
   "cell_type": "markdown",
   "id": "bb7b3c9c",
   "metadata": {},
   "source": [
    "**creating the final model with the obtained configuration after hyperparameter tuning**"
   ]
  },
  {
   "cell_type": "code",
   "execution_count": 220,
   "id": "383772ba",
   "metadata": {},
   "outputs": [
    {
     "name": "stdout",
     "output_type": "stream",
     "text": [
      "Model: \"sequential_1\"\n",
      "_________________________________________________________________\n",
      " Layer (type)                Output Shape              Param #   \n",
      "=================================================================\n",
      " dense_3 (Dense)             (None, 64)                768       \n",
      "                                                                 \n",
      " dropout_1 (Dropout)         (None, 64)                0         \n",
      "                                                                 \n",
      " dense_4 (Dense)             (None, 32)                2080      \n",
      "                                                                 \n",
      " dense_5 (Dense)             (None, 1)                 33        \n",
      "                                                                 \n",
      "=================================================================\n",
      "Total params: 2,881\n",
      "Trainable params: 2,881\n",
      "Non-trainable params: 0\n",
      "_________________________________________________________________\n"
     ]
    }
   ],
   "source": [
    "# Creating the model\n",
    "estimator_v2=create_model_v2(lr=grid_result.best_params_['lr'])\n",
    "# Printing model summary\n",
    "estimator_v2.summary()"
   ]
  },
  {
   "cell_type": "code",
   "execution_count": null,
   "id": "07c815e4",
   "metadata": {},
   "outputs": [],
   "source": []
  },
  {
   "cell_type": "code",
   "execution_count": 223,
   "id": "f4aa2d52",
   "metadata": {},
   "outputs": [
    {
     "name": "stdout",
     "output_type": "stream",
     "text": [
      "Epoch 1/100\n",
      "100/100 [==============================] - 1s 5ms/step - loss: 0.4593 - accuracy: 0.7998 - val_loss: 0.4288 - val_accuracy: 0.8138\n",
      "Epoch 2/100\n",
      "100/100 [==============================] - 0s 3ms/step - loss: 0.4216 - accuracy: 0.8220 - val_loss: 0.4115 - val_accuracy: 0.8256\n",
      "Epoch 3/100\n",
      "100/100 [==============================] - 0s 3ms/step - loss: 0.4125 - accuracy: 0.8300 - val_loss: 0.4078 - val_accuracy: 0.8263\n",
      "Epoch 4/100\n",
      "100/100 [==============================] - 0s 3ms/step - loss: 0.4044 - accuracy: 0.8320 - val_loss: 0.4031 - val_accuracy: 0.8325\n",
      "Epoch 5/100\n",
      "100/100 [==============================] - 0s 3ms/step - loss: 0.4015 - accuracy: 0.8380 - val_loss: 0.3937 - val_accuracy: 0.8313\n",
      "Epoch 6/100\n",
      "100/100 [==============================] - 0s 3ms/step - loss: 0.3900 - accuracy: 0.8397 - val_loss: 0.3689 - val_accuracy: 0.8512\n",
      "Epoch 7/100\n",
      "100/100 [==============================] - 0s 3ms/step - loss: 0.3819 - accuracy: 0.8447 - val_loss: 0.3668 - val_accuracy: 0.8481\n",
      "Epoch 8/100\n",
      "100/100 [==============================] - 0s 3ms/step - loss: 0.3780 - accuracy: 0.8464 - val_loss: 0.3670 - val_accuracy: 0.8475\n",
      "Epoch 9/100\n",
      "100/100 [==============================] - 0s 3ms/step - loss: 0.3736 - accuracy: 0.8464 - val_loss: 0.3545 - val_accuracy: 0.8569\n",
      "Epoch 10/100\n",
      "100/100 [==============================] - 0s 3ms/step - loss: 0.3719 - accuracy: 0.8444 - val_loss: 0.3623 - val_accuracy: 0.8537\n",
      "Epoch 11/100\n",
      "100/100 [==============================] - 0s 3ms/step - loss: 0.3704 - accuracy: 0.8508 - val_loss: 0.3623 - val_accuracy: 0.8581\n",
      "Epoch 12/100\n",
      "100/100 [==============================] - 0s 3ms/step - loss: 0.3655 - accuracy: 0.8478 - val_loss: 0.3659 - val_accuracy: 0.8456\n",
      "Epoch 13/100\n",
      "100/100 [==============================] - 0s 3ms/step - loss: 0.3631 - accuracy: 0.8525 - val_loss: 0.3615 - val_accuracy: 0.8556\n",
      "Epoch 14/100\n",
      "100/100 [==============================] - 0s 3ms/step - loss: 0.3635 - accuracy: 0.8498 - val_loss: 0.3566 - val_accuracy: 0.8481\n",
      "Epoch 15/100\n",
      "100/100 [==============================] - 0s 4ms/step - loss: 0.3567 - accuracy: 0.8530 - val_loss: 0.3535 - val_accuracy: 0.8519\n",
      "Epoch 16/100\n",
      "100/100 [==============================] - 0s 3ms/step - loss: 0.3596 - accuracy: 0.8531 - val_loss: 0.3561 - val_accuracy: 0.8519\n",
      "Epoch 17/100\n",
      "100/100 [==============================] - 0s 3ms/step - loss: 0.3595 - accuracy: 0.8511 - val_loss: 0.3529 - val_accuracy: 0.8562\n",
      "Epoch 18/100\n",
      "100/100 [==============================] - 0s 3ms/step - loss: 0.3575 - accuracy: 0.8516 - val_loss: 0.3510 - val_accuracy: 0.8531\n",
      "Epoch 19/100\n",
      "100/100 [==============================] - 0s 3ms/step - loss: 0.3551 - accuracy: 0.8544 - val_loss: 0.3593 - val_accuracy: 0.8487\n",
      "Epoch 20/100\n",
      "100/100 [==============================] - 0s 3ms/step - loss: 0.3586 - accuracy: 0.8517 - val_loss: 0.3541 - val_accuracy: 0.8519\n",
      "Epoch 21/100\n",
      "100/100 [==============================] - 0s 3ms/step - loss: 0.3521 - accuracy: 0.8547 - val_loss: 0.3537 - val_accuracy: 0.8625\n",
      "Epoch 22/100\n",
      "100/100 [==============================] - 0s 3ms/step - loss: 0.3547 - accuracy: 0.8550 - val_loss: 0.3426 - val_accuracy: 0.8581\n",
      "Epoch 23/100\n",
      "100/100 [==============================] - 0s 3ms/step - loss: 0.3544 - accuracy: 0.8572 - val_loss: 0.3530 - val_accuracy: 0.8587\n",
      "Epoch 24/100\n",
      "100/100 [==============================] - 0s 3ms/step - loss: 0.3571 - accuracy: 0.8539 - val_loss: 0.3486 - val_accuracy: 0.8537\n",
      "Epoch 25/100\n",
      "100/100 [==============================] - 0s 3ms/step - loss: 0.3516 - accuracy: 0.8584 - val_loss: 0.3558 - val_accuracy: 0.8506\n",
      "Epoch 26/100\n",
      "100/100 [==============================] - 0s 3ms/step - loss: 0.3499 - accuracy: 0.8562 - val_loss: 0.3541 - val_accuracy: 0.8556\n",
      "Epoch 27/100\n",
      "100/100 [==============================] - 0s 3ms/step - loss: 0.3508 - accuracy: 0.8567 - val_loss: 0.3534 - val_accuracy: 0.8544\n",
      "Epoch 28/100\n",
      "100/100 [==============================] - 0s 3ms/step - loss: 0.3468 - accuracy: 0.8605 - val_loss: 0.3595 - val_accuracy: 0.8537\n",
      "Epoch 29/100\n",
      "100/100 [==============================] - 0s 3ms/step - loss: 0.3556 - accuracy: 0.8544 - val_loss: 0.3655 - val_accuracy: 0.8519\n",
      "Epoch 30/100\n",
      "100/100 [==============================] - 0s 3ms/step - loss: 0.3535 - accuracy: 0.8556 - val_loss: 0.3574 - val_accuracy: 0.8531\n",
      "Epoch 31/100\n",
      "100/100 [==============================] - 0s 3ms/step - loss: 0.3481 - accuracy: 0.8547 - val_loss: 0.3603 - val_accuracy: 0.8600\n",
      "Epoch 32/100\n",
      "100/100 [==============================] - 0s 3ms/step - loss: 0.3488 - accuracy: 0.8545 - val_loss: 0.3588 - val_accuracy: 0.8612\n",
      "Epoch 33/100\n",
      "100/100 [==============================] - 0s 4ms/step - loss: 0.3506 - accuracy: 0.8573 - val_loss: 0.3521 - val_accuracy: 0.8656\n",
      "Epoch 34/100\n",
      "100/100 [==============================] - 0s 4ms/step - loss: 0.3475 - accuracy: 0.8572 - val_loss: 0.3528 - val_accuracy: 0.8556\n",
      "Epoch 35/100\n",
      "100/100 [==============================] - 0s 4ms/step - loss: 0.3449 - accuracy: 0.8573 - val_loss: 0.3571 - val_accuracy: 0.8537\n",
      "Epoch 36/100\n",
      "100/100 [==============================] - 0s 4ms/step - loss: 0.3469 - accuracy: 0.8598 - val_loss: 0.3533 - val_accuracy: 0.8512\n",
      "Epoch 37/100\n",
      "100/100 [==============================] - 0s 3ms/step - loss: 0.3442 - accuracy: 0.8609 - val_loss: 0.3507 - val_accuracy: 0.8619\n",
      "Epoch 38/100\n",
      "100/100 [==============================] - 0s 4ms/step - loss: 0.3542 - accuracy: 0.8539 - val_loss: 0.3530 - val_accuracy: 0.8569\n",
      "Epoch 39/100\n",
      "100/100 [==============================] - 0s 3ms/step - loss: 0.3408 - accuracy: 0.8580 - val_loss: 0.3618 - val_accuracy: 0.8569\n",
      "Epoch 40/100\n",
      "100/100 [==============================] - 0s 4ms/step - loss: 0.3401 - accuracy: 0.8622 - val_loss: 0.3599 - val_accuracy: 0.8550\n",
      "Epoch 41/100\n",
      "100/100 [==============================] - 0s 4ms/step - loss: 0.3456 - accuracy: 0.8580 - val_loss: 0.3527 - val_accuracy: 0.8575\n",
      "Epoch 42/100\n",
      "100/100 [==============================] - 0s 3ms/step - loss: 0.3424 - accuracy: 0.8595 - val_loss: 0.3549 - val_accuracy: 0.8550\n",
      "Epoch 43/100\n",
      "100/100 [==============================] - 0s 3ms/step - loss: 0.3421 - accuracy: 0.8591 - val_loss: 0.3604 - val_accuracy: 0.8531\n",
      "Epoch 44/100\n",
      "100/100 [==============================] - 0s 3ms/step - loss: 0.3428 - accuracy: 0.8583 - val_loss: 0.3566 - val_accuracy: 0.8581\n",
      "Epoch 45/100\n",
      "100/100 [==============================] - 0s 3ms/step - loss: 0.3401 - accuracy: 0.8581 - val_loss: 0.3534 - val_accuracy: 0.8637\n",
      "Epoch 46/100\n",
      "100/100 [==============================] - 0s 3ms/step - loss: 0.3456 - accuracy: 0.8564 - val_loss: 0.3579 - val_accuracy: 0.8537\n",
      "Epoch 47/100\n",
      "100/100 [==============================] - 0s 3ms/step - loss: 0.3407 - accuracy: 0.8575 - val_loss: 0.3580 - val_accuracy: 0.8562\n",
      "Epoch 48/100\n",
      "100/100 [==============================] - 0s 3ms/step - loss: 0.3426 - accuracy: 0.8550 - val_loss: 0.3544 - val_accuracy: 0.8525\n",
      "Epoch 49/100\n",
      "100/100 [==============================] - 0s 4ms/step - loss: 0.3443 - accuracy: 0.8578 - val_loss: 0.3580 - val_accuracy: 0.8531\n",
      "Epoch 50/100\n",
      "100/100 [==============================] - 0s 4ms/step - loss: 0.3413 - accuracy: 0.8580 - val_loss: 0.3525 - val_accuracy: 0.8606\n",
      "Epoch 51/100\n",
      "100/100 [==============================] - 0s 3ms/step - loss: 0.3363 - accuracy: 0.8636 - val_loss: 0.3509 - val_accuracy: 0.8619\n",
      "Epoch 52/100\n",
      "100/100 [==============================] - 0s 3ms/step - loss: 0.3418 - accuracy: 0.8584 - val_loss: 0.3590 - val_accuracy: 0.8575\n",
      "Epoch 53/100\n",
      "100/100 [==============================] - 0s 3ms/step - loss: 0.3374 - accuracy: 0.8597 - val_loss: 0.3601 - val_accuracy: 0.8569\n",
      "Epoch 54/100\n",
      "100/100 [==============================] - 0s 3ms/step - loss: 0.3392 - accuracy: 0.8594 - val_loss: 0.3648 - val_accuracy: 0.8475\n",
      "Epoch 55/100\n",
      "100/100 [==============================] - 0s 3ms/step - loss: 0.3397 - accuracy: 0.8545 - val_loss: 0.3614 - val_accuracy: 0.8531\n",
      "Epoch 56/100\n",
      "100/100 [==============================] - 0s 3ms/step - loss: 0.3395 - accuracy: 0.8612 - val_loss: 0.3610 - val_accuracy: 0.8562\n",
      "Epoch 57/100\n",
      "100/100 [==============================] - 0s 4ms/step - loss: 0.3404 - accuracy: 0.8600 - val_loss: 0.3587 - val_accuracy: 0.8587\n",
      "Epoch 58/100\n",
      "100/100 [==============================] - 0s 3ms/step - loss: 0.3378 - accuracy: 0.8628 - val_loss: 0.3540 - val_accuracy: 0.8581\n",
      "Epoch 59/100\n",
      "100/100 [==============================] - 0s 3ms/step - loss: 0.3386 - accuracy: 0.8597 - val_loss: 0.3600 - val_accuracy: 0.8544\n",
      "Epoch 60/100\n",
      "100/100 [==============================] - 0s 3ms/step - loss: 0.3398 - accuracy: 0.8581 - val_loss: 0.3688 - val_accuracy: 0.8537\n",
      "Epoch 61/100\n",
      "100/100 [==============================] - 0s 3ms/step - loss: 0.3373 - accuracy: 0.8631 - val_loss: 0.3619 - val_accuracy: 0.8544\n",
      "Epoch 62/100\n",
      "100/100 [==============================] - 0s 3ms/step - loss: 0.3343 - accuracy: 0.8631 - val_loss: 0.3533 - val_accuracy: 0.8581\n",
      "Epoch 63/100\n",
      "100/100 [==============================] - 0s 3ms/step - loss: 0.3388 - accuracy: 0.8619 - val_loss: 0.3568 - val_accuracy: 0.8506\n",
      "Epoch 64/100\n",
      "100/100 [==============================] - 0s 3ms/step - loss: 0.3335 - accuracy: 0.8664 - val_loss: 0.3658 - val_accuracy: 0.8519\n",
      "Epoch 65/100\n",
      "100/100 [==============================] - 0s 4ms/step - loss: 0.3377 - accuracy: 0.8605 - val_loss: 0.3643 - val_accuracy: 0.8494\n",
      "Epoch 66/100\n",
      "100/100 [==============================] - 0s 4ms/step - loss: 0.3367 - accuracy: 0.8612 - val_loss: 0.3619 - val_accuracy: 0.8525\n",
      "Epoch 67/100\n",
      "100/100 [==============================] - 0s 3ms/step - loss: 0.3348 - accuracy: 0.8602 - val_loss: 0.3563 - val_accuracy: 0.8556\n",
      "Epoch 68/100\n",
      "100/100 [==============================] - 0s 3ms/step - loss: 0.3370 - accuracy: 0.8611 - val_loss: 0.3579 - val_accuracy: 0.8537\n",
      "Epoch 69/100\n",
      "100/100 [==============================] - 0s 4ms/step - loss: 0.3387 - accuracy: 0.8586 - val_loss: 0.3629 - val_accuracy: 0.8506\n",
      "Epoch 70/100\n",
      "100/100 [==============================] - 0s 3ms/step - loss: 0.3329 - accuracy: 0.8598 - val_loss: 0.3680 - val_accuracy: 0.8556\n",
      "Epoch 71/100\n",
      "100/100 [==============================] - 0s 4ms/step - loss: 0.3395 - accuracy: 0.8619 - val_loss: 0.3630 - val_accuracy: 0.8525\n",
      "Epoch 72/100\n",
      "100/100 [==============================] - 0s 3ms/step - loss: 0.3380 - accuracy: 0.8616 - val_loss: 0.3616 - val_accuracy: 0.8562\n",
      "Epoch 73/100\n",
      "100/100 [==============================] - 0s 3ms/step - loss: 0.3324 - accuracy: 0.8595 - val_loss: 0.3577 - val_accuracy: 0.8581\n",
      "Epoch 74/100\n",
      "100/100 [==============================] - 0s 3ms/step - loss: 0.3344 - accuracy: 0.8612 - val_loss: 0.3644 - val_accuracy: 0.8581\n",
      "Epoch 75/100\n",
      "100/100 [==============================] - 0s 3ms/step - loss: 0.3306 - accuracy: 0.8628 - val_loss: 0.3631 - val_accuracy: 0.8594\n",
      "Epoch 76/100\n",
      "100/100 [==============================] - 0s 3ms/step - loss: 0.3391 - accuracy: 0.8595 - val_loss: 0.3592 - val_accuracy: 0.8581\n",
      "Epoch 77/100\n",
      "100/100 [==============================] - 0s 3ms/step - loss: 0.3362 - accuracy: 0.8578 - val_loss: 0.3576 - val_accuracy: 0.8606\n",
      "Epoch 78/100\n",
      "100/100 [==============================] - 0s 3ms/step - loss: 0.3373 - accuracy: 0.8605 - val_loss: 0.3602 - val_accuracy: 0.8606\n",
      "Epoch 79/100\n",
      "100/100 [==============================] - 0s 3ms/step - loss: 0.3287 - accuracy: 0.8628 - val_loss: 0.3610 - val_accuracy: 0.8569\n",
      "Epoch 80/100\n",
      "100/100 [==============================] - 0s 4ms/step - loss: 0.3293 - accuracy: 0.8634 - val_loss: 0.3633 - val_accuracy: 0.8575\n",
      "Epoch 81/100\n",
      "100/100 [==============================] - 0s 4ms/step - loss: 0.3337 - accuracy: 0.8606 - val_loss: 0.3579 - val_accuracy: 0.8631\n",
      "Epoch 82/100\n",
      "100/100 [==============================] - 0s 4ms/step - loss: 0.3353 - accuracy: 0.8605 - val_loss: 0.3645 - val_accuracy: 0.8581\n",
      "Epoch 83/100\n",
      "100/100 [==============================] - 0s 4ms/step - loss: 0.3332 - accuracy: 0.8631 - val_loss: 0.3574 - val_accuracy: 0.8612\n",
      "Epoch 84/100\n",
      "100/100 [==============================] - 0s 4ms/step - loss: 0.3301 - accuracy: 0.8611 - val_loss: 0.3693 - val_accuracy: 0.8556\n",
      "Epoch 85/100\n",
      "100/100 [==============================] - 0s 4ms/step - loss: 0.3329 - accuracy: 0.8661 - val_loss: 0.3624 - val_accuracy: 0.8600\n",
      "Epoch 86/100\n",
      "100/100 [==============================] - 0s 3ms/step - loss: 0.3279 - accuracy: 0.8652 - val_loss: 0.3724 - val_accuracy: 0.8594\n",
      "Epoch 87/100\n",
      "100/100 [==============================] - 0s 4ms/step - loss: 0.3330 - accuracy: 0.8648 - val_loss: 0.3626 - val_accuracy: 0.8562\n",
      "Epoch 88/100\n",
      "100/100 [==============================] - 0s 3ms/step - loss: 0.3323 - accuracy: 0.8608 - val_loss: 0.3629 - val_accuracy: 0.8587\n",
      "Epoch 89/100\n",
      "100/100 [==============================] - 0s 3ms/step - loss: 0.3365 - accuracy: 0.8620 - val_loss: 0.3650 - val_accuracy: 0.8556\n",
      "Epoch 90/100\n",
      "100/100 [==============================] - 0s 3ms/step - loss: 0.3296 - accuracy: 0.8637 - val_loss: 0.3595 - val_accuracy: 0.8600\n",
      "Epoch 91/100\n",
      "100/100 [==============================] - 0s 3ms/step - loss: 0.3341 - accuracy: 0.8611 - val_loss: 0.3659 - val_accuracy: 0.8619\n",
      "Epoch 92/100\n",
      "100/100 [==============================] - 0s 3ms/step - loss: 0.3281 - accuracy: 0.8636 - val_loss: 0.3566 - val_accuracy: 0.8619\n",
      "Epoch 93/100\n",
      "100/100 [==============================] - 0s 3ms/step - loss: 0.3283 - accuracy: 0.8625 - val_loss: 0.3665 - val_accuracy: 0.8587\n",
      "Epoch 94/100\n",
      "100/100 [==============================] - 0s 3ms/step - loss: 0.3354 - accuracy: 0.8641 - val_loss: 0.3661 - val_accuracy: 0.8619\n",
      "Epoch 95/100\n",
      "100/100 [==============================] - 0s 3ms/step - loss: 0.3276 - accuracy: 0.8620 - val_loss: 0.3538 - val_accuracy: 0.8625\n",
      "Epoch 96/100\n",
      "100/100 [==============================] - 0s 3ms/step - loss: 0.3299 - accuracy: 0.8620 - val_loss: 0.3591 - val_accuracy: 0.8612\n",
      "Epoch 97/100\n",
      "100/100 [==============================] - 0s 3ms/step - loss: 0.3325 - accuracy: 0.8623 - val_loss: 0.3629 - val_accuracy: 0.8544\n",
      "Epoch 98/100\n",
      "100/100 [==============================] - 0s 3ms/step - loss: 0.3333 - accuracy: 0.8627 - val_loss: 0.3627 - val_accuracy: 0.8581\n",
      "Epoch 99/100\n",
      "100/100 [==============================] - 0s 3ms/step - loss: 0.3275 - accuracy: 0.8606 - val_loss: 0.3591 - val_accuracy: 0.8587\n",
      "Epoch 100/100\n",
      "100/100 [==============================] - 0s 3ms/step - loss: 0.3241 - accuracy: 0.8633 - val_loss: 0.3601 - val_accuracy: 0.8612\n"
     ]
    }
   ],
   "source": [
    "## Creating the fit for the model on train data and train the model with best params\n",
    "history_h=estimator_v2.fit(X_train,y_train, epochs=100, batch_size = grid_result.best_params_['batch_size'], verbose=1,validation_data=(X_val,y_val))"
   ]
  },
  {
   "cell_type": "markdown",
   "id": "b7cac850",
   "metadata": {},
   "source": [
    "**Loss function**"
   ]
  },
  {
   "cell_type": "code",
   "execution_count": 224,
   "id": "6c9f083b",
   "metadata": {},
   "outputs": [
    {
     "data": {
      "image/png": "[encoded data removed]",
      "text/plain": [
       "<Figure size 576x432 with 1 Axes>"
      ]
     },
     "metadata": {
      "needs_background": "light"
     },
     "output_type": "display_data"
    }
   ],
   "source": [
    "N =100\n",
    "plt.figure(figsize=(8,6))\n",
    "plt.plot(np.arange(0, N), history_h.history[\"loss\"], label=\"train_loss\")\n",
    "plt.plot(np.arange(0, N), history_h.history[\"val_loss\"], label=\"val_loss\")\n",
    "\n",
    "plt.title(\"Training Loss and Validation loss on the dataset\")\n",
    "plt.xlabel(\"Epoch #\")\n",
    "plt.ylabel(\"train_Loss/val_loss\")\n",
    "plt.legend(loc=\"center\")\n",
    "plt.show()"
   ]
  },
  {
   "cell_type": "markdown",
   "id": "d3b1e0e4",
   "metadata": {},
   "source": [
    "- From the plot above after adding the batch size, presense of noise, some level of distortion and the training data is overfitting and has some imbalance dataset\n",
    "- The loss function has increased in gap as the epoch increases\n",
    "- this model doesnt generalizes "
   ]
  },
  {
   "cell_type": "markdown",
   "id": "ff25afd4",
   "metadata": {},
   "source": [
    "**Threshold**"
   ]
  },
  {
   "cell_type": "code",
   "execution_count": 225,
   "id": "cf345443",
   "metadata": {},
   "outputs": [
    {
     "name": "stdout",
     "output_type": "stream",
     "text": [
      "200/200 [==============================] - 0s 1ms/step\n",
      "Best Threshold=0.230724, G-Mean=0.813\n"
     ]
    },
    {
     "data": {
      "image/png": "[encoded data removed]",
      "text/plain": [
       "<Figure size 432x288 with 1 Axes>"
      ]
     },
     "metadata": {
      "needs_background": "light"
     },
     "output_type": "display_data"
    }
   ],
   "source": [
    "# predict probabilities\n",
    "yhat = estimator_v2.predict(X_train)\n",
    "# keep probabilities for the positive outcome only\n",
    "yhat = yhat[:, 0]\n",
    "# calculate roc curves\n",
    "fpr, tpr, thresholds = roc_curve(y_train, yhat)\n",
    "# calculate the g-mean for each threshold\n",
    "gmeans = np.sqrt(tpr * (1-fpr))\n",
    "# locate the index of the largest g-mean\n",
    "ix = np.argmax(gmeans)\n",
    "print('Best Threshold=%f, G-Mean=%.3f' % (thresholds[ix], gmeans[ix]))\n",
    "# plot the roc curve for the model\n",
    "pyplot.plot([0,1], [0,1], linestyle='--', label='No Skill')\n",
    "pyplot.plot(fpr, tpr, marker='.', label='Logistic')\n",
    "pyplot.scatter(fpr[ix], tpr[ix], marker='o', color='black', label='Best')\n",
    "# axis labels\n",
    "pyplot.xlabel('False Positive Rate')\n",
    "pyplot.ylabel('True Positive Rate')\n",
    "pyplot.legend()\n",
    "# show the plot\n",
    "pyplot.show()"
   ]
  },
  {
   "cell_type": "markdown",
   "id": "7dc84331",
   "metadata": {},
   "source": [
    "- Best Threshold has increased from Threshold=0.197977, G-Mean=0.794 to 0.230724 and gmean to 0.813"
   ]
  },
  {
   "cell_type": "markdown",
   "id": "12a17d60",
   "metadata": {},
   "source": [
    "**Predict the results using  the best  threshold**"
   ]
  },
  {
   "cell_type": "code",
   "execution_count": 226,
   "id": "10d7d22f",
   "metadata": {},
   "outputs": [
    {
     "name": "stdout",
     "output_type": "stream",
     "text": [
      "50/50 [==============================] - 0s 2ms/step\n",
      "[[0.13304731]\n",
      " [0.00305856]\n",
      " [0.02852563]\n",
      " ...\n",
      " [0.19741079]\n",
      " [0.46882552]\n",
      " [0.45529923]]\n"
     ]
    }
   ],
   "source": [
    "# Predicting the result of the best threshold\n",
    "y_pred_h = estimator_v2.predict(X_val)\n",
    "print(y_pred_h)"
   ]
  },
  {
   "cell_type": "code",
   "execution_count": 227,
   "id": "7e88fbb1",
   "metadata": {},
   "outputs": [
    {
     "name": "stdout",
     "output_type": "stream",
     "text": [
      "[[False]\n",
      " [False]\n",
      " [False]\n",
      " ...\n",
      " [False]\n",
      " [ True]\n",
      " [ True]]\n"
     ]
    }
   ],
   "source": [
    "# To use the confusion Matrix, we need to convert the probabilities that a customer will leave the bank into the form true or false. \n",
    "# So we will use the best cutoff value  to indicate whether they are likely to exit or not.\n",
    "y_pred_h = (y_pred_h > thresholds[ix])\n",
    "print(y_pred_h)"
   ]
  },
  {
   "cell_type": "markdown",
   "id": "08fa8bf1",
   "metadata": {},
   "source": [
    "**Classification report**"
   ]
  },
  {
   "cell_type": "code",
   "execution_count": 228,
   "id": "82734e55",
   "metadata": {},
   "outputs": [
    {
     "name": "stdout",
     "output_type": "stream",
     "text": [
      "              precision    recall  f1-score   support\n",
      "\n",
      "           0       0.92      0.79      0.85      1274\n",
      "           1       0.48      0.74      0.58       326\n",
      "\n",
      "    accuracy                           0.78      1600\n",
      "   macro avg       0.70      0.77      0.72      1600\n",
      "weighted avg       0.83      0.78      0.80      1600\n",
      "\n"
     ]
    }
   ],
   "source": [
    "#Accuracy as per the classification report \n",
    "from sklearn import metrics\n",
    "cr=metrics.classification_report(y_val,y_pred_h)\n",
    "print(cr)"
   ]
  },
  {
   "cell_type": "markdown",
   "id": "a5e1ca9d",
   "metadata": {},
   "source": [
    "### Confusion Metrix"
   ]
  },
  {
   "cell_type": "code",
   "execution_count": 233,
   "id": "732d8298",
   "metadata": {},
   "outputs": [
    {
     "data": {
      "image/png": "[encoded data removed]",
      "text/plain": [
       "<Figure size 432x288 with 2 Axes>"
      ]
     },
     "metadata": {
      "needs_background": "light"
     },
     "output_type": "display_data"
    }
   ],
   "source": [
    "#Calculating the confusion matrix \n",
    "from sklearn.metrics import confusion_matrix\n",
    "cm_h=confusion_matrix(y_val, y_pred_h)\n",
    "labels = ['True Negative','False Positive','False Negative','True Positive']\n",
    "categories = [ 'Not_Exited','Exited']\n",
    "make_confusion_matrix(cm_h, \n",
    "                      group_names=labels,\n",
    "                      categories=categories, \n",
    "                      cmap='BuPu')"
   ]
  },
  {
   "cell_type": "markdown",
   "id": "3d2c9301",
   "metadata": {},
   "source": [
    "- From the plot above, Recall has slightly increased from 0.736 to 0.742\n",
    "- False Negative has slightly reduced from 5.38% to 5.25%\n",
    "- Accuracy has also slightly decrease from 0.799 to 0.782 "
   ]
  },
  {
   "cell_type": "markdown",
   "id": "88486c2e",
   "metadata": {},
   "source": [
    "### Model Improvement: Neural Network model with balanced data"
   ]
  },
  {
   "cell_type": "markdown",
   "id": "4463be35",
   "metadata": {},
   "source": [
    "**Apply SMOTE to balance this dataset.**"
   ]
  },
  {
   "cell_type": "markdown",
   "id": "a9f4280f",
   "metadata": {},
   "source": [
    "### SMOTE + Keras Tuner"
   ]
  },
  {
   "cell_type": "code",
   "execution_count": 241,
   "id": "a551e020",
   "metadata": {},
   "outputs": [
    {
     "name": "stdout",
     "output_type": "stream",
     "text": [
      "After UpSampling, the shape of train_X: (10192, 11)\n",
      "After UpSampling, the shape of train_y: (10192, 1) \n",
      "\n"
     ]
    }
   ],
   "source": [
    "##Applying SMOTE on train and test\n",
    "from imblearn.over_sampling import SMOTE\n",
    "sm  = SMOTE(random_state=42)\n",
    "X_train, y_train = sm.fit_resample(X_train,y_train)\n",
    "print('After UpSampling, the shape of train_X: {}'.format(X_train.shape)) \n",
    "print('After UpSampling, the shape of train_y: {} \\n'.format(y_train.shape))"
   ]
  },
  {
   "cell_type": "code",
   "execution_count": 243,
   "id": "fae4d406",
   "metadata": {},
   "outputs": [],
   "source": [
    "backend.clear_session()\n",
    "np.random.seed(42)\n",
    "import random\n",
    "random.seed(42)\n",
    "tf.random.set_seed(42)"
   ]
  },
  {
   "cell_type": "code",
   "execution_count": 246,
   "id": "f15e5bb1",
   "metadata": {},
   "outputs": [],
   "source": [
    "#Initializing ANN\n",
    "model_4 = Sequential()\n",
    "\n",
    "#Adding the input layer with 32 neurons and relu as activation function\n",
    "model_4.add(Dense(32,activation='relu',input_dim = X_train.shape[1]))\n",
    "\n",
    "# Adding dropout\n",
    "model_4.add(Dropout(0.2))\n",
    "\n",
    "# Adding the first hidden layer with 16 neurons with relu as activation functions\n",
    "model_4.add(Dense(16,activation='relu'))\n",
    "\n",
    "#Adding dropout\n",
    "model_4.add(Dropout(0.1))\n",
    "\n",
    "# Adding the second hidden layer with 8 neurons with relu as activation functions\n",
    "model_4.add(Dense(8,activation='relu'))\n",
    "\n",
    "# Adding the output layer\n",
    "model_4.add(Dense(1, activation = 'sigmoid'))"
   ]
  },
  {
   "cell_type": "code",
   "execution_count": 247,
   "id": "0bd77b10",
   "metadata": {},
   "outputs": [
    {
     "name": "stdout",
     "output_type": "stream",
     "text": [
      "Model: \"sequential\"\n",
      "_________________________________________________________________\n",
      " Layer (type)                Output Shape              Param #   \n",
      "=================================================================\n",
      " dense (Dense)               (None, 32)                384       \n",
      "                                                                 \n",
      " dropout (Dropout)           (None, 32)                0         \n",
      "                                                                 \n",
      " dense_1 (Dense)             (None, 16)                528       \n",
      "                                                                 \n",
      " dropout_1 (Dropout)         (None, 16)                0         \n",
      "                                                                 \n",
      " dense_2 (Dense)             (None, 8)                 136       \n",
      "                                                                 \n",
      " dense_3 (Dense)             (None, 1)                 9         \n",
      "                                                                 \n",
      "=================================================================\n",
      "Total params: 1,057\n",
      "Trainable params: 1,057\n",
      "Non-trainable params: 0\n",
      "_________________________________________________________________\n"
     ]
    }
   ],
   "source": [
    "# Summary of the model\n",
    "model_4.summary()"
   ]
  },
  {
   "cell_type": "code",
   "execution_count": 248,
   "id": "1b13f827",
   "metadata": {},
   "outputs": [
    {
     "name": "stdout",
     "output_type": "stream",
     "text": [
      "Epoch 1/100\n",
      "160/160 [==============================] - 2s 4ms/step - loss: 0.6456 - accuracy: 0.6349 - val_loss: 0.5489 - val_accuracy: 0.7500\n",
      "Epoch 2/100\n",
      "160/160 [==============================] - 1s 3ms/step - loss: 0.5742 - accuracy: 0.7109 - val_loss: 0.5080 - val_accuracy: 0.7581\n",
      "Epoch 3/100\n",
      "160/160 [==============================] - 0s 3ms/step - loss: 0.5548 - accuracy: 0.7281 - val_loss: 0.5501 - val_accuracy: 0.7144\n",
      "Epoch 4/100\n",
      "160/160 [==============================] - 1s 3ms/step - loss: 0.5420 - accuracy: 0.7346 - val_loss: 0.5300 - val_accuracy: 0.7275\n",
      "Epoch 5/100\n",
      "160/160 [==============================] - 1s 3ms/step - loss: 0.5338 - accuracy: 0.7365 - val_loss: 0.5101 - val_accuracy: 0.7444\n",
      "Epoch 6/100\n",
      "160/160 [==============================] - 1s 3ms/step - loss: 0.5260 - accuracy: 0.7410 - val_loss: 0.5303 - val_accuracy: 0.7262\n",
      "Epoch 7/100\n",
      "160/160 [==============================] - 1s 4ms/step - loss: 0.5179 - accuracy: 0.7470 - val_loss: 0.4972 - val_accuracy: 0.7644\n",
      "Epoch 8/100\n",
      "160/160 [==============================] - 1s 4ms/step - loss: 0.5080 - accuracy: 0.7559 - val_loss: 0.5182 - val_accuracy: 0.7481\n",
      "Epoch 9/100\n",
      "160/160 [==============================] - 1s 4ms/step - loss: 0.5027 - accuracy: 0.7618 - val_loss: 0.4871 - val_accuracy: 0.7763\n",
      "Epoch 10/100\n",
      "160/160 [==============================] - 1s 3ms/step - loss: 0.4895 - accuracy: 0.7690 - val_loss: 0.4948 - val_accuracy: 0.7694\n",
      "Epoch 11/100\n",
      "160/160 [==============================] - 1s 4ms/step - loss: 0.4875 - accuracy: 0.7692 - val_loss: 0.4954 - val_accuracy: 0.7725\n",
      "Epoch 12/100\n",
      "160/160 [==============================] - 1s 3ms/step - loss: 0.4850 - accuracy: 0.7726 - val_loss: 0.4804 - val_accuracy: 0.7781\n",
      "Epoch 13/100\n",
      "160/160 [==============================] - 1s 4ms/step - loss: 0.4780 - accuracy: 0.7761 - val_loss: 0.4935 - val_accuracy: 0.7738\n",
      "Epoch 14/100\n",
      "160/160 [==============================] - 1s 3ms/step - loss: 0.4745 - accuracy: 0.7757 - val_loss: 0.4676 - val_accuracy: 0.7844\n",
      "Epoch 15/100\n",
      "160/160 [==============================] - 1s 4ms/step - loss: 0.4681 - accuracy: 0.7825 - val_loss: 0.4573 - val_accuracy: 0.7919\n",
      "Epoch 16/100\n",
      "160/160 [==============================] - 1s 3ms/step - loss: 0.4637 - accuracy: 0.7865 - val_loss: 0.4677 - val_accuracy: 0.7844\n",
      "Epoch 17/100\n",
      "160/160 [==============================] - 1s 3ms/step - loss: 0.4655 - accuracy: 0.7859 - val_loss: 0.4664 - val_accuracy: 0.7844\n",
      "Epoch 18/100\n",
      "160/160 [==============================] - 1s 3ms/step - loss: 0.4495 - accuracy: 0.7963 - val_loss: 0.4514 - val_accuracy: 0.7956\n",
      "Epoch 19/100\n",
      "160/160 [==============================] - 1s 3ms/step - loss: 0.4494 - accuracy: 0.7932 - val_loss: 0.4471 - val_accuracy: 0.7981\n",
      "Epoch 20/100\n",
      "160/160 [==============================] - 1s 3ms/step - loss: 0.4481 - accuracy: 0.7904 - val_loss: 0.4391 - val_accuracy: 0.8025\n",
      "Epoch 21/100\n",
      "160/160 [==============================] - 0s 3ms/step - loss: 0.4437 - accuracy: 0.7961 - val_loss: 0.4360 - val_accuracy: 0.8056\n",
      "Epoch 22/100\n",
      "160/160 [==============================] - 1s 3ms/step - loss: 0.4467 - accuracy: 0.7964 - val_loss: 0.4342 - val_accuracy: 0.8087\n",
      "Epoch 23/100\n",
      "160/160 [==============================] - 0s 3ms/step - loss: 0.4379 - accuracy: 0.7944 - val_loss: 0.4362 - val_accuracy: 0.8019\n",
      "Epoch 24/100\n",
      "160/160 [==============================] - 1s 3ms/step - loss: 0.4348 - accuracy: 0.7994 - val_loss: 0.4372 - val_accuracy: 0.7987\n",
      "Epoch 25/100\n",
      "160/160 [==============================] - 1s 3ms/step - loss: 0.4337 - accuracy: 0.7981 - val_loss: 0.4258 - val_accuracy: 0.8144\n",
      "Epoch 26/100\n",
      "160/160 [==============================] - 1s 3ms/step - loss: 0.4304 - accuracy: 0.8047 - val_loss: 0.4321 - val_accuracy: 0.8112\n",
      "Epoch 27/100\n",
      "160/160 [==============================] - 0s 3ms/step - loss: 0.4287 - accuracy: 0.7995 - val_loss: 0.4351 - val_accuracy: 0.8112\n",
      "Epoch 28/100\n",
      "160/160 [==============================] - 0s 3ms/step - loss: 0.4284 - accuracy: 0.8019 - val_loss: 0.4348 - val_accuracy: 0.8031\n",
      "Epoch 29/100\n",
      "160/160 [==============================] - 1s 3ms/step - loss: 0.4284 - accuracy: 0.8018 - val_loss: 0.4557 - val_accuracy: 0.7956\n",
      "Epoch 30/100\n",
      "160/160 [==============================] - 1s 3ms/step - loss: 0.4251 - accuracy: 0.8059 - val_loss: 0.4397 - val_accuracy: 0.8006\n"
     ]
    }
   ],
   "source": [
    "# Defining earlystopping as callback\n",
    "es_cb = callbacks.EarlyStopping(monitor='val_loss', min_delta=0.001, patience=5)\n",
    "\n",
    "# Initializing Adam optimizer\n",
    "optimizer = tf.keras.optimizers.Adam(0.001)\n",
    "\n",
    "# Compiling the model\n",
    "model_4.compile(optimizer = optimizer,loss = 'binary_crossentropy', metrics = ['accuracy'])\n",
    "\n",
    "# Fitting the model after Early stopping\n",
    "history_4 = model_4.fit(X_train, y_train,batch_size= 64, epochs=100, verbose=1, validation_data = (X_val,y_val),callbacks=[es_cb])"
   ]
  },
  {
   "cell_type": "markdown",
   "id": "da89b361",
   "metadata": {},
   "source": [
    "**Loss function**"
   ]
  },
  {
   "cell_type": "code",
   "execution_count": 249,
   "id": "cd06e8ba",
   "metadata": {},
   "outputs": [
    {
     "data": {
      "text/plain": [
       "<matplotlib.legend.Legend at 0x1c31aedab50>"
      ]
     },
     "execution_count": 249,
     "metadata": {},
     "output_type": "execute_result"
    },
    {
     "data": {
      "image/png": "[encoded data removed]",
      "text/plain": [
       "<Figure size 432x288 with 1 Axes>"
      ]
     },
     "metadata": {
      "needs_background": "light"
     },
     "output_type": "display_data"
    }
   ],
   "source": [
    "# Capturing learning history per epoch\n",
    "hist  = pd.DataFrame(history_4.history)\n",
    "hist['epoch'] = history_4.epoch\n",
    "\n",
    "# Plotting accuracy at different epochs\n",
    "plt.plot(hist['loss'])\n",
    "plt.plot(hist['val_loss'])\n",
    "plt.legend((\"train\" , \"valid\") , loc =0)"
   ]
  },
  {
   "cell_type": "markdown",
   "id": "467dc3c5",
   "metadata": {},
   "source": [
    "- From the plot above, both the validation and train data are intertwining but the model is overfitting\n",
    "- The training data is not smooth, has some imbalance data and distortion mostly on the validate data"
   ]
  },
  {
   "cell_type": "markdown",
   "id": "e0f3da74",
   "metadata": {},
   "source": [
    "**Finding the optimal  threshold**"
   ]
  },
  {
   "cell_type": "code",
   "execution_count": 250,
   "id": "f64846d1",
   "metadata": {},
   "outputs": [
    {
     "name": "stdout",
     "output_type": "stream",
     "text": [
      "319/319 [==============================] - 1s 1ms/step\n",
      "Best Threshold=0.489017, G-Mean=0.823\n"
     ]
    },
    {
     "data": {
      "image/png": "[encoded data removed]",
      "text/plain": [
       "<Figure size 432x288 with 1 Axes>"
      ]
     },
     "metadata": {
      "needs_background": "light"
     },
     "output_type": "display_data"
    }
   ],
   "source": [
    "## Finding the optimal threshold using X_train\n",
    "yhat = model_4.predict(X_train)\n",
    "\n",
    "# keep probabilities for the positive outcome only\n",
    "yhat = yhat[:, 0]\n",
    "# calculate roc curves\n",
    "fpr, tpr, thresholds = roc_curve(y_train, yhat)\n",
    "# calculate the g-mean for each threshold\n",
    "gmeans = np.sqrt(tpr * (1-fpr))\n",
    "# locate the index of the largest g-mean\n",
    "ix = np.argmax(gmeans)\n",
    "print('Best Threshold=%f, G-Mean=%.3f' % (thresholds[ix], gmeans[ix]))\n",
    "# plot the roc curve for the model\n",
    "pyplot.plot([0,1], [0,1], linestyle='--', label='No Skill')\n",
    "pyplot.plot(fpr, tpr, marker='.', label='Logistic')\n",
    "pyplot.scatter(fpr[ix], tpr[ix], marker='o', color='black', label='Best')\n",
    "# axis labels\n",
    "pyplot.xlabel('False Positive Rate')\n",
    "pyplot.ylabel('True Positive Rate')\n",
    "pyplot.legend()\n",
    "# show the plot\n",
    "pyplot.show()"
   ]
  },
  {
   "cell_type": "code",
   "execution_count": null,
   "id": "e0080d51",
   "metadata": {},
   "outputs": [],
   "source": []
  },
  {
   "cell_type": "code",
   "execution_count": 251,
   "id": "96b7c97d",
   "metadata": {},
   "outputs": [
    {
     "name": "stdout",
     "output_type": "stream",
     "text": [
      "50/50 [==============================] - 0s 2ms/step\n"
     ]
    },
    {
     "data": {
      "text/plain": [
       "array([[False],\n",
       "       [False],\n",
       "       [False],\n",
       "       ...,\n",
       "       [False],\n",
       "       [ True],\n",
       "       [ True]])"
      ]
     },
     "execution_count": 251,
     "metadata": {},
     "output_type": "execute_result"
    }
   ],
   "source": [
    "## The predictions on X_val\n",
    "y_pred_s = model_4.predict(X_val)\n",
    "#Predicting the results using tuned threshold\n",
    "y_pred_s = (y_pred_s >thresholds[ix])\n",
    "y_pred_s"
   ]
  },
  {
   "cell_type": "markdown",
   "id": "10c76242",
   "metadata": {},
   "source": [
    "**Classification report**"
   ]
  },
  {
   "cell_type": "code",
   "execution_count": 252,
   "id": "11c31a15",
   "metadata": {},
   "outputs": [
    {
     "name": "stdout",
     "output_type": "stream",
     "text": [
      "              precision    recall  f1-score   support\n",
      "\n",
      "           0       0.92      0.82      0.87      1274\n",
      "           1       0.51      0.72      0.60       326\n",
      "\n",
      "    accuracy                           0.80      1600\n",
      "   macro avg       0.71      0.77      0.73      1600\n",
      "weighted avg       0.84      0.80      0.81      1600\n",
      "\n"
     ]
    }
   ],
   "source": [
    "cr=metrics.classification_report(y_val,y_pred_s)\n",
    "print(cr)"
   ]
  },
  {
   "cell_type": "markdown",
   "id": "25ea1378",
   "metadata": {},
   "source": [
    "**Confusion matrix**"
   ]
  },
  {
   "cell_type": "code",
   "execution_count": 253,
   "id": "81fcbe21",
   "metadata": {},
   "outputs": [
    {
     "data": {
      "image/png": "[encoded data removed]",
      "text/plain": [
       "<Figure size 432x288 with 2 Axes>"
      ]
     },
     "metadata": {
      "needs_background": "light"
     },
     "output_type": "display_data"
    }
   ],
   "source": [
    "#Calculating the confusion matrix \n",
    "cm_s=confusion_matrix(y_val, y_pred_s)\n",
    "labels = ['True Negative','False Positive','False Negative','True Positive']\n",
    "categories = [ 'Not_Exited','Exited']\n",
    "make_confusion_matrix(cm_s, \n",
    "                      group_names=labels,\n",
    "                      categories=categories, \n",
    "                      cmap='Blues')"
   ]
  },
  {
   "cell_type": "markdown",
   "id": "a402740d",
   "metadata": {},
   "source": [
    "- From the plot above, the Accuracy has increased to 0.800\n",
    "- False Negative has increased to 5.62%\n",
    "- Recall has reduced to 0.724 from 0.742"
   ]
  },
  {
   "cell_type": "markdown",
   "id": "8085292b",
   "metadata": {},
   "source": [
    "## Final Model"
   ]
  },
  {
   "cell_type": "code",
   "execution_count": 270,
   "id": "dd003e2a",
   "metadata": {},
   "outputs": [
    {
     "name": "stdout",
     "output_type": "stream",
     "text": [
      "319/319 [==============================] - 1s 2ms/step\n",
      "Best Threshold=0.198872, G-Mean=0.821\n"
     ]
    },
    {
     "data": {
      "image/png": "[encoded data removed]",
      "text/plain": [
       "<Figure size 432x288 with 1 Axes>"
      ]
     },
     "metadata": {
      "needs_background": "light"
     },
     "output_type": "display_data"
    }
   ],
   "source": [
    "# predict probabilities using the best model\n",
    "yhat = model_e.predict(X_train)\n",
    "# keep probabilities for the positive outcome only\n",
    "yhat = yhat[:, 0]\n",
    "# calculate roc curves\n",
    "fpr, tpr, thresholds = roc_curve(y_train, yhat)\n",
    "# calculate the g-mean for each threshold\n",
    "gmeans = np.sqrt(tpr * (1-fpr))\n",
    "# locate the index of the largest g-mean\n",
    "ix = np.argmax(gmeans)\n",
    "print('Best Threshold=%f, G-Mean=%.3f' % (thresholds[ix], gmeans[ix]))\n",
    "# plot the roc curve for the model\n",
    "pyplot.plot([0,1], [0,1], linestyle='--', label='No Skill')\n",
    "pyplot.plot(fpr, tpr, marker='.', label='Logistic')\n",
    "pyplot.scatter(fpr[ix], tpr[ix], marker='o', color='black', label='Best')\n",
    "# axis labels\n",
    "pyplot.xlabel('False Positive Rate')\n",
    "pyplot.ylabel('True Positive Rate')\n",
    "pyplot.legend()\n",
    "# show the plot\n",
    "pyplot.show()"
   ]
  },
  {
   "cell_type": "code",
   "execution_count": 271,
   "id": "e763f94d",
   "metadata": {},
   "outputs": [
    {
     "name": "stdout",
     "output_type": "stream",
     "text": [
      "63/63 [==============================] - 0s 2ms/step\n",
      "[[False]\n",
      " [False]\n",
      " [False]\n",
      " ...\n",
      " [ True]\n",
      " [False]\n",
      " [False]]\n"
     ]
    }
   ],
   "source": [
    "# Predicting the X_test data using the best model\n",
    "y_pred_test = model_e.predict(X_test)\n",
    "y_pred_test = (y_pred_test > thresholds[ix])\n",
    "print(y_pred_test)"
   ]
  },
  {
   "cell_type": "markdown",
   "id": "af8fa234",
   "metadata": {},
   "source": [
    "**Classification report**"
   ]
  },
  {
   "cell_type": "code",
   "execution_count": 272,
   "id": "57fc2e50",
   "metadata": {},
   "outputs": [
    {
     "name": "stdout",
     "output_type": "stream",
     "text": [
      "              precision    recall  f1-score   support\n",
      "\n",
      "           0       0.92      0.82      0.87      1593\n",
      "           1       0.51      0.72      0.60       407\n",
      "\n",
      "    accuracy                           0.80      2000\n",
      "   macro avg       0.72      0.77      0.73      2000\n",
      "weighted avg       0.84      0.80      0.81      2000\n",
      "\n"
     ]
    }
   ],
   "source": [
    "## Classification report on y_test and the predicted values\n",
    "cr=metrics.classification_report(y_test,y_pred_test)\n",
    "print(cr)"
   ]
  },
  {
   "cell_type": "markdown",
   "id": "7f13320d",
   "metadata": {},
   "source": [
    "**Confusion report**"
   ]
  },
  {
   "cell_type": "code",
   "execution_count": 273,
   "id": "f30533b9",
   "metadata": {},
   "outputs": [
    {
     "data": {
      "image/png": "[encoded data removed]",
      "text/plain": [
       "<Figure size 432x288 with 2 Axes>"
      ]
     },
     "metadata": {
      "needs_background": "light"
     },
     "output_type": "display_data"
    }
   ],
   "source": [
    "# Calculating the confusion matrix \n",
    "cm_h=confusion_matrix(y_test,y_pred_test)\n",
    "labels = ['True Negative','False Positive','False Negative','True Positive']\n",
    "categories = [ 'Not_Exited','Exited']\n",
    "make_confusion_matrix(cm_h, \n",
    "                      group_names=labels,\n",
    "                      categories=categories, \n",
    "                      cmap='Blues')"
   ]
  },
  {
   "cell_type": "markdown",
   "id": "0cd7b48a",
   "metadata": {},
   "source": [
    "- From the plot above with Test dataset, Recall is 0.722 from 0.761 with validation dataset\n",
    "- Accuracy is 0.802 from 0.799 with validation dataset\n",
    "- False Negative has the value of 5.65% from 5.38% with validation dataset\n",
    "- This model is generalizing well with the dataset both on training and testing.\n",
    "- More hyperparameters can be used to fine tuned this model further."
   ]
  },
  {
   "cell_type": "markdown",
   "id": "d86b60ab",
   "metadata": {},
   "source": [
    "## Actionable Insights and Business Recommendations"
   ]
  },
  {
   "cell_type": "markdown",
   "id": "499c3153",
   "metadata": {},
   "source": [
    "- Surveys should be shared with customers to get their feedbacks so as to develop more strategic products that would encourage the customers to not churn or exit the bank.\n",
    "\n",
    "- More strategies, attractive marketing policies and products should be developed for the customers that have from 5000 and above balance in order to prevent churning/exiting the bank.\n",
    "\n",
    "- As a strategy, customers with more account balance priorities should be given to them to prevent exiting the bank.\n",
    "\n",
    "- Customers, that have been with the bank up to 3 year and more are likely to exit the bank.\n",
    "\n",
    "- The longer the customers stayed with the bank, the more likely they would exit the bank.\n",
    "\n",
    "- Older customers should be given some sense of belonging or insentives that would encourage them not to exit the bank.\n",
    "\n",
    "- Cutomers from above 45 years are likely to exit the bank, most especially as the customers get older between 70 to 85 years.\n",
    "\n",
    "- More products, marketing strategies and policies should be built targeting the elderly customers and the younger customers including some retirement products/packages.\n",
    "\n",
    "- sustainable products strategies should be develop between the older-exiting customers and their family members for continuity and sustainability.\n",
    "\n",
    "- Customers with creditscore lower than 400 are likely to churn or exit the bank.\n",
    "\n",
    "- The customers with lower creditscore and with outliers lower than 400 are likely to churn/exit the bank.\n",
    "\n",
    "- More strategies and policies should be developed and deployed in order to encourage customers with credit scores from 400 and below to get more credit scores for the purpose of keeping the customers and preventing them from churning/exiting the bank.\n",
    "\n",
    "- Therefore, surveys should be sents to the inactive members to get there feedbacks so as to develop ploicies and strategies that would engage the customers and keep them active and prevent them from churning/exiting the bank.\n",
    "\n",
    "- Even though the men are more than the Female customers, yet more priority policies for the Female customers should be developed and deployed in order to prevent churning the bank.\n",
    "\n",
    "- More priorities and strategic policies should be developed about how to retain and increase the number of Female customers and how to retain them.\n",
    "\n",
    "- Spain and France are within range of customers that have high tendercy of not exiting the bank.\n",
    "\n",
    "- Therefore, more attentions and strategic policies should be made that would focus on the customers in spain and France most expecially customers in Germany in order to retain them and reduce their possibilities of exiting the bank.\n"
   ]
  },
  {
   "cell_type": "code",
   "execution_count": null,
   "id": "cae676dd",
   "metadata": {},
   "outputs": [],
   "source": []
  }
 ],
 "metadata": {
  "kernelspec": {
   "display_name": "Python 3",
   "language": "python",
   "name": "python3"
  },
  "language_info": {
   "codemirror_mode": {
    "name": "ipython",
    "version": 3
   },
   "file_extension": ".py",
   "mimetype": "text/x-python",
   "name": "python",
   "nbconvert_exporter": "python",
   "pygments_lexer": "ipython3",
   "version": "3.8.8"
  }
 },
 "nbformat": 4,
 "nbformat_minor": 5
}
